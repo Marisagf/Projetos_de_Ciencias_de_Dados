{
  "nbformat": 4,
  "nbformat_minor": 0,
  "metadata": {
    "colab": {
      "provenance": [],
      "mount_file_id": "1Usj4kpb6cQNNnkIno9IiwnvIHy-KV7vg",
      "authorship_tag": "ABX9TyMfjL1PUROgq/wcvdAbz178",
      "include_colab_link": true
    },
    "kernelspec": {
      "name": "python3",
      "display_name": "Python 3"
    },
    "language_info": {
      "name": "python"
    }
  },
  "cells": [
    {
      "cell_type": "markdown",
      "metadata": {
        "id": "view-in-github",
        "colab_type": "text"
      },
      "source": [
        "<a href=\"https://colab.research.google.com/github/Marisagf/Projetos_de_Ciencias_de_Dados/blob/main/Previs%C3%A3o_de_Sobreviv%C3%AAncia_ao_C%C3%A2ncer_de_Mama.ipynb\" target=\"_parent\"><img src=\"https://colab.research.google.com/assets/colab-badge.svg\" alt=\"Open In Colab\"/></a>"
      ]
    },
    {
      "cell_type": "markdown",
      "source": [
        "## **Previsão de Sobrevivência ao Câncer de Mama**"
      ],
      "metadata": {
        "id": "a3JjiypvD_HC"
      }
    },
    {
      "cell_type": "markdown",
      "source": [
        " Com o avanço das tecnologias e o aumento da disponibilidade de dados na área da saúde, o uso de aprendizado de máquina se tornou uma ferramenta poderosa para apoiar decisões clínicas e salvar vidas.\n",
        "\n",
        "Um exemplo prático disso é a possibilidade de prever a sobrevivência de pacientes com doenças graves, como o câncer de mama, utilizando algoritmos que analisam padrões nos dados clínicos.\n",
        "\n",
        "Neste estudo, utilizamos um conjunto de dados reais com informações de pacientes com câncer de mama para treinar um modelo capaz de prever se um paciente tem maior probabilidade de sobrevivência (vivo) ou não (óbito), com base em características como idade, estágio do câncer, tratamentos realizados, entre outros.\n",
        "\n",
        "📌 Fonte dos dados: Kaggle\n",
        "🔗 Breast Cancer Dataset – AmandaM1\n",
        "\n"
      ],
      "metadata": {
        "id": "ztOUaQw4A9aT"
      }
    },
    {
      "cell_type": "markdown",
      "source": [
        "#### *Conjunto de Dados*\n",
        "\n",
        "Este conjunto de dados consiste em um grupo de pacientes com câncer de mama que passaram por cirurgia para remover o tumor. O conjunto de dados é composto pelas seguintes variáveis:\n",
        "\n",
        "    - Patient_ID: identificador único do paciente\n",
        "    - Age: idade no momento do diagnóstico (anos)\n",
        "    - Gender: Masculino/Feminino\n",
        "    - Protein1, Protein2, Protein3, Protein4: níveis de expressão (unidades não definidas)\n",
        "    - Tumour_Stage: I, II, III\n",
        "    - Histology: Carcinoma Ductal Infiltrante, Carcinoma Lobular Infiltrante, Carcinoma Mucinoso\n",
        "    - ER status: Positivo/Negativo\n",
        "    - PR status: Positivo/Negativo\n",
        "    - HER2 status: Positivo/Negativo\n",
        "    - Surgery_type: Lumpectomia, Mastectomia Simples, Mastectomia Radical Modificada, Outro\n",
        "    - Date_of_Surgery: Data em que a cirurgia foi realizada (em DD-MON-YY)\n",
        "    - Date_of_Last_Visit: Data da última visita (em DD-MON-YY) [pode ser nulo, caso o paciente não tenha retornado após a cirurgia]\n",
        "    - Patient_Status: Vivo/Morto [pode ser nulo, caso o paciente não tenha retornado após a cirurgia e não haja informação disponível sobre se o paciente está vivo ou morto].\n",
        "\n"
      ],
      "metadata": {
        "id": "Len92Jm7BVb7"
      }
    },
    {
      "cell_type": "markdown",
      "source": [
        "#### *Importação das bibliotecas / pacotes necessários em nosso projeto*"
      ],
      "metadata": {
        "id": "fTbPRXPlD1lz"
      }
    },
    {
      "cell_type": "code",
      "source": [
        "# Os nossos pacotes tradicionais\n",
        "import pandas as pd\n",
        "import numpy as np\n",
        "import seaborn as sns\n",
        "import matplotlib.pyplot as plt\n",
        "\n",
        "# Os pacotes para normalização e preparação dos dados\n",
        "import sklearn  #para identificação da versão\n",
        "from sklearn.preprocessing import LabelEncoder, OrdinalEncoder\n",
        "from sklearn.model_selection import train_test_split\n",
        "\n",
        "# Os pacotes destinados a aprendizagem de máquina (algoritmos)\n",
        "from sklearn.linear_model import LogisticRegression\n",
        "from sklearn.svm import SVC\n",
        "from sklearn.model_selection import GridSearchCV\n",
        "from sklearn.ensemble import RandomForestClassifier\n",
        "from sklearn.tree import DecisionTreeClassifier\n",
        "\n",
        "# Importando o método SMOTE da biblioteca imblearn\n",
        "from imblearn.over_sampling import SMOTE\n",
        "\n",
        "# Dentro da biblioteca <'imbalanced-learn'> existe um método <'SMOTE'> que significa: Synthetic Minority Over-sampling Technique.\n",
        "# Ou seja... O SMOTE é uma técnica de oversampling que cria novas instâncias sintéticas da classe minoritária no conjunto de dados,\n",
        "# a fim de balancear a distribuição das classes.\n",
        "\n",
        "# Os pacotes destinados a report de métricas dos modelos\n",
        "from sklearn.metrics import roc_curve, roc_auc_score, confusion_matrix, accuracy_score, classification_report\n",
        "\n",
        "# para evitar mensagens de alerta/warnings.\n",
        "import warnings\n",
        "warnings.filterwarnings(\"ignore\")\n",
        "\n",
        "# Carregar o módulo de funções para limpeza de dados\n",
        "from limpeza_dados import *"
      ],
      "metadata": {
        "id": "Qs_FWdn-FFq4"
      },
      "execution_count": null,
      "outputs": []
    }
  ]
}
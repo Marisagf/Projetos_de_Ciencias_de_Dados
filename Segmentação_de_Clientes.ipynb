{
  "nbformat": 4,
  "nbformat_minor": 0,
  "metadata": {
    "colab": {
      "provenance": [],
      "authorship_tag": "ABX9TyOsn+EQKSZ8h+MEQK/HGfPB",
      "include_colab_link": true
    },
    "kernelspec": {
      "name": "python3",
      "display_name": "Python 3"
    },
    "language_info": {
      "name": "python"
    }
  },
  "cells": [
    {
      "cell_type": "markdown",
      "metadata": {
        "id": "view-in-github",
        "colab_type": "text"
      },
      "source": [
        "<a href=\"https://colab.research.google.com/github/Marisagf/Projetos_de_Ciencias_de_Dados/blob/main/Segmenta%C3%A7%C3%A3o_de_Clientes.ipynb\" target=\"_parent\"><img src=\"https://colab.research.google.com/assets/colab-badge.svg\" alt=\"Open In Colab\"/></a>"
      ]
    },
    {
      "cell_type": "markdown",
      "source": [
        "#Segmentação de Usuários de APP\n"
      ],
      "metadata": {
        "id": "HLYIHiUX-Rfz"
      }
    },
    {
      "cell_type": "markdown",
      "source": [
        "A segmentação de usuários em aplicativos consiste em agrupar indivíduos com base em seus padrões de uso e interação com o app.\n",
        "\n",
        "Essa abordagem permite identificar usuários mais engajados, definir públicos-alvo para campanhas de marketing e resolver diversos desafios de negócios que exigem a identificação de perfis de usuários com comportamentos semelhantes.\n",
        "\n",
        "Um estudo de caso ilustrando essa aplicação está disponível na plataforma STATSO: Segmentação de Usuários de Aplicativos – Estudo de Caso.\n",
        "\n"
      ],
      "metadata": {
        "id": "mU-GwMRk-28K"
      }
    },
    {
      "cell_type": "markdown",
      "source": [
        "###Problema de Negócio\n",
        "No cenário altamente competitivo dos aplicativos, empresas e desenvolvedores enfrentam o desafio de compreender melhor seus usuários para aumentar o engajamento e a retenção. Identificar grupos específicos de usuários permite direcionar ações mais eficazes, resultando no aumento do valor do tempo de vida do cliente (LTV – lifetime value).\n",
        "\n",
        "Neste contexto, foi coletado um conjunto de dados de um aplicativo com o objetivo de desenvolver uma abordagem orientada por dados para segmentar os usuários com base em seus hábitos de uso e padrões de gasto. A meta é identificar perfis de usuários com maior probabilidade de permanecerem ativos e aqueles com tendência à evasão, possibilitando ações preventivas de retenção.\n",
        "\n",
        "Abaixo estão as variáveis disponíveis no conjunto de dados:\n",
        "\n",
        "- userid: Identificação única do usuário;\n",
        "- Average Screen Time: Tempo médio de uso do aplicativo (em minutos);\n",
        "- Average Spent on App (INR): Valor médio gasto no aplicativo (em rúpias indianas);\n",
        "- Left Review: Indica se o usuário deixou uma avaliação no app (1 = sim; 0 = não);\n",
        "- Ratings: Nota dada pelo usuário ao aplicativo;\n",
        "- New Password Request: Número de vezes que o usuário solicitou uma nova senha;\n",
        "- Last Visited Minutes: Tempo (em minutos) desde a última visita do usuário;\n",
        "- Status: Indica se o aplicativo ainda está instalado ou se foi desinstalado.\n",
        "\n",
        "O objetivo da análise é identificar padrões e relações entre os usuários que ainda utilizam o aplicativo e aqueles que o desinstalaram. Com base nisso, será possível criar segmentos de usuários que ajudem a entender o perfil dos usuários retidos e antecipar os sinais de evasão — oferecendo, assim, a oportunidade de reter usuários antes que eles migrem para aplicativos concorrentes."
      ],
      "metadata": {
        "id": "ue40FHu__SUO"
      }
    },
    {
      "cell_type": "markdown",
      "source": [
        "#### **Importando os pacotes / bibliotecas**\n"
      ],
      "metadata": {
        "id": "DWm1_a9hFlv2"
      }
    },
    {
      "cell_type": "code",
      "source": [
        "# Importando as bibliotecas\n",
        "import pandas as pd\n",
        "import numpy as np\n",
        "\n",
        "# para os gráficos/plotagem\n",
        "import plotly  #para identificação da versão\n",
        "import plotly.graph_objects as go\n",
        "import plotly.express as px\n",
        "import plotly.io as pio\n",
        "import matplotlib.pyplot as plt\n",
        "\n",
        "# Importanto o método MinMaxScaler do Sklearn para normalização dos dados\n",
        "from sklearn.preprocessing import MinMaxScaler\n",
        "from sklearn.cluster import KMeans\n",
        "\n",
        "# Importanto o Método KMeans (algoritmo de classificação)\n",
        "import sklearn  #para identificação da versão\n",
        "from sklearn.cluster import KMeans\n",
        "from sklearn.metrics import silhouette_score\n",
        "\n",
        "\n",
        "# para evitar mensagens de alerta/warnings.\n",
        "import warnings\n",
        "warnings.filterwarnings(\"ignore\")\n",
        "\n",
        "# Carregar o módulo de funções para limpeza de dados\n",
        "from limpeza_dados import *"
      ],
      "metadata": {
        "id": "MuXfkUBHFruj"
      },
      "execution_count": 28,
      "outputs": []
    },
    {
      "cell_type": "code",
      "source": [
        "# Definindo um template\n",
        "pio.templates.default = \"plotly_white\""
      ],
      "metadata": {
        "id": "zcZAC_fZGlST"
      },
      "execution_count": 2,
      "outputs": []
    },
    {
      "cell_type": "markdown",
      "source": [
        "#### **Importando o dataset**"
      ],
      "metadata": {
        "id": "s26_JirJQoGh"
      }
    },
    {
      "cell_type": "code",
      "source": [
        "\n",
        "data = pd.read_csv(\"/content/userbehaviour.csv\")\n",
        "# mostrando a parte inicial do dataset\n",
        "print(data.head())"
      ],
      "metadata": {
        "colab": {
          "base_uri": "https://localhost:8080/"
        },
        "id": "Dz6aw75zGqdP",
        "outputId": "b72314e7-d1c1-4f91-b89f-e5f733e26984"
      },
      "execution_count": 3,
      "outputs": [
        {
          "output_type": "stream",
          "name": "stdout",
          "text": [
            "   userid  Average Screen Time  Average Spent on App (INR)  Left Review  \\\n",
            "0    1001                 17.0                       634.0            1   \n",
            "1    1002                  0.0                        54.0            0   \n",
            "2    1003                 37.0                       207.0            0   \n",
            "3    1004                 32.0                       445.0            1   \n",
            "4    1005                 45.0                       427.0            1   \n",
            "\n",
            "   Ratings  New Password Request  Last Visited Minutes       Status  \n",
            "0        9                     7                  2990    Installed  \n",
            "1        4                     8                 24008  Uninstalled  \n",
            "2        8                     5                   971    Installed  \n",
            "3        6                     2                   799    Installed  \n",
            "4        5                     6                  3668    Installed  \n"
          ]
        }
      ]
    },
    {
      "cell_type": "code",
      "source": [
        "data.shape"
      ],
      "metadata": {
        "colab": {
          "base_uri": "https://localhost:8080/"
        },
        "id": "8SEG246ASKVv",
        "outputId": "2e34acf9-6442-4d1a-f71d-185543df92b6"
      },
      "execution_count": 4,
      "outputs": [
        {
          "output_type": "execute_result",
          "data": {
            "text/plain": [
              "(999, 8)"
            ]
          },
          "metadata": {},
          "execution_count": 4
        }
      ]
    },
    {
      "cell_type": "code",
      "source": [
        "data.describe()"
      ],
      "metadata": {
        "colab": {
          "base_uri": "https://localhost:8080/",
          "height": 318
        },
        "id": "w2HLccu7UxDW",
        "outputId": "f567bc84-de38-415a-94c5-6eae12982db8"
      },
      "execution_count": 6,
      "outputs": [
        {
          "output_type": "execute_result",
          "data": {
            "text/plain": [
              "            userid  Average Screen Time  Average Spent on App (INR)  \\\n",
              "count   999.000000           999.000000                  999.000000   \n",
              "mean   1500.000000            24.390390                  424.415415   \n",
              "std     288.530761            14.235415                  312.365695   \n",
              "min    1001.000000             0.000000                    0.000000   \n",
              "25%    1250.500000            12.000000                   96.000000   \n",
              "50%    1500.000000            24.000000                  394.000000   \n",
              "75%    1749.500000            36.000000                  717.500000   \n",
              "max    1999.000000            50.000000                  998.000000   \n",
              "\n",
              "       Left Review     Ratings  New Password Request  Last Visited Minutes  \n",
              "count   999.000000  999.000000            999.000000            999.000000  \n",
              "mean      0.497497    6.513514              4.941942           5110.898899  \n",
              "std       0.500244    2.701511              2.784626           8592.036516  \n",
              "min       0.000000    0.000000              1.000000            201.000000  \n",
              "25%       0.000000    5.000000              3.000000           1495.500000  \n",
              "50%       0.000000    7.000000              5.000000           2865.000000  \n",
              "75%       1.000000    9.000000              7.000000           4198.000000  \n",
              "max       1.000000   10.000000             15.000000          49715.000000  "
            ],
            "text/html": [
              "\n",
              "  <div id=\"df-dd883233-a1e2-49f2-8fe0-85af8dd816db\" class=\"colab-df-container\">\n",
              "    <div>\n",
              "<style scoped>\n",
              "    .dataframe tbody tr th:only-of-type {\n",
              "        vertical-align: middle;\n",
              "    }\n",
              "\n",
              "    .dataframe tbody tr th {\n",
              "        vertical-align: top;\n",
              "    }\n",
              "\n",
              "    .dataframe thead th {\n",
              "        text-align: right;\n",
              "    }\n",
              "</style>\n",
              "<table border=\"1\" class=\"dataframe\">\n",
              "  <thead>\n",
              "    <tr style=\"text-align: right;\">\n",
              "      <th></th>\n",
              "      <th>userid</th>\n",
              "      <th>Average Screen Time</th>\n",
              "      <th>Average Spent on App (INR)</th>\n",
              "      <th>Left Review</th>\n",
              "      <th>Ratings</th>\n",
              "      <th>New Password Request</th>\n",
              "      <th>Last Visited Minutes</th>\n",
              "    </tr>\n",
              "  </thead>\n",
              "  <tbody>\n",
              "    <tr>\n",
              "      <th>count</th>\n",
              "      <td>999.000000</td>\n",
              "      <td>999.000000</td>\n",
              "      <td>999.000000</td>\n",
              "      <td>999.000000</td>\n",
              "      <td>999.000000</td>\n",
              "      <td>999.000000</td>\n",
              "      <td>999.000000</td>\n",
              "    </tr>\n",
              "    <tr>\n",
              "      <th>mean</th>\n",
              "      <td>1500.000000</td>\n",
              "      <td>24.390390</td>\n",
              "      <td>424.415415</td>\n",
              "      <td>0.497497</td>\n",
              "      <td>6.513514</td>\n",
              "      <td>4.941942</td>\n",
              "      <td>5110.898899</td>\n",
              "    </tr>\n",
              "    <tr>\n",
              "      <th>std</th>\n",
              "      <td>288.530761</td>\n",
              "      <td>14.235415</td>\n",
              "      <td>312.365695</td>\n",
              "      <td>0.500244</td>\n",
              "      <td>2.701511</td>\n",
              "      <td>2.784626</td>\n",
              "      <td>8592.036516</td>\n",
              "    </tr>\n",
              "    <tr>\n",
              "      <th>min</th>\n",
              "      <td>1001.000000</td>\n",
              "      <td>0.000000</td>\n",
              "      <td>0.000000</td>\n",
              "      <td>0.000000</td>\n",
              "      <td>0.000000</td>\n",
              "      <td>1.000000</td>\n",
              "      <td>201.000000</td>\n",
              "    </tr>\n",
              "    <tr>\n",
              "      <th>25%</th>\n",
              "      <td>1250.500000</td>\n",
              "      <td>12.000000</td>\n",
              "      <td>96.000000</td>\n",
              "      <td>0.000000</td>\n",
              "      <td>5.000000</td>\n",
              "      <td>3.000000</td>\n",
              "      <td>1495.500000</td>\n",
              "    </tr>\n",
              "    <tr>\n",
              "      <th>50%</th>\n",
              "      <td>1500.000000</td>\n",
              "      <td>24.000000</td>\n",
              "      <td>394.000000</td>\n",
              "      <td>0.000000</td>\n",
              "      <td>7.000000</td>\n",
              "      <td>5.000000</td>\n",
              "      <td>2865.000000</td>\n",
              "    </tr>\n",
              "    <tr>\n",
              "      <th>75%</th>\n",
              "      <td>1749.500000</td>\n",
              "      <td>36.000000</td>\n",
              "      <td>717.500000</td>\n",
              "      <td>1.000000</td>\n",
              "      <td>9.000000</td>\n",
              "      <td>7.000000</td>\n",
              "      <td>4198.000000</td>\n",
              "    </tr>\n",
              "    <tr>\n",
              "      <th>max</th>\n",
              "      <td>1999.000000</td>\n",
              "      <td>50.000000</td>\n",
              "      <td>998.000000</td>\n",
              "      <td>1.000000</td>\n",
              "      <td>10.000000</td>\n",
              "      <td>15.000000</td>\n",
              "      <td>49715.000000</td>\n",
              "    </tr>\n",
              "  </tbody>\n",
              "</table>\n",
              "</div>\n",
              "    <div class=\"colab-df-buttons\">\n",
              "\n",
              "  <div class=\"colab-df-container\">\n",
              "    <button class=\"colab-df-convert\" onclick=\"convertToInteractive('df-dd883233-a1e2-49f2-8fe0-85af8dd816db')\"\n",
              "            title=\"Convert this dataframe to an interactive table.\"\n",
              "            style=\"display:none;\">\n",
              "\n",
              "  <svg xmlns=\"http://www.w3.org/2000/svg\" height=\"24px\" viewBox=\"0 -960 960 960\">\n",
              "    <path d=\"M120-120v-720h720v720H120Zm60-500h600v-160H180v160Zm220 220h160v-160H400v160Zm0 220h160v-160H400v160ZM180-400h160v-160H180v160Zm440 0h160v-160H620v160ZM180-180h160v-160H180v160Zm440 0h160v-160H620v160Z\"/>\n",
              "  </svg>\n",
              "    </button>\n",
              "\n",
              "  <style>\n",
              "    .colab-df-container {\n",
              "      display:flex;\n",
              "      gap: 12px;\n",
              "    }\n",
              "\n",
              "    .colab-df-convert {\n",
              "      background-color: #E8F0FE;\n",
              "      border: none;\n",
              "      border-radius: 50%;\n",
              "      cursor: pointer;\n",
              "      display: none;\n",
              "      fill: #1967D2;\n",
              "      height: 32px;\n",
              "      padding: 0 0 0 0;\n",
              "      width: 32px;\n",
              "    }\n",
              "\n",
              "    .colab-df-convert:hover {\n",
              "      background-color: #E2EBFA;\n",
              "      box-shadow: 0px 1px 2px rgba(60, 64, 67, 0.3), 0px 1px 3px 1px rgba(60, 64, 67, 0.15);\n",
              "      fill: #174EA6;\n",
              "    }\n",
              "\n",
              "    .colab-df-buttons div {\n",
              "      margin-bottom: 4px;\n",
              "    }\n",
              "\n",
              "    [theme=dark] .colab-df-convert {\n",
              "      background-color: #3B4455;\n",
              "      fill: #D2E3FC;\n",
              "    }\n",
              "\n",
              "    [theme=dark] .colab-df-convert:hover {\n",
              "      background-color: #434B5C;\n",
              "      box-shadow: 0px 1px 3px 1px rgba(0, 0, 0, 0.15);\n",
              "      filter: drop-shadow(0px 1px 2px rgba(0, 0, 0, 0.3));\n",
              "      fill: #FFFFFF;\n",
              "    }\n",
              "  </style>\n",
              "\n",
              "    <script>\n",
              "      const buttonEl =\n",
              "        document.querySelector('#df-dd883233-a1e2-49f2-8fe0-85af8dd816db button.colab-df-convert');\n",
              "      buttonEl.style.display =\n",
              "        google.colab.kernel.accessAllowed ? 'block' : 'none';\n",
              "\n",
              "      async function convertToInteractive(key) {\n",
              "        const element = document.querySelector('#df-dd883233-a1e2-49f2-8fe0-85af8dd816db');\n",
              "        const dataTable =\n",
              "          await google.colab.kernel.invokeFunction('convertToInteractive',\n",
              "                                                    [key], {});\n",
              "        if (!dataTable) return;\n",
              "\n",
              "        const docLinkHtml = 'Like what you see? Visit the ' +\n",
              "          '<a target=\"_blank\" href=https://colab.research.google.com/notebooks/data_table.ipynb>data table notebook</a>'\n",
              "          + ' to learn more about interactive tables.';\n",
              "        element.innerHTML = '';\n",
              "        dataTable['output_type'] = 'display_data';\n",
              "        await google.colab.output.renderOutput(dataTable, element);\n",
              "        const docLink = document.createElement('div');\n",
              "        docLink.innerHTML = docLinkHtml;\n",
              "        element.appendChild(docLink);\n",
              "      }\n",
              "    </script>\n",
              "  </div>\n",
              "\n",
              "\n",
              "<div id=\"df-4362e4f4-d8f2-4729-8aa3-29e22fb7aed6\">\n",
              "  <button class=\"colab-df-quickchart\" onclick=\"quickchart('df-4362e4f4-d8f2-4729-8aa3-29e22fb7aed6')\"\n",
              "            title=\"Suggest charts\"\n",
              "            style=\"display:none;\">\n",
              "\n",
              "<svg xmlns=\"http://www.w3.org/2000/svg\" height=\"24px\"viewBox=\"0 0 24 24\"\n",
              "     width=\"24px\">\n",
              "    <g>\n",
              "        <path d=\"M19 3H5c-1.1 0-2 .9-2 2v14c0 1.1.9 2 2 2h14c1.1 0 2-.9 2-2V5c0-1.1-.9-2-2-2zM9 17H7v-7h2v7zm4 0h-2V7h2v10zm4 0h-2v-4h2v4z\"/>\n",
              "    </g>\n",
              "</svg>\n",
              "  </button>\n",
              "\n",
              "<style>\n",
              "  .colab-df-quickchart {\n",
              "      --bg-color: #E8F0FE;\n",
              "      --fill-color: #1967D2;\n",
              "      --hover-bg-color: #E2EBFA;\n",
              "      --hover-fill-color: #174EA6;\n",
              "      --disabled-fill-color: #AAA;\n",
              "      --disabled-bg-color: #DDD;\n",
              "  }\n",
              "\n",
              "  [theme=dark] .colab-df-quickchart {\n",
              "      --bg-color: #3B4455;\n",
              "      --fill-color: #D2E3FC;\n",
              "      --hover-bg-color: #434B5C;\n",
              "      --hover-fill-color: #FFFFFF;\n",
              "      --disabled-bg-color: #3B4455;\n",
              "      --disabled-fill-color: #666;\n",
              "  }\n",
              "\n",
              "  .colab-df-quickchart {\n",
              "    background-color: var(--bg-color);\n",
              "    border: none;\n",
              "    border-radius: 50%;\n",
              "    cursor: pointer;\n",
              "    display: none;\n",
              "    fill: var(--fill-color);\n",
              "    height: 32px;\n",
              "    padding: 0;\n",
              "    width: 32px;\n",
              "  }\n",
              "\n",
              "  .colab-df-quickchart:hover {\n",
              "    background-color: var(--hover-bg-color);\n",
              "    box-shadow: 0 1px 2px rgba(60, 64, 67, 0.3), 0 1px 3px 1px rgba(60, 64, 67, 0.15);\n",
              "    fill: var(--button-hover-fill-color);\n",
              "  }\n",
              "\n",
              "  .colab-df-quickchart-complete:disabled,\n",
              "  .colab-df-quickchart-complete:disabled:hover {\n",
              "    background-color: var(--disabled-bg-color);\n",
              "    fill: var(--disabled-fill-color);\n",
              "    box-shadow: none;\n",
              "  }\n",
              "\n",
              "  .colab-df-spinner {\n",
              "    border: 2px solid var(--fill-color);\n",
              "    border-color: transparent;\n",
              "    border-bottom-color: var(--fill-color);\n",
              "    animation:\n",
              "      spin 1s steps(1) infinite;\n",
              "  }\n",
              "\n",
              "  @keyframes spin {\n",
              "    0% {\n",
              "      border-color: transparent;\n",
              "      border-bottom-color: var(--fill-color);\n",
              "      border-left-color: var(--fill-color);\n",
              "    }\n",
              "    20% {\n",
              "      border-color: transparent;\n",
              "      border-left-color: var(--fill-color);\n",
              "      border-top-color: var(--fill-color);\n",
              "    }\n",
              "    30% {\n",
              "      border-color: transparent;\n",
              "      border-left-color: var(--fill-color);\n",
              "      border-top-color: var(--fill-color);\n",
              "      border-right-color: var(--fill-color);\n",
              "    }\n",
              "    40% {\n",
              "      border-color: transparent;\n",
              "      border-right-color: var(--fill-color);\n",
              "      border-top-color: var(--fill-color);\n",
              "    }\n",
              "    60% {\n",
              "      border-color: transparent;\n",
              "      border-right-color: var(--fill-color);\n",
              "    }\n",
              "    80% {\n",
              "      border-color: transparent;\n",
              "      border-right-color: var(--fill-color);\n",
              "      border-bottom-color: var(--fill-color);\n",
              "    }\n",
              "    90% {\n",
              "      border-color: transparent;\n",
              "      border-bottom-color: var(--fill-color);\n",
              "    }\n",
              "  }\n",
              "</style>\n",
              "\n",
              "  <script>\n",
              "    async function quickchart(key) {\n",
              "      const quickchartButtonEl =\n",
              "        document.querySelector('#' + key + ' button');\n",
              "      quickchartButtonEl.disabled = true;  // To prevent multiple clicks.\n",
              "      quickchartButtonEl.classList.add('colab-df-spinner');\n",
              "      try {\n",
              "        const charts = await google.colab.kernel.invokeFunction(\n",
              "            'suggestCharts', [key], {});\n",
              "      } catch (error) {\n",
              "        console.error('Error during call to suggestCharts:', error);\n",
              "      }\n",
              "      quickchartButtonEl.classList.remove('colab-df-spinner');\n",
              "      quickchartButtonEl.classList.add('colab-df-quickchart-complete');\n",
              "    }\n",
              "    (() => {\n",
              "      let quickchartButtonEl =\n",
              "        document.querySelector('#df-4362e4f4-d8f2-4729-8aa3-29e22fb7aed6 button');\n",
              "      quickchartButtonEl.style.display =\n",
              "        google.colab.kernel.accessAllowed ? 'block' : 'none';\n",
              "    })();\n",
              "  </script>\n",
              "</div>\n",
              "\n",
              "    </div>\n",
              "  </div>\n"
            ],
            "application/vnd.google.colaboratory.intrinsic+json": {
              "type": "dataframe",
              "summary": "{\n  \"name\": \"data\",\n  \"rows\": 8,\n  \"fields\": [\n    {\n      \"column\": \"userid\",\n      \"properties\": {\n        \"dtype\": \"number\",\n        \"std\": 531.1163923254428,\n        \"min\": 288.5307609250702,\n        \"max\": 1999.0,\n        \"num_unique_values\": 7,\n        \"samples\": [\n          999.0,\n          1500.0,\n          1749.5\n        ],\n        \"semantic_type\": \"\",\n        \"description\": \"\"\n      }\n    },\n    {\n      \"column\": \"Average Screen Time\",\n      \"properties\": {\n        \"dtype\": \"number\",\n        \"std\": 345.4237639899572,\n        \"min\": 0.0,\n        \"max\": 999.0,\n        \"num_unique_values\": 8,\n        \"samples\": [\n          24.39039039039039,\n          24.0,\n          999.0\n        ],\n        \"semantic_type\": \"\",\n        \"description\": \"\"\n      }\n    },\n    {\n      \"column\": \"Average Spent on App (INR)\",\n      \"properties\": {\n        \"dtype\": \"number\",\n        \"std\": 379.70889666206875,\n        \"min\": 0.0,\n        \"max\": 999.0,\n        \"num_unique_values\": 8,\n        \"samples\": [\n          424.4154154154154,\n          394.0,\n          999.0\n        ],\n        \"semantic_type\": \"\",\n        \"description\": \"\"\n      }\n    },\n    {\n      \"column\": \"Left Review\",\n      \"properties\": {\n        \"dtype\": \"number\",\n        \"std\": 353.04867399330124,\n        \"min\": 0.0,\n        \"max\": 999.0,\n        \"num_unique_values\": 5,\n        \"samples\": [\n          0.4974974974974975,\n          1.0,\n          0.5002441725879098\n        ],\n        \"semantic_type\": \"\",\n        \"description\": \"\"\n      }\n    },\n    {\n      \"column\": \"Ratings\",\n      \"properties\": {\n        \"dtype\": \"number\",\n        \"std\": 351.1836598295588,\n        \"min\": 0.0,\n        \"max\": 999.0,\n        \"num_unique_values\": 8,\n        \"samples\": [\n          6.513513513513513,\n          7.0,\n          999.0\n        ],\n        \"semantic_type\": \"\",\n        \"description\": \"\"\n      }\n    },\n    {\n      \"column\": \"New Password Request\",\n      \"properties\": {\n        \"dtype\": \"number\",\n        \"std\": 351.26966101623003,\n        \"min\": 1.0,\n        \"max\": 999.0,\n        \"num_unique_values\": 8,\n        \"samples\": [\n          4.941941941941942,\n          5.0,\n          999.0\n        ],\n        \"semantic_type\": \"\",\n        \"description\": \"\"\n      }\n    },\n    {\n      \"column\": \"Last Visited Minutes\",\n      \"properties\": {\n        \"dtype\": \"number\",\n        \"std\": 16610.165208574446,\n        \"min\": 201.0,\n        \"max\": 49715.0,\n        \"num_unique_values\": 8,\n        \"samples\": [\n          5110.898898898899,\n          2865.0,\n          999.0\n        ],\n        \"semantic_type\": \"\",\n        \"description\": \"\"\n      }\n    }\n  ]\n}"
            }
          },
          "metadata": {},
          "execution_count": 6
        }
      ]
    },
    {
      "cell_type": "markdown",
      "source": [
        "#### **Análises**"
      ],
      "metadata": {
        "id": "9XtSSCcTQtWD"
      }
    },
    {
      "cell_type": "markdown",
      "source": [
        "#### 01 - Tempo de tela mais alto, mais baixo e médio de todos os usuários:"
      ],
      "metadata": {
        "id": "AuEzCUUkGwFB"
      }
    },
    {
      "cell_type": "code",
      "source": [
        "print(f'Average Screen Time = {data[\"Average Screen Time\"].mean()}')\n",
        "print(f'Highest Screen Time = {data[\"Average Screen Time\"].max()}')\n",
        "print(f'Lowest Screen Time = {data[\"Average Screen Time\"].min()}')"
      ],
      "metadata": {
        "colab": {
          "base_uri": "https://localhost:8080/"
        },
        "id": "WsY3Lrn3G1ms",
        "outputId": "e5de4f3c-9db5-4e02-f5f4-13afd6c18297"
      },
      "execution_count": 7,
      "outputs": [
        {
          "output_type": "stream",
          "name": "stdout",
          "text": [
            "Average Screen Time = 24.39039039039039\n",
            "Highest Screen Time = 50.0\n",
            "Lowest Screen Time = 0.0\n"
          ]
        }
      ]
    },
    {
      "cell_type": "markdown",
      "source": [
        "02 - Valor mais alto, mais baixo e na média gasta por todos os usuários:"
      ],
      "metadata": {
        "id": "0y3jCFLCG7WM"
      }
    },
    {
      "cell_type": "code",
      "source": [
        "print(f'Average Spend of the Users = {data[\"Average Spent on App (INR)\"].mean()}')\n",
        "print(f'Highest Spend of the Users = {data[\"Average Spent on App (INR)\"].max()}')\n",
        "print(f'Lowest Spend of the Users = {data[\"Average Spent on App (INR)\"].min()}')"
      ],
      "metadata": {
        "colab": {
          "base_uri": "https://localhost:8080/"
        },
        "id": "zjjVNxxoHWf9",
        "outputId": "ff8fceb8-c4b6-4d78-dc02-e5b3e1850490"
      },
      "execution_count": 8,
      "outputs": [
        {
          "output_type": "stream",
          "name": "stdout",
          "text": [
            "Average Spend of the Users = 424.4154154154154\n",
            "Highest Spend of the Users = 998.0\n",
            "Lowest Spend of the Users = 0.0\n"
          ]
        }
      ]
    },
    {
      "cell_type": "markdown",
      "source": [
        "03 - Agora vamos dar uma olhada na relação entre a capacidade de gasto e o tempo de tela dos usuários ativos e dos usuários que desinstalaram o aplicativo:"
      ],
      "metadata": {
        "id": "hsBYhRzmHYWR"
      }
    },
    {
      "cell_type": "code",
      "source": [
        "import plotly.express as px\n",
        "\n",
        "figure = px.scatter(\n",
        "    data_frame=data,\n",
        "    x=\"Average Screen Time\",\n",
        "    y=\"Average Spent on App (INR)\",\n",
        "    size=\"Average Spent on App (INR)\",\n",
        "    color=\"Status\",\n",
        "    trendline=\"ols\"\n",
        ")\n",
        "\n",
        "figure.update_layout(title=\"Relationship Between Spending Capacity and Screentime\")\n",
        "figure.show()\n",
        "\n",
        "\n"
      ],
      "metadata": {
        "colab": {
          "base_uri": "https://localhost:8080/",
          "height": 542
        },
        "id": "p_5g9EcPHgFJ",
        "outputId": "99c42a79-da98-4b90-ca06-9447c4e73963"
      },
      "execution_count": 14,
      "outputs": [
        {
          "output_type": "display_data",
          "data": {
            "text/html": [
              "<html>\n",
              "<head><meta charset=\"utf-8\" /></head>\n",
              "<body>\n",
              "    <div>            <script src=\"https://cdnjs.cloudflare.com/ajax/libs/mathjax/2.7.5/MathJax.js?config=TeX-AMS-MML_SVG\"></script><script type=\"text/javascript\">if (window.MathJax && window.MathJax.Hub && window.MathJax.Hub.Config) {window.MathJax.Hub.Config({SVG: {font: \"STIX-Web\"}});}</script>                <script type=\"text/javascript\">window.PlotlyConfig = {MathJaxConfig: 'local'};</script>\n",
              "        <script charset=\"utf-8\" src=\"https://cdn.plot.ly/plotly-2.35.2.min.js\"></script>                <div id=\"ae934f50-aa6f-4cbf-8fff-fd0382eac101\" class=\"plotly-graph-div\" style=\"height:525px; width:100%;\"></div>            <script type=\"text/javascript\">                                    window.PLOTLYENV=window.PLOTLYENV || {};                                    if (document.getElementById(\"ae934f50-aa6f-4cbf-8fff-fd0382eac101\")) {                    Plotly.newPlot(                        \"ae934f50-aa6f-4cbf-8fff-fd0382eac101\",                        [{\"hovertemplate\":\"Status=Installed\\u003cbr\\u003eAverage Screen Time=%{x}\\u003cbr\\u003eAverage Spent on App (INR)=%{marker.size}\\u003cextra\\u003e\\u003c\\u002fextra\\u003e\",\"legendgroup\":\"Installed\",\"marker\":{\"color\":\"#636efa\",\"size\":[634.0,207.0,445.0,427.0,599.0,887.0,31.0,741.0,524.0,688.0,466.0,49.0,845.0,251.0,169.0,776.0,341.0,250.0,967.0,774.0,482.0,645.0,688.0,400.0,73.0,460.0,848.0,46.0,195.0,114.0,976.0,932.0,243.0,222.0,410.0,70.0,96.0,207.0,519.0,621.0,461.0,800.0,125.0,405.0,654.0,908.0,875.0,519.0,260.0,911.0,214.0,771.0,726.0,110.0,196.0,157.0,912.0,889.0,512.0,202.0,234.0,966.0,98.0,723.0,738.0,528.0,881.0,90.0,360.0,811.0,398.0,384.0,974.0,222.0,990.0,266.0,919.0,976.0,436.0,320.0,17.0,552.0,61.0,242.0,543.0,448.0,252.0,66.0,42.0,940.0,528.0,52.0,830.0,559.0,74.0,804.0,733.0,663.0,763.0,67.0,115.0,853.0,379.0,20.0,629.0,508.0,462.0,93.0,204.0,293.0,31.0,354.0,971.0,255.0,294.0,682.0,601.0,59.0,627.0,73.0,5.0,500.0,364.0,464.0,10.0,87.0,13.0,570.0,667.0,96.0,485.0,740.0,27.0,549.0,219.0,550.0,861.0,991.0,722.0,84.0,12.0,153.0,90.0,799.0,938.0,582.0,96.0,431.0,402.0,629.0,91.0,674.0,901.0,196.0,151.0,564.0,493.0,71.0,266.0,838.0,135.0,72.0,839.0,12.0,867.0,375.0,798.0,696.0,894.0,522.0,46.0,661.0,750.0,101.0,73.0,316.0,482.0,747.0,36.0,634.0,990.0,212.0,33.0,987.0,892.0,489.0,279.0,882.0,721.0,674.0,809.0,296.0,94.0,372.0,164.0,146.0,672.0,205.0,150.0,836.0,701.0,616.0,378.0,998.0,298.0,344.0,496.0,399.0,520.0,19.0,0.0,491.0,974.0,865.0,662.0,250.0,485.0,506.0,534.0,603.0,817.0,300.0,595.0,936.0,488.0,242.0,31.0,392.0,333.0,328.0,828.0,839.0,188.0,405.0,634.0,715.0,598.0,755.0,138.0,310.0,477.0,252.0,385.0,217.0,81.0,429.0,254.0,80.0,361.0,8.0,863.0,270.0,813.0,826.0,511.0,9.0,860.0,226.0,135.0,416.0,463.0,877.0,360.0,830.0,909.0,63.0,300.0,285.0,837.0,320.0,621.0,152.0,486.0,401.0,79.0,778.0,923.0,38.0,95.0,990.0,679.0,617.0,994.0,519.0,25.0,396.0,226.0,993.0,107.0,869.0,60.0,749.0,863.0,158.0,424.0,984.0,20.0,988.0,560.0,721.0,261.0,100.0,492.0,222.0,788.0,175.0,198.0,481.0,863.0,580.0,216.0,69.0,807.0,739.0,704.0,357.0,614.0,87.0,559.0,660.0,623.0,350.0,936.0,841.0,89.0,833.0,763.0,68.0,330.0,159.0,340.0,832.0,992.0,849.0,742.0,73.0,190.0,928.0,718.0,238.0,736.0,992.0,165.0,75.0,326.0,173.0,930.0,349.0,152.0,719.0,597.0,286.0,754.0,88.0,768.0,158.0,729.0,37.0,900.0,188.0,89.0,70.0,536.0,609.0,796.0,95.0,871.0,10.0,733.0,608.0,506.0,977.0,761.0,708.0,534.0,71.0,9.0,4.0,502.0,614.0,473.0,67.0,254.0,558.0,513.0,80.0,621.0,902.0,411.0,63.0,889.0,347.0,546.0,810.0,68.0,783.0,9.0,603.0,633.0,65.0,481.0,93.0,568.0,423.0,319.0,434.0,75.0,786.0,551.0,85.0,486.0,267.0,566.0,150.0,623.0,219.0,379.0,97.0,375.0,647.0,44.0,635.0,241.0,858.0,435.0,102.0,305.0,212.0,805.0,693.0,981.0,275.0,460.0,273.0,886.0,478.0,368.0,510.0,368.0,14.0,970.0,284.0,39.0,125.0,619.0,207.0,83.0,633.0,64.0,767.0,75.0,53.0,366.0,15.0,479.0,726.0,567.0,819.0,636.0,829.0,748.0,498.0,72.0,859.0,833.0,482.0,402.0,589.0,880.0,61.0,669.0,224.0,845.0,44.0,415.0,7.0,187.0,876.0,79.0,678.0,530.0,319.0,427.0,161.0,516.0,168.0,504.0,465.0,13.0,2.0,885.0,474.0,703.0,155.0,85.0,26.0,321.0,813.0,355.0,690.0,331.0,441.0,338.0,701.0,411.0,970.0,120.0,187.0,927.0,564.0,71.0,239.0,307.0,236.0,511.0,638.0,537.0,836.0,743.0,371.0,90.0,91.0,40.0,48.0,467.0,831.0,164.0,936.0,29.0,379.0,786.0,194.0,170.0,128.0,744.0,850.0,607.0,45.0,644.0,107.0,887.0,93.0,503.0,9.0,571.0,424.0,404.0,329.0,751.0,269.0,894.0,520.0,865.0,518.0,161.0,328.0,410.0,735.0,539.0,46.0,96.0,419.0,578.0,56.0,48.0,151.0,894.0,394.0,877.0,249.0,459.0,837.0,726.0,597.0,395.0,459.0,6.0,904.0,841.0,167.0,228.0,847.0,68.0,78.0,125.0,275.0,768.0,499.0,64.0,970.0,516.0,800.0,756.0,688.0,280.0,580.0,610.0,484.0,369.0,79.0,284.0,555.0,714.0,517.0,73.0,170.0,719.0,52.0,13.0,155.0,77.0,311.0,85.0,155.0,423.0,7.0,819.0,533.0,523.0,797.0,508.0,729.0,600.0,75.0,180.0,618.0,647.0,37.0,55.0,528.0,779.0,167.0,772.0,863.0,306.0,627.0,854.0,849.0,4.0,87.0,208.0,424.0,84.0,993.0,609.0,295.0,282.0,958.0,53.0,69.0,874.0,845.0,567.0,300.0,116.0,753.0,825.0,64.0,903.0,560.0,873.0,438.0,201.0,86.0,673.0,892.0,739.0,357.0,105.0,922.0,893.0,106.0,59.0,510.0,936.0,734.0,969.0,677.0,504.0,305.0,804.0,6.0,642.0,787.0,231.0,747.0,357.0,26.0,946.0,797.0,841.0,950.0,945.0,45.0,834.0,171.0,857.0,932.0,87.0,733.0,462.0,955.0,32.0,51.0,298.0,449.0,172.0,424.0,326.0,631.0,276.0,79.0,915.0,367.0,892.0,173.0,201.0,355.0,123.0,9.0,678.0,831.0,269.0,627.0,657.0,816.0,39.0,337.0,632.0,79.0,342.0,659.0,324.0,558.0,452.0,60.0,352.0,572.0,300.0,331.0,938.0,26.0,459.0,751.0,479.0,312.0,901.0,867.0,68.0,832.0,295.0,560.0,518.0,266.0,350.0,564.0,92.0,387.0,724.0,307.0,890.0,454.0,624.0,557.0,579.0,246.0,87.0,490.0,732.0,311.0,486.0,663.0,516.0,398.0,93.0,69.0,65.0,824.0,616.0,50.0,90.0,286.0,55.0,684.0,758.0,365.0,615.0,928.0,993.0,261.0,764.0,255.0,1.0,81.0,332.0,518.0,603.0,613.0,136.0,15.0,682.0,323.0,597.0,64.0,905.0,251.0,294.0,73.0,917.0,856.0,93.0,964.0,111.0,619.0,241.0,717.0,84.0,783.0,136.0,763.0,586.0,28.0,856.0,185.0,30.0,319.0,391.0,898.0,303.0,885.0,656.0,925.0,19.0,959.0,302.0,827.0,920.0,662.0,273.0,161.0,58.0,291.0,402.0,457.0,51.0,309.0,253.0,838.0,625.0,769.0,828.0,747.0,85.0,277.0,847.0,2.0,877.0,156.0,814.0,84.0,19.0,755.0,98.0,765.0,996.0,975.0,258.0,983.0,381.0,868.0,226.0,239.0,828.0,40.0,95.0,22.0,313.0,798.0,76.0,706.0,466.0,816.0,867.0,966.0,850.0,656.0,811.0,257.0,322.0,146.0,218.0,744.0,83.0,389.0,937.0,568.0,101.0,223.0,775.0,501.0,795.0,777.0,564.0,359.0,380.0,23.0,31.0,961.0,327.0,584.0,98.0,938.0,61.0,761.0,73.0,54.0],\"sizemode\":\"area\",\"sizeref\":2.495,\"symbol\":\"circle\"},\"mode\":\"markers\",\"name\":\"Installed\",\"orientation\":\"v\",\"showlegend\":true,\"x\":[17.0,37.0,32.0,45.0,28.0,49.0,8.0,28.0,28.0,44.0,24.0,1.0,41.0,32.0,11.0,38.0,34.0,21.0,18.0,15.0,34.0,11.0,26.0,34.0,48.0,33.0,49.0,9.0,47.0,34.0,30.0,35.0,12.0,12.0,22.0,3.0,0.0,40.0,41.0,21.0,12.0,17.0,43.0,50.0,19.0,44.0,25.0,37.0,15.0,42.0,42.0,15.0,45.0,25.0,34.0,37.0,32.0,49.0,20.0,49.0,32.0,37.0,8.0,49.0,43.0,39.0,35.0,9.0,50.0,40.0,46.0,41.0,11.0,22.0,18.0,39.0,32.0,44.0,12.0,46.0,6.0,48.0,6.0,18.0,15.0,23.0,24.0,0.0,10.0,45.0,48.0,1.0,47.0,21.0,9.0,17.0,25.0,45.0,30.0,11.0,15.0,14.0,17.0,5.0,26.0,12.0,14.0,4.0,41.0,31.0,9.0,19.0,16.0,11.0,19.0,21.0,38.0,30.0,27.0,29.0,7.0,33.0,16.0,15.0,10.0,29.0,1.0,19.0,44.0,6.0,33.0,39.0,9.0,25.0,40.0,43.0,16.0,35.0,43.0,24.0,7.0,17.0,49.0,17.0,14.0,24.0,41.0,44.0,14.0,22.0,29.0,44.0,23.0,14.0,46.0,37.0,33.0,12.0,40.0,29.0,14.0,31.0,50.0,9.0,44.0,45.0,42.0,40.0,35.0,17.0,5.0,19.0,47.0,20.0,13.0,13.0,30.0,46.0,7.0,48.0,29.0,18.0,8.0,37.0,28.0,25.0,14.0,50.0,29.0,31.0,24.0,17.0,9.0,15.0,32.0,14.0,41.0,15.0,26.0,12.0,18.0,14.0,11.0,35.0,48.0,24.0,32.0,43.0,21.0,7.0,5.0,32.0,50.0,19.0,14.0,41.0,26.0,15.0,37.0,14.0,31.0,40.0,39.0,26.0,24.0,33.0,10.0,24.0,33.0,18.0,20.0,31.0,49.0,39.0,24.0,25.0,21.0,36.0,32.0,23.0,25.0,15.0,26.0,35.0,14.0,43.0,16.0,9.0,15.0,7.0,12.0,36.0,18.0,14.0,24.0,8.0,28.0,30.0,46.0,30.0,30.0,49.0,17.0,32.0,22.0,42.0,36.0,34.0,37.0,23.0,31.0,14.0,26.0,19.0,5.0,33.0,11.0,4.0,31.0,33.0,49.0,33.0,22.0,25.0,9.0,17.0,47.0,18.0,44.0,40.0,23.0,25.0,25.0,24.0,39.0,25.0,6.0,42.0,46.0,36.0,21.0,0.0,29.0,11.0,17.0,37.0,35.0,15.0,18.0,49.0,24.0,12.0,15.0,26.0,27.0,24.0,39.0,6.0,33.0,43.0,49.0,44.0,35.0,34.0,32.0,43.0,32.0,16.0,45.0,25.0,24.0,46.0,28.0,30.0,26.0,8.0,33.0,35.0,12.0,49.0,34.0,20.0,18.0,7.0,14.0,41.0,11.0,15.0,41.0,22.0,21.0,18.0,35.0,34.0,16.0,18.0,19.0,3.0,30.0,13.0,2.0,50.0,13.0,50.0,23.0,34.0,36.0,7.0,41.0,34.0,20.0,31.0,35.0,41.0,37.0,8.0,2.0,8.0,12.0,22.0,20.0,10.0,40.0,18.0,31.0,39.0,44.0,34.0,50.0,9.0,13.0,40.0,44.0,17.0,29.0,33.0,7.0,36.0,17.0,10.0,30.0,29.0,29.0,33.0,47.0,35.0,45.0,19.0,23.0,7.0,33.0,49.0,41.0,16.0,30.0,24.0,17.0,6.0,18.0,23.0,8.0,41.0,25.0,20.0,22.0,39.0,21.0,42.0,35.0,42.0,22.0,25.0,20.0,11.0,50.0,17.0,29.0,11.0,39.0,9.0,25.0,45.0,8.0,13.0,13.0,31.0,42.0,36.0,15.0,16.0,28.0,46.0,34.0,9.0,13.0,29.0,29.0,26.0,19.0,33.0,16.0,49.0,8.0,23.0,41.0,40.0,45.0,42.0,23.0,39.0,16.0,11.0,11.0,4.0,16.0,6.0,43.0,22.0,19.0,37.0,14.0,41.0,28.0,49.0,29.0,19.0,48.0,30.0,1.0,4.0,47.0,19.0,33.0,37.0,7.0,9.0,49.0,41.0,30.0,20.0,45.0,33.0,35.0,20.0,18.0,33.0,24.0,36.0,41.0,24.0,7.0,34.0,21.0,43.0,40.0,18.0,19.0,14.0,29.0,49.0,34.0,18.0,6.0,7.0,19.0,30.0,33.0,45.0,8.0,21.0,42.0,35.0,50.0,20.0,47.0,24.0,26.0,8.0,30.0,46.0,44.0,6.0,28.0,6.0,37.0,27.0,46.0,35.0,21.0,19.0,25.0,42.0,36.0,43.0,31.0,37.0,19.0,23.0,18.0,5.0,8.0,33.0,34.0,1.0,7.0,40.0,34.0,35.0,37.0,39.0,14.0,41.0,39.0,24.0,45.0,22.0,9.0,41.0,19.0,17.0,47.0,22.0,8.0,16.0,48.0,40.0,21.0,45.0,47.0,33.0,45.0,32.0,19.0,15.0,47.0,43.0,29.0,17.0,19.0,21.0,27.0,12.0,22.0,31.0,8.0,35.0,50.0,6.0,10.0,49.0,8.0,31.0,27.0,28.0,18.0,8.0,46.0,30.0,33.0,45.0,31.0,48.0,36.0,6.0,22.0,16.0,32.0,6.0,6.0,45.0,18.0,16.0,11.0,33.0,25.0,32.0,37.0,30.0,8.0,10.0,38.0,30.0,10.0,31.0,14.0,16.0,11.0,43.0,22.0,7.0,31.0,18.0,14.0,37.0,34.0,22.0,24.0,6.0,43.0,47.0,11.0,12.0,26.0,8.0,45.0,14.0,31.0,40.0,19.0,28.0,44.0,28.0,4.0,50.0,36.0,26.0,39.0,24.0,42.0,41.0,34.0,4.0,40.0,39.0,40.0,20.0,49.0,10.0,21.0,14.0,15.0,17.0,14.0,6.0,28.0,42.0,12.0,29.0,19.0,13.0,25.0,36.0,6.0,10.0,20.0,47.0,34.0,30.0,41.0,25.0,33.0,9.0,31.0,30.0,21.0,11.0,23.0,27.0,30.0,6.0,28.0,23.0,17.0,26.0,19.0,32.0,4.0,25.0,15.0,8.0,34.0,37.0,42.0,28.0,39.0,3.0,23.0,31.0,13.0,34.0,11.0,8.0,16.0,18.0,37.0,30.0,19.0,30.0,14.0,46.0,36.0,34.0,35.0,37.0,11.0,30.0,1.0,29.0,46.0,24.0,44.0,18.0,11.0,19.0,17.0,20.0,5.0,29.0,28.0,29.0,13.0,50.0,32.0,33.0,46.0,6.0,1.0,45.0,50.0,2.0,9.0,45.0,36.0,25.0,44.0,32.0,17.0,36.0,20.0,22.0,23.0,17.0,5.0,7.0,15.0,28.0,11.0,24.0,47.0,6.0,25.0,31.0,13.0,8.0,31.0,47.0,43.0,22.0,19.0,12.0,20.0,47.0,19.0,37.0,46.0,31.0,34.0,46.0,40.0,41.0,29.0,8.0,27.0,42.0,9.0,32.0,43.0,19.0,11.0,35.0,23.0,27.0,9.0,33.0,44.0,30.0,48.0,31.0,39.0,23.0,9.0,37.0,18.0,34.0,23.0,37.0,19.0,25.0,19.0,31.0,21.0,41.0,35.0,22.0,14.0,7.0,31.0,42.0,37.0,2.0,10.0,21.0,12.0,20.0,27.0,36.0,20.0,39.0,30.0,19.0,28.0,25.0,22.0,6.0,7.0,4.0,19.0,29.0,6.0,22.0,18.0,39.0,18.0,27.0,24.0,46.0,33.0,29.0,17.0,28.0,15.0,36.0,8.0,23.0,24.0,48.0,40.0,35.0,46.0,48.0,16.0,24.0,35.0,35.0,24.0,10.0,8.0,46.0,34.0,41.0,10.0,38.0,43.0,47.0,6.0,9.0],\"xaxis\":\"x\",\"y\":[634.0,207.0,445.0,427.0,599.0,887.0,31.0,741.0,524.0,688.0,466.0,49.0,845.0,251.0,169.0,776.0,341.0,250.0,967.0,774.0,482.0,645.0,688.0,400.0,73.0,460.0,848.0,46.0,195.0,114.0,976.0,932.0,243.0,222.0,410.0,70.0,96.0,207.0,519.0,621.0,461.0,800.0,125.0,405.0,654.0,908.0,875.0,519.0,260.0,911.0,214.0,771.0,726.0,110.0,196.0,157.0,912.0,889.0,512.0,202.0,234.0,966.0,98.0,723.0,738.0,528.0,881.0,90.0,360.0,811.0,398.0,384.0,974.0,222.0,990.0,266.0,919.0,976.0,436.0,320.0,17.0,552.0,61.0,242.0,543.0,448.0,252.0,66.0,42.0,940.0,528.0,52.0,830.0,559.0,74.0,804.0,733.0,663.0,763.0,67.0,115.0,853.0,379.0,20.0,629.0,508.0,462.0,93.0,204.0,293.0,31.0,354.0,971.0,255.0,294.0,682.0,601.0,59.0,627.0,73.0,5.0,500.0,364.0,464.0,10.0,87.0,13.0,570.0,667.0,96.0,485.0,740.0,27.0,549.0,219.0,550.0,861.0,991.0,722.0,84.0,12.0,153.0,90.0,799.0,938.0,582.0,96.0,431.0,402.0,629.0,91.0,674.0,901.0,196.0,151.0,564.0,493.0,71.0,266.0,838.0,135.0,72.0,839.0,12.0,867.0,375.0,798.0,696.0,894.0,522.0,46.0,661.0,750.0,101.0,73.0,316.0,482.0,747.0,36.0,634.0,990.0,212.0,33.0,987.0,892.0,489.0,279.0,882.0,721.0,674.0,809.0,296.0,94.0,372.0,164.0,146.0,672.0,205.0,150.0,836.0,701.0,616.0,378.0,998.0,298.0,344.0,496.0,399.0,520.0,19.0,0.0,491.0,974.0,865.0,662.0,250.0,485.0,506.0,534.0,603.0,817.0,300.0,595.0,936.0,488.0,242.0,31.0,392.0,333.0,328.0,828.0,839.0,188.0,405.0,634.0,715.0,598.0,755.0,138.0,310.0,477.0,252.0,385.0,217.0,81.0,429.0,254.0,80.0,361.0,8.0,863.0,270.0,813.0,826.0,511.0,9.0,860.0,226.0,135.0,416.0,463.0,877.0,360.0,830.0,909.0,63.0,300.0,285.0,837.0,320.0,621.0,152.0,486.0,401.0,79.0,778.0,923.0,38.0,95.0,990.0,679.0,617.0,994.0,519.0,25.0,396.0,226.0,993.0,107.0,869.0,60.0,749.0,863.0,158.0,424.0,984.0,20.0,988.0,560.0,721.0,261.0,100.0,492.0,222.0,788.0,175.0,198.0,481.0,863.0,580.0,216.0,69.0,807.0,739.0,704.0,357.0,614.0,87.0,559.0,660.0,623.0,350.0,936.0,841.0,89.0,833.0,763.0,68.0,330.0,159.0,340.0,832.0,992.0,849.0,742.0,73.0,190.0,928.0,718.0,238.0,736.0,992.0,165.0,75.0,326.0,173.0,930.0,349.0,152.0,719.0,597.0,286.0,754.0,88.0,768.0,158.0,729.0,37.0,900.0,188.0,89.0,70.0,536.0,609.0,796.0,95.0,871.0,10.0,733.0,608.0,506.0,977.0,761.0,708.0,534.0,71.0,9.0,4.0,502.0,614.0,473.0,67.0,254.0,558.0,513.0,80.0,621.0,902.0,411.0,63.0,889.0,347.0,546.0,810.0,68.0,783.0,9.0,603.0,633.0,65.0,481.0,93.0,568.0,423.0,319.0,434.0,75.0,786.0,551.0,85.0,486.0,267.0,566.0,150.0,623.0,219.0,379.0,97.0,375.0,647.0,44.0,635.0,241.0,858.0,435.0,102.0,305.0,212.0,805.0,693.0,981.0,275.0,460.0,273.0,886.0,478.0,368.0,510.0,368.0,14.0,970.0,284.0,39.0,125.0,619.0,207.0,83.0,633.0,64.0,767.0,75.0,53.0,366.0,15.0,479.0,726.0,567.0,819.0,636.0,829.0,748.0,498.0,72.0,859.0,833.0,482.0,402.0,589.0,880.0,61.0,669.0,224.0,845.0,44.0,415.0,7.0,187.0,876.0,79.0,678.0,530.0,319.0,427.0,161.0,516.0,168.0,504.0,465.0,13.0,2.0,885.0,474.0,703.0,155.0,85.0,26.0,321.0,813.0,355.0,690.0,331.0,441.0,338.0,701.0,411.0,970.0,120.0,187.0,927.0,564.0,71.0,239.0,307.0,236.0,511.0,638.0,537.0,836.0,743.0,371.0,90.0,91.0,40.0,48.0,467.0,831.0,164.0,936.0,29.0,379.0,786.0,194.0,170.0,128.0,744.0,850.0,607.0,45.0,644.0,107.0,887.0,93.0,503.0,9.0,571.0,424.0,404.0,329.0,751.0,269.0,894.0,520.0,865.0,518.0,161.0,328.0,410.0,735.0,539.0,46.0,96.0,419.0,578.0,56.0,48.0,151.0,894.0,394.0,877.0,249.0,459.0,837.0,726.0,597.0,395.0,459.0,6.0,904.0,841.0,167.0,228.0,847.0,68.0,78.0,125.0,275.0,768.0,499.0,64.0,970.0,516.0,800.0,756.0,688.0,280.0,580.0,610.0,484.0,369.0,79.0,284.0,555.0,714.0,517.0,73.0,170.0,719.0,52.0,13.0,155.0,77.0,311.0,85.0,155.0,423.0,7.0,819.0,533.0,523.0,797.0,508.0,729.0,600.0,75.0,180.0,618.0,647.0,37.0,55.0,528.0,779.0,167.0,772.0,863.0,306.0,627.0,854.0,849.0,4.0,87.0,208.0,424.0,84.0,993.0,609.0,295.0,282.0,958.0,53.0,69.0,874.0,845.0,567.0,300.0,116.0,753.0,825.0,64.0,903.0,560.0,873.0,438.0,201.0,86.0,673.0,892.0,739.0,357.0,105.0,922.0,893.0,106.0,59.0,510.0,936.0,734.0,969.0,677.0,504.0,305.0,804.0,6.0,642.0,787.0,231.0,747.0,357.0,26.0,946.0,797.0,841.0,950.0,945.0,45.0,834.0,171.0,857.0,932.0,87.0,733.0,462.0,955.0,32.0,51.0,298.0,449.0,172.0,424.0,326.0,631.0,276.0,79.0,915.0,367.0,892.0,173.0,201.0,355.0,123.0,9.0,678.0,831.0,269.0,627.0,657.0,816.0,39.0,337.0,632.0,79.0,342.0,659.0,324.0,558.0,452.0,60.0,352.0,572.0,300.0,331.0,938.0,26.0,459.0,751.0,479.0,312.0,901.0,867.0,68.0,832.0,295.0,560.0,518.0,266.0,350.0,564.0,92.0,387.0,724.0,307.0,890.0,454.0,624.0,557.0,579.0,246.0,87.0,490.0,732.0,311.0,486.0,663.0,516.0,398.0,93.0,69.0,65.0,824.0,616.0,50.0,90.0,286.0,55.0,684.0,758.0,365.0,615.0,928.0,993.0,261.0,764.0,255.0,1.0,81.0,332.0,518.0,603.0,613.0,136.0,15.0,682.0,323.0,597.0,64.0,905.0,251.0,294.0,73.0,917.0,856.0,93.0,964.0,111.0,619.0,241.0,717.0,84.0,783.0,136.0,763.0,586.0,28.0,856.0,185.0,30.0,319.0,391.0,898.0,303.0,885.0,656.0,925.0,19.0,959.0,302.0,827.0,920.0,662.0,273.0,161.0,58.0,291.0,402.0,457.0,51.0,309.0,253.0,838.0,625.0,769.0,828.0,747.0,85.0,277.0,847.0,2.0,877.0,156.0,814.0,84.0,19.0,755.0,98.0,765.0,996.0,975.0,258.0,983.0,381.0,868.0,226.0,239.0,828.0,40.0,95.0,22.0,313.0,798.0,76.0,706.0,466.0,816.0,867.0,966.0,850.0,656.0,811.0,257.0,322.0,146.0,218.0,744.0,83.0,389.0,937.0,568.0,101.0,223.0,775.0,501.0,795.0,777.0,564.0,359.0,380.0,23.0,31.0,961.0,327.0,584.0,98.0,938.0,61.0,761.0,73.0,54.0],\"yaxis\":\"y\",\"type\":\"scatter\"},{\"hovertemplate\":\"\\u003cb\\u003eOLS trendline\\u003c\\u002fb\\u003e\\u003cbr\\u003eAverage Spent on App (INR) = 7.82515 * Average Screen Time + 251.62\\u003cbr\\u003eR\\u003csup\\u003e2\\u003c\\u002fsup\\u003e=0.113975\\u003cbr\\u003e\\u003cbr\\u003eStatus=Installed\\u003cbr\\u003eAverage Screen Time=%{x}\\u003cbr\\u003eAverage Spent on App (INR)=%{y} \\u003cb\\u003e(trend)\\u003c\\u002fb\\u003e\\u003cextra\\u003e\\u003c\\u002fextra\\u003e\",\"legendgroup\":\"Installed\",\"marker\":{\"color\":\"#636efa\",\"symbol\":\"circle\"},\"mode\":\"lines\",\"name\":\"Installed\",\"showlegend\":false,\"x\":[0.0,0.0,0.0,1.0,1.0,1.0,1.0,1.0,1.0,1.0,2.0,2.0,2.0,2.0,3.0,3.0,3.0,4.0,4.0,4.0,4.0,4.0,4.0,4.0,4.0,5.0,5.0,5.0,5.0,5.0,5.0,5.0,6.0,6.0,6.0,6.0,6.0,6.0,6.0,6.0,6.0,6.0,6.0,6.0,6.0,6.0,6.0,6.0,6.0,6.0,6.0,6.0,6.0,6.0,6.0,7.0,7.0,7.0,7.0,7.0,7.0,7.0,7.0,7.0,7.0,7.0,7.0,7.0,7.0,7.0,7.0,7.0,8.0,8.0,8.0,8.0,8.0,8.0,8.0,8.0,8.0,8.0,8.0,8.0,8.0,8.0,8.0,8.0,8.0,8.0,8.0,8.0,8.0,8.0,8.0,8.0,8.0,9.0,9.0,9.0,9.0,9.0,9.0,9.0,9.0,9.0,9.0,9.0,9.0,9.0,9.0,9.0,9.0,9.0,9.0,9.0,9.0,10.0,10.0,10.0,10.0,10.0,10.0,10.0,10.0,10.0,10.0,10.0,10.0,10.0,11.0,11.0,11.0,11.0,11.0,11.0,11.0,11.0,11.0,11.0,11.0,11.0,11.0,11.0,11.0,11.0,11.0,11.0,11.0,11.0,11.0,11.0,12.0,12.0,12.0,12.0,12.0,12.0,12.0,12.0,12.0,12.0,12.0,12.0,12.0,12.0,12.0,12.0,13.0,13.0,13.0,13.0,13.0,13.0,13.0,13.0,13.0,13.0,13.0,13.0,14.0,14.0,14.0,14.0,14.0,14.0,14.0,14.0,14.0,14.0,14.0,14.0,14.0,14.0,14.0,14.0,14.0,14.0,14.0,14.0,14.0,14.0,14.0,14.0,14.0,15.0,15.0,15.0,15.0,15.0,15.0,15.0,15.0,15.0,15.0,15.0,15.0,15.0,15.0,15.0,15.0,15.0,15.0,15.0,15.0,16.0,16.0,16.0,16.0,16.0,16.0,16.0,16.0,16.0,16.0,16.0,16.0,16.0,16.0,16.0,16.0,16.0,17.0,17.0,17.0,17.0,17.0,17.0,17.0,17.0,17.0,17.0,17.0,17.0,17.0,17.0,17.0,17.0,17.0,17.0,17.0,17.0,17.0,17.0,17.0,18.0,18.0,18.0,18.0,18.0,18.0,18.0,18.0,18.0,18.0,18.0,18.0,18.0,18.0,18.0,18.0,18.0,18.0,18.0,18.0,18.0,18.0,18.0,18.0,18.0,18.0,19.0,19.0,19.0,19.0,19.0,19.0,19.0,19.0,19.0,19.0,19.0,19.0,19.0,19.0,19.0,19.0,19.0,19.0,19.0,19.0,19.0,19.0,19.0,19.0,19.0,19.0,19.0,19.0,19.0,19.0,19.0,19.0,20.0,20.0,20.0,20.0,20.0,20.0,20.0,20.0,20.0,20.0,20.0,20.0,20.0,20.0,20.0,20.0,20.0,20.0,21.0,21.0,21.0,21.0,21.0,21.0,21.0,21.0,21.0,21.0,21.0,21.0,21.0,21.0,21.0,21.0,21.0,21.0,22.0,22.0,22.0,22.0,22.0,22.0,22.0,22.0,22.0,22.0,22.0,22.0,22.0,22.0,22.0,22.0,22.0,22.0,22.0,22.0,22.0,23.0,23.0,23.0,23.0,23.0,23.0,23.0,23.0,23.0,23.0,23.0,23.0,23.0,23.0,23.0,23.0,23.0,23.0,23.0,24.0,24.0,24.0,24.0,24.0,24.0,24.0,24.0,24.0,24.0,24.0,24.0,24.0,24.0,24.0,24.0,24.0,24.0,24.0,24.0,24.0,24.0,24.0,24.0,24.0,24.0,24.0,25.0,25.0,25.0,25.0,25.0,25.0,25.0,25.0,25.0,25.0,25.0,25.0,25.0,25.0,25.0,25.0,25.0,25.0,25.0,25.0,25.0,25.0,25.0,25.0,26.0,26.0,26.0,26.0,26.0,26.0,26.0,26.0,26.0,26.0,26.0,26.0,26.0,26.0,27.0,27.0,27.0,27.0,27.0,27.0,27.0,27.0,27.0,27.0,28.0,28.0,28.0,28.0,28.0,28.0,28.0,28.0,28.0,28.0,28.0,28.0,28.0,28.0,28.0,28.0,28.0,28.0,28.0,29.0,29.0,29.0,29.0,29.0,29.0,29.0,29.0,29.0,29.0,29.0,29.0,29.0,29.0,29.0,29.0,29.0,29.0,29.0,29.0,29.0,29.0,29.0,30.0,30.0,30.0,30.0,30.0,30.0,30.0,30.0,30.0,30.0,30.0,30.0,30.0,30.0,30.0,30.0,30.0,30.0,30.0,30.0,30.0,30.0,30.0,30.0,30.0,30.0,31.0,31.0,31.0,31.0,31.0,31.0,31.0,31.0,31.0,31.0,31.0,31.0,31.0,31.0,31.0,31.0,31.0,31.0,31.0,31.0,31.0,31.0,31.0,31.0,31.0,32.0,32.0,32.0,32.0,32.0,32.0,32.0,32.0,32.0,32.0,32.0,32.0,32.0,32.0,32.0,32.0,32.0,32.0,32.0,33.0,33.0,33.0,33.0,33.0,33.0,33.0,33.0,33.0,33.0,33.0,33.0,33.0,33.0,33.0,33.0,33.0,33.0,33.0,33.0,33.0,33.0,33.0,33.0,33.0,33.0,33.0,34.0,34.0,34.0,34.0,34.0,34.0,34.0,34.0,34.0,34.0,34.0,34.0,34.0,34.0,34.0,34.0,34.0,34.0,34.0,34.0,34.0,34.0,34.0,34.0,34.0,34.0,35.0,35.0,35.0,35.0,35.0,35.0,35.0,35.0,35.0,35.0,35.0,35.0,35.0,35.0,35.0,35.0,35.0,35.0,35.0,35.0,35.0,35.0,35.0,35.0,36.0,36.0,36.0,36.0,36.0,36.0,36.0,36.0,36.0,36.0,36.0,36.0,36.0,36.0,36.0,36.0,36.0,37.0,37.0,37.0,37.0,37.0,37.0,37.0,37.0,37.0,37.0,37.0,37.0,37.0,37.0,37.0,37.0,37.0,37.0,37.0,37.0,37.0,37.0,37.0,37.0,38.0,38.0,38.0,38.0,39.0,39.0,39.0,39.0,39.0,39.0,39.0,39.0,39.0,39.0,39.0,39.0,39.0,39.0,39.0,39.0,39.0,39.0,39.0,40.0,40.0,40.0,40.0,40.0,40.0,40.0,40.0,40.0,40.0,40.0,40.0,40.0,40.0,40.0,40.0,40.0,40.0,41.0,41.0,41.0,41.0,41.0,41.0,41.0,41.0,41.0,41.0,41.0,41.0,41.0,41.0,41.0,41.0,41.0,41.0,41.0,41.0,41.0,41.0,41.0,41.0,42.0,42.0,42.0,42.0,42.0,42.0,42.0,42.0,42.0,42.0,42.0,42.0,42.0,42.0,42.0,42.0,43.0,43.0,43.0,43.0,43.0,43.0,43.0,43.0,43.0,43.0,43.0,43.0,43.0,43.0,43.0,43.0,43.0,44.0,44.0,44.0,44.0,44.0,44.0,44.0,44.0,44.0,44.0,44.0,44.0,44.0,44.0,44.0,44.0,45.0,45.0,45.0,45.0,45.0,45.0,45.0,45.0,45.0,45.0,45.0,45.0,45.0,45.0,45.0,45.0,45.0,45.0,45.0,46.0,46.0,46.0,46.0,46.0,46.0,46.0,46.0,46.0,46.0,46.0,46.0,46.0,46.0,46.0,46.0,46.0,46.0,46.0,47.0,47.0,47.0,47.0,47.0,47.0,47.0,47.0,47.0,47.0,47.0,47.0,47.0,47.0,47.0,47.0,48.0,48.0,48.0,48.0,48.0,48.0,48.0,48.0,48.0,48.0,48.0,49.0,49.0,49.0,49.0,49.0,49.0,49.0,49.0,49.0,49.0,49.0,49.0,49.0,49.0,49.0,49.0,49.0,49.0,49.0,50.0,50.0,50.0,50.0,50.0,50.0,50.0,50.0,50.0,50.0,50.0,50.0,50.0,50.0],\"xaxis\":\"x\",\"y\":[251.62041814423242,251.62041814423242,251.62041814423242,259.4455700232862,259.4455700232862,259.4455700232862,259.4455700232862,259.4455700232862,259.4455700232862,259.4455700232862,267.27072190234,267.27072190234,267.27072190234,267.27072190234,275.0958737813938,275.0958737813938,275.0958737813938,282.9210256604476,282.9210256604476,282.9210256604476,282.9210256604476,282.9210256604476,282.9210256604476,282.9210256604476,282.9210256604476,290.74617753950133,290.74617753950133,290.74617753950133,290.74617753950133,290.74617753950133,290.74617753950133,290.74617753950133,298.57132941855514,298.57132941855514,298.57132941855514,298.57132941855514,298.57132941855514,298.57132941855514,298.57132941855514,298.57132941855514,298.57132941855514,298.57132941855514,298.57132941855514,298.57132941855514,298.57132941855514,298.57132941855514,298.57132941855514,298.57132941855514,298.57132941855514,298.57132941855514,298.57132941855514,298.57132941855514,298.57132941855514,298.57132941855514,298.57132941855514,306.39648129760894,306.39648129760894,306.39648129760894,306.39648129760894,306.39648129760894,306.39648129760894,306.39648129760894,306.39648129760894,306.39648129760894,306.39648129760894,306.39648129760894,306.39648129760894,306.39648129760894,306.39648129760894,306.39648129760894,306.39648129760894,306.39648129760894,314.2216331766627,314.2216331766627,314.2216331766627,314.2216331766627,314.2216331766627,314.2216331766627,314.2216331766627,314.2216331766627,314.2216331766627,314.2216331766627,314.2216331766627,314.2216331766627,314.2216331766627,314.2216331766627,314.2216331766627,314.2216331766627,314.2216331766627,314.2216331766627,314.2216331766627,314.2216331766627,314.2216331766627,314.2216331766627,314.2216331766627,314.2216331766627,314.2216331766627,322.0467850557165,322.0467850557165,322.0467850557165,322.0467850557165,322.0467850557165,322.0467850557165,322.0467850557165,322.0467850557165,322.0467850557165,322.0467850557165,322.0467850557165,322.0467850557165,322.0467850557165,322.0467850557165,322.0467850557165,322.0467850557165,322.0467850557165,322.0467850557165,322.0467850557165,322.0467850557165,329.87193693477025,329.87193693477025,329.87193693477025,329.87193693477025,329.87193693477025,329.87193693477025,329.87193693477025,329.87193693477025,329.87193693477025,329.87193693477025,329.87193693477025,329.87193693477025,329.87193693477025,337.69708881382405,337.69708881382405,337.69708881382405,337.69708881382405,337.69708881382405,337.69708881382405,337.69708881382405,337.69708881382405,337.69708881382405,337.69708881382405,337.69708881382405,337.69708881382405,337.69708881382405,337.69708881382405,337.69708881382405,337.69708881382405,337.69708881382405,337.69708881382405,337.69708881382405,337.69708881382405,337.69708881382405,337.69708881382405,345.52224069287786,345.52224069287786,345.52224069287786,345.52224069287786,345.52224069287786,345.52224069287786,345.52224069287786,345.52224069287786,345.52224069287786,345.52224069287786,345.52224069287786,345.52224069287786,345.52224069287786,345.52224069287786,345.52224069287786,345.52224069287786,353.34739257193166,353.34739257193166,353.34739257193166,353.34739257193166,353.34739257193166,353.34739257193166,353.34739257193166,353.34739257193166,353.34739257193166,353.34739257193166,353.34739257193166,353.34739257193166,361.1725444509854,361.1725444509854,361.1725444509854,361.1725444509854,361.1725444509854,361.1725444509854,361.1725444509854,361.1725444509854,361.1725444509854,361.1725444509854,361.1725444509854,361.1725444509854,361.1725444509854,361.1725444509854,361.1725444509854,361.1725444509854,361.1725444509854,361.1725444509854,361.1725444509854,361.1725444509854,361.1725444509854,361.1725444509854,361.1725444509854,361.1725444509854,361.1725444509854,368.9976963300392,368.9976963300392,368.9976963300392,368.9976963300392,368.9976963300392,368.9976963300392,368.9976963300392,368.9976963300392,368.9976963300392,368.9976963300392,368.9976963300392,368.9976963300392,368.9976963300392,368.9976963300392,368.9976963300392,368.9976963300392,368.9976963300392,368.9976963300392,368.9976963300392,368.9976963300392,376.82284820909297,376.82284820909297,376.82284820909297,376.82284820909297,376.82284820909297,376.82284820909297,376.82284820909297,376.82284820909297,376.82284820909297,376.82284820909297,376.82284820909297,376.82284820909297,376.82284820909297,376.82284820909297,376.82284820909297,376.82284820909297,376.82284820909297,384.6480000881468,384.6480000881468,384.6480000881468,384.6480000881468,384.6480000881468,384.6480000881468,384.6480000881468,384.6480000881468,384.6480000881468,384.6480000881468,384.6480000881468,384.6480000881468,384.6480000881468,384.6480000881468,384.6480000881468,384.6480000881468,384.6480000881468,384.6480000881468,384.6480000881468,384.6480000881468,384.6480000881468,384.6480000881468,384.6480000881468,392.4731519672006,392.4731519672006,392.4731519672006,392.4731519672006,392.4731519672006,392.4731519672006,392.4731519672006,392.4731519672006,392.4731519672006,392.4731519672006,392.4731519672006,392.4731519672006,392.4731519672006,392.4731519672006,392.4731519672006,392.4731519672006,392.4731519672006,392.4731519672006,392.4731519672006,392.4731519672006,392.4731519672006,392.4731519672006,392.4731519672006,392.4731519672006,392.4731519672006,392.4731519672006,400.2983038462544,400.2983038462544,400.2983038462544,400.2983038462544,400.2983038462544,400.2983038462544,400.2983038462544,400.2983038462544,400.2983038462544,400.2983038462544,400.2983038462544,400.2983038462544,400.2983038462544,400.2983038462544,400.2983038462544,400.2983038462544,400.2983038462544,400.2983038462544,400.2983038462544,400.2983038462544,400.2983038462544,400.2983038462544,400.2983038462544,400.2983038462544,400.2983038462544,400.2983038462544,400.2983038462544,400.2983038462544,400.2983038462544,400.2983038462544,400.2983038462544,400.2983038462544,408.12345572530813,408.12345572530813,408.12345572530813,408.12345572530813,408.12345572530813,408.12345572530813,408.12345572530813,408.12345572530813,408.12345572530813,408.12345572530813,408.12345572530813,408.12345572530813,408.12345572530813,408.12345572530813,408.12345572530813,408.12345572530813,408.12345572530813,408.12345572530813,415.94860760436194,415.94860760436194,415.94860760436194,415.94860760436194,415.94860760436194,415.94860760436194,415.94860760436194,415.94860760436194,415.94860760436194,415.94860760436194,415.94860760436194,415.94860760436194,415.94860760436194,415.94860760436194,415.94860760436194,415.94860760436194,415.94860760436194,415.94860760436194,423.7737594834157,423.7737594834157,423.7737594834157,423.7737594834157,423.7737594834157,423.7737594834157,423.7737594834157,423.7737594834157,423.7737594834157,423.7737594834157,423.7737594834157,423.7737594834157,423.7737594834157,423.7737594834157,423.7737594834157,423.7737594834157,423.7737594834157,423.7737594834157,423.7737594834157,423.7737594834157,423.7737594834157,431.5989113624695,431.5989113624695,431.5989113624695,431.5989113624695,431.5989113624695,431.5989113624695,431.5989113624695,431.5989113624695,431.5989113624695,431.5989113624695,431.5989113624695,431.5989113624695,431.5989113624695,431.5989113624695,431.5989113624695,431.5989113624695,431.5989113624695,431.5989113624695,431.5989113624695,439.4240632415233,439.4240632415233,439.4240632415233,439.4240632415233,439.4240632415233,439.4240632415233,439.4240632415233,439.4240632415233,439.4240632415233,439.4240632415233,439.4240632415233,439.4240632415233,439.4240632415233,439.4240632415233,439.4240632415233,439.4240632415233,439.4240632415233,439.4240632415233,439.4240632415233,439.4240632415233,439.4240632415233,439.4240632415233,439.4240632415233,439.4240632415233,439.4240632415233,439.4240632415233,439.4240632415233,447.2492151205771,447.2492151205771,447.2492151205771,447.2492151205771,447.2492151205771,447.2492151205771,447.2492151205771,447.2492151205771,447.2492151205771,447.2492151205771,447.2492151205771,447.2492151205771,447.2492151205771,447.2492151205771,447.2492151205771,447.2492151205771,447.2492151205771,447.2492151205771,447.2492151205771,447.2492151205771,447.2492151205771,447.2492151205771,447.2492151205771,447.2492151205771,455.07436699963085,455.07436699963085,455.07436699963085,455.07436699963085,455.07436699963085,455.07436699963085,455.07436699963085,455.07436699963085,455.07436699963085,455.07436699963085,455.07436699963085,455.07436699963085,455.07436699963085,455.07436699963085,462.8995188786846,462.8995188786846,462.8995188786846,462.8995188786846,462.8995188786846,462.8995188786846,462.8995188786846,462.8995188786846,462.8995188786846,462.8995188786846,470.7246707577384,470.7246707577384,470.7246707577384,470.7246707577384,470.7246707577384,470.7246707577384,470.7246707577384,470.7246707577384,470.7246707577384,470.7246707577384,470.7246707577384,470.7246707577384,470.7246707577384,470.7246707577384,470.7246707577384,470.7246707577384,470.7246707577384,470.7246707577384,470.7246707577384,478.5498226367922,478.5498226367922,478.5498226367922,478.5498226367922,478.5498226367922,478.5498226367922,478.5498226367922,478.5498226367922,478.5498226367922,478.5498226367922,478.5498226367922,478.5498226367922,478.5498226367922,478.5498226367922,478.5498226367922,478.5498226367922,478.5498226367922,478.5498226367922,478.5498226367922,478.5498226367922,478.5498226367922,478.5498226367922,478.5498226367922,486.374974515846,486.374974515846,486.374974515846,486.374974515846,486.374974515846,486.374974515846,486.374974515846,486.374974515846,486.374974515846,486.374974515846,486.374974515846,486.374974515846,486.374974515846,486.374974515846,486.374974515846,486.374974515846,486.374974515846,486.374974515846,486.374974515846,486.374974515846,486.374974515846,486.374974515846,486.374974515846,486.374974515846,486.374974515846,486.374974515846,494.2001263948998,494.2001263948998,494.2001263948998,494.2001263948998,494.2001263948998,494.2001263948998,494.2001263948998,494.2001263948998,494.2001263948998,494.2001263948998,494.2001263948998,494.2001263948998,494.2001263948998,494.2001263948998,494.2001263948998,494.2001263948998,494.2001263948998,494.2001263948998,494.2001263948998,494.2001263948998,494.2001263948998,494.2001263948998,494.2001263948998,494.2001263948998,494.2001263948998,502.0252782739536,502.0252782739536,502.0252782739536,502.0252782739536,502.0252782739536,502.0252782739536,502.0252782739536,502.0252782739536,502.0252782739536,502.0252782739536,502.0252782739536,502.0252782739536,502.0252782739536,502.0252782739536,502.0252782739536,502.0252782739536,502.0252782739536,502.0252782739536,502.0252782739536,509.8504301530074,509.8504301530074,509.8504301530074,509.8504301530074,509.8504301530074,509.8504301530074,509.8504301530074,509.8504301530074,509.8504301530074,509.8504301530074,509.8504301530074,509.8504301530074,509.8504301530074,509.8504301530074,509.8504301530074,509.8504301530074,509.8504301530074,509.8504301530074,509.8504301530074,509.8504301530074,509.8504301530074,509.8504301530074,509.8504301530074,509.8504301530074,509.8504301530074,509.8504301530074,509.8504301530074,517.6755820320611,517.6755820320611,517.6755820320611,517.6755820320611,517.6755820320611,517.6755820320611,517.6755820320611,517.6755820320611,517.6755820320611,517.6755820320611,517.6755820320611,517.6755820320611,517.6755820320611,517.6755820320611,517.6755820320611,517.6755820320611,517.6755820320611,517.6755820320611,517.6755820320611,517.6755820320611,517.6755820320611,517.6755820320611,517.6755820320611,517.6755820320611,517.6755820320611,517.6755820320611,525.5007339111149,525.5007339111149,525.5007339111149,525.5007339111149,525.5007339111149,525.5007339111149,525.5007339111149,525.5007339111149,525.5007339111149,525.5007339111149,525.5007339111149,525.5007339111149,525.5007339111149,525.5007339111149,525.5007339111149,525.5007339111149,525.5007339111149,525.5007339111149,525.5007339111149,525.5007339111149,525.5007339111149,525.5007339111149,525.5007339111149,525.5007339111149,533.3258857901687,533.3258857901687,533.3258857901687,533.3258857901687,533.3258857901687,533.3258857901687,533.3258857901687,533.3258857901687,533.3258857901687,533.3258857901687,533.3258857901687,533.3258857901687,533.3258857901687,533.3258857901687,533.3258857901687,533.3258857901687,533.3258857901687,541.1510376692224,541.1510376692224,541.1510376692224,541.1510376692224,541.1510376692224,541.1510376692224,541.1510376692224,541.1510376692224,541.1510376692224,541.1510376692224,541.1510376692224,541.1510376692224,541.1510376692224,541.1510376692224,541.1510376692224,541.1510376692224,541.1510376692224,541.1510376692224,541.1510376692224,541.1510376692224,541.1510376692224,541.1510376692224,541.1510376692224,541.1510376692224,548.9761895482764,548.9761895482764,548.9761895482764,548.9761895482764,556.80134142733,556.80134142733,556.80134142733,556.80134142733,556.80134142733,556.80134142733,556.80134142733,556.80134142733,556.80134142733,556.80134142733,556.80134142733,556.80134142733,556.80134142733,556.80134142733,556.80134142733,556.80134142733,556.80134142733,556.80134142733,556.80134142733,564.6264933063838,564.6264933063838,564.6264933063838,564.6264933063838,564.6264933063838,564.6264933063838,564.6264933063838,564.6264933063838,564.6264933063838,564.6264933063838,564.6264933063838,564.6264933063838,564.6264933063838,564.6264933063838,564.6264933063838,564.6264933063838,564.6264933063838,564.6264933063838,572.4516451854377,572.4516451854377,572.4516451854377,572.4516451854377,572.4516451854377,572.4516451854377,572.4516451854377,572.4516451854377,572.4516451854377,572.4516451854377,572.4516451854377,572.4516451854377,572.4516451854377,572.4516451854377,572.4516451854377,572.4516451854377,572.4516451854377,572.4516451854377,572.4516451854377,572.4516451854377,572.4516451854377,572.4516451854377,572.4516451854377,572.4516451854377,580.2767970644915,580.2767970644915,580.2767970644915,580.2767970644915,580.2767970644915,580.2767970644915,580.2767970644915,580.2767970644915,580.2767970644915,580.2767970644915,580.2767970644915,580.2767970644915,580.2767970644915,580.2767970644915,580.2767970644915,580.2767970644915,588.1019489435453,588.1019489435453,588.1019489435453,588.1019489435453,588.1019489435453,588.1019489435453,588.1019489435453,588.1019489435453,588.1019489435453,588.1019489435453,588.1019489435453,588.1019489435453,588.1019489435453,588.1019489435453,588.1019489435453,588.1019489435453,588.1019489435453,595.927100822599,595.927100822599,595.927100822599,595.927100822599,595.927100822599,595.927100822599,595.927100822599,595.927100822599,595.927100822599,595.927100822599,595.927100822599,595.927100822599,595.927100822599,595.927100822599,595.927100822599,595.927100822599,603.7522527016529,603.7522527016529,603.7522527016529,603.7522527016529,603.7522527016529,603.7522527016529,603.7522527016529,603.7522527016529,603.7522527016529,603.7522527016529,603.7522527016529,603.7522527016529,603.7522527016529,603.7522527016529,603.7522527016529,603.7522527016529,603.7522527016529,603.7522527016529,603.7522527016529,611.5774045807066,611.5774045807066,611.5774045807066,611.5774045807066,611.5774045807066,611.5774045807066,611.5774045807066,611.5774045807066,611.5774045807066,611.5774045807066,611.5774045807066,611.5774045807066,611.5774045807066,611.5774045807066,611.5774045807066,611.5774045807066,611.5774045807066,611.5774045807066,611.5774045807066,619.4025564597604,619.4025564597604,619.4025564597604,619.4025564597604,619.4025564597604,619.4025564597604,619.4025564597604,619.4025564597604,619.4025564597604,619.4025564597604,619.4025564597604,619.4025564597604,619.4025564597604,619.4025564597604,619.4025564597604,619.4025564597604,627.2277083388142,627.2277083388142,627.2277083388142,627.2277083388142,627.2277083388142,627.2277083388142,627.2277083388142,627.2277083388142,627.2277083388142,627.2277083388142,627.2277083388142,635.0528602178679,635.0528602178679,635.0528602178679,635.0528602178679,635.0528602178679,635.0528602178679,635.0528602178679,635.0528602178679,635.0528602178679,635.0528602178679,635.0528602178679,635.0528602178679,635.0528602178679,635.0528602178679,635.0528602178679,635.0528602178679,635.0528602178679,635.0528602178679,635.0528602178679,642.8780120969218,642.8780120969218,642.8780120969218,642.8780120969218,642.8780120969218,642.8780120969218,642.8780120969218,642.8780120969218,642.8780120969218,642.8780120969218,642.8780120969218,642.8780120969218,642.8780120969218,642.8780120969218],\"yaxis\":\"y\",\"type\":\"scatter\"},{\"hovertemplate\":\"Status=Uninstalled\\u003cbr\\u003eAverage Screen Time=%{x}\\u003cbr\\u003eAverage Spent on App (INR)=%{marker.size}\\u003cextra\\u003e\\u003c\\u002fextra\\u003e\",\"legendgroup\":\"Uninstalled\",\"marker\":{\"color\":\"#EF553B\",\"size\":[54.0,97.0,93.0,34.0,67.0,26.0,48.0,94.0,8.0,75.0,23.0,44.0,42.0,95.0,83.0,46.0,100.0,37.0,51.0,92.0,69.0,93.0,16.0,10.0,17.0,77.0,91.0,32.0,95.0,39.0,31.0,93.0,42.0,47.0,28.0,25.0,50.0,97.0,58.0,15.0,75.0,66.0,17.0,21.0,81.0,25.0,62.0,25.0,99.0,59.0,36.0,26.0,96.0,84.0,49.0,42.0,88.0,75.0,13.0,45.0,36.0,1.0,10.0,92.0,87.0,6.0,4.0,93.0,5.0,0.0,12.0,84.0,97.0,30.0,49.0,29.0,78.0,42.0,3.0,95.0,31.0,73.0,43.0],\"sizemode\":\"area\",\"sizeref\":2.495,\"symbol\":\"circle\"},\"mode\":\"markers\",\"name\":\"Uninstalled\",\"orientation\":\"v\",\"showlegend\":true,\"x\":[0.0,1.0,4.0,3.0,5.0,5.0,0.0,1.0,1.0,3.0,0.0,3.0,2.0,1.0,3.0,3.0,3.0,4.0,4.0,1.0,2.0,0.0,1.0,3.0,4.0,3.0,4.0,0.0,0.0,2.0,1.0,5.0,0.0,5.0,1.0,4.0,4.0,0.0,4.0,5.0,4.0,0.0,5.0,0.0,2.0,2.0,5.0,5.0,2.0,1.0,5.0,0.0,2.0,1.0,5.0,0.0,0.0,1.0,2.0,3.0,4.0,3.0,1.0,0.0,1.0,0.0,4.0,2.0,2.0,3.0,4.0,1.0,3.0,3.0,0.0,5.0,2.0,4.0,2.0,0.0,2.0,1.0,2.0],\"xaxis\":\"x\",\"y\":[54.0,97.0,93.0,34.0,67.0,26.0,48.0,94.0,8.0,75.0,23.0,44.0,42.0,95.0,83.0,46.0,100.0,37.0,51.0,92.0,69.0,93.0,16.0,10.0,17.0,77.0,91.0,32.0,95.0,39.0,31.0,93.0,42.0,47.0,28.0,25.0,50.0,97.0,58.0,15.0,75.0,66.0,17.0,21.0,81.0,25.0,62.0,25.0,99.0,59.0,36.0,26.0,96.0,84.0,49.0,42.0,88.0,75.0,13.0,45.0,36.0,1.0,10.0,92.0,87.0,6.0,4.0,93.0,5.0,0.0,12.0,84.0,97.0,30.0,49.0,29.0,78.0,42.0,3.0,95.0,31.0,73.0,43.0],\"yaxis\":\"y\",\"type\":\"scatter\"},{\"hovertemplate\":\"\\u003cb\\u003eOLS trendline\\u003c\\u002fb\\u003e\\u003cbr\\u003eAverage Spent on App (INR) = -3.51397 * Average Screen Time + 60.0258\\u003cbr\\u003eR\\u003csup\\u003e2\\u003c\\u002fsup\\u003e=0.037117\\u003cbr\\u003e\\u003cbr\\u003eStatus=Uninstalled\\u003cbr\\u003eAverage Screen Time=%{x}\\u003cbr\\u003eAverage Spent on App (INR)=%{y} \\u003cb\\u003e(trend)\\u003c\\u002fb\\u003e\\u003cextra\\u003e\\u003c\\u002fextra\\u003e\",\"legendgroup\":\"Uninstalled\",\"marker\":{\"color\":\"#EF553B\",\"symbol\":\"circle\"},\"mode\":\"lines\",\"name\":\"Uninstalled\",\"showlegend\":false,\"x\":[0.0,0.0,0.0,0.0,0.0,0.0,0.0,0.0,0.0,0.0,0.0,0.0,0.0,0.0,0.0,0.0,0.0,1.0,1.0,1.0,1.0,1.0,1.0,1.0,1.0,1.0,1.0,1.0,1.0,1.0,1.0,1.0,2.0,2.0,2.0,2.0,2.0,2.0,2.0,2.0,2.0,2.0,2.0,2.0,2.0,2.0,3.0,3.0,3.0,3.0,3.0,3.0,3.0,3.0,3.0,3.0,3.0,3.0,3.0,4.0,4.0,4.0,4.0,4.0,4.0,4.0,4.0,4.0,4.0,4.0,4.0,4.0,5.0,5.0,5.0,5.0,5.0,5.0,5.0,5.0,5.0,5.0,5.0],\"xaxis\":\"x\",\"y\":[60.025786100540756,60.025786100540756,60.025786100540756,60.025786100540756,60.025786100540756,60.025786100540756,60.025786100540756,60.025786100540756,60.025786100540756,60.025786100540756,60.025786100540756,60.025786100540756,60.025786100540756,60.025786100540756,60.025786100540756,60.025786100540756,60.025786100540756,56.51181654316042,56.51181654316042,56.51181654316042,56.51181654316042,56.51181654316042,56.51181654316042,56.51181654316042,56.51181654316042,56.51181654316042,56.51181654316042,56.51181654316042,56.51181654316042,56.51181654316042,56.51181654316042,56.51181654316042,52.997846985780086,52.997846985780086,52.997846985780086,52.997846985780086,52.997846985780086,52.997846985780086,52.997846985780086,52.997846985780086,52.997846985780086,52.997846985780086,52.997846985780086,52.997846985780086,52.997846985780086,52.997846985780086,49.48387742839975,49.48387742839975,49.48387742839975,49.48387742839975,49.48387742839975,49.48387742839975,49.48387742839975,49.48387742839975,49.48387742839975,49.48387742839975,49.48387742839975,49.48387742839975,49.48387742839975,45.969907871019416,45.969907871019416,45.969907871019416,45.969907871019416,45.969907871019416,45.969907871019416,45.969907871019416,45.969907871019416,45.969907871019416,45.969907871019416,45.969907871019416,45.969907871019416,45.969907871019416,42.45593831363908,42.45593831363908,42.45593831363908,42.45593831363908,42.45593831363908,42.45593831363908,42.45593831363908,42.45593831363908,42.45593831363908,42.45593831363908,42.45593831363908],\"yaxis\":\"y\",\"type\":\"scatter\"}],                        {\"template\":{\"data\":{\"histogram2dcontour\":[{\"type\":\"histogram2dcontour\",\"colorbar\":{\"outlinewidth\":0,\"ticks\":\"\"},\"colorscale\":[[0.0,\"#0d0887\"],[0.1111111111111111,\"#46039f\"],[0.2222222222222222,\"#7201a8\"],[0.3333333333333333,\"#9c179e\"],[0.4444444444444444,\"#bd3786\"],[0.5555555555555556,\"#d8576b\"],[0.6666666666666666,\"#ed7953\"],[0.7777777777777778,\"#fb9f3a\"],[0.8888888888888888,\"#fdca26\"],[1.0,\"#f0f921\"]]}],\"choropleth\":[{\"type\":\"choropleth\",\"colorbar\":{\"outlinewidth\":0,\"ticks\":\"\"}}],\"histogram2d\":[{\"type\":\"histogram2d\",\"colorbar\":{\"outlinewidth\":0,\"ticks\":\"\"},\"colorscale\":[[0.0,\"#0d0887\"],[0.1111111111111111,\"#46039f\"],[0.2222222222222222,\"#7201a8\"],[0.3333333333333333,\"#9c179e\"],[0.4444444444444444,\"#bd3786\"],[0.5555555555555556,\"#d8576b\"],[0.6666666666666666,\"#ed7953\"],[0.7777777777777778,\"#fb9f3a\"],[0.8888888888888888,\"#fdca26\"],[1.0,\"#f0f921\"]]}],\"heatmap\":[{\"type\":\"heatmap\",\"colorbar\":{\"outlinewidth\":0,\"ticks\":\"\"},\"colorscale\":[[0.0,\"#0d0887\"],[0.1111111111111111,\"#46039f\"],[0.2222222222222222,\"#7201a8\"],[0.3333333333333333,\"#9c179e\"],[0.4444444444444444,\"#bd3786\"],[0.5555555555555556,\"#d8576b\"],[0.6666666666666666,\"#ed7953\"],[0.7777777777777778,\"#fb9f3a\"],[0.8888888888888888,\"#fdca26\"],[1.0,\"#f0f921\"]]}],\"heatmapgl\":[{\"type\":\"heatmapgl\",\"colorbar\":{\"outlinewidth\":0,\"ticks\":\"\"},\"colorscale\":[[0.0,\"#0d0887\"],[0.1111111111111111,\"#46039f\"],[0.2222222222222222,\"#7201a8\"],[0.3333333333333333,\"#9c179e\"],[0.4444444444444444,\"#bd3786\"],[0.5555555555555556,\"#d8576b\"],[0.6666666666666666,\"#ed7953\"],[0.7777777777777778,\"#fb9f3a\"],[0.8888888888888888,\"#fdca26\"],[1.0,\"#f0f921\"]]}],\"contourcarpet\":[{\"type\":\"contourcarpet\",\"colorbar\":{\"outlinewidth\":0,\"ticks\":\"\"}}],\"contour\":[{\"type\":\"contour\",\"colorbar\":{\"outlinewidth\":0,\"ticks\":\"\"},\"colorscale\":[[0.0,\"#0d0887\"],[0.1111111111111111,\"#46039f\"],[0.2222222222222222,\"#7201a8\"],[0.3333333333333333,\"#9c179e\"],[0.4444444444444444,\"#bd3786\"],[0.5555555555555556,\"#d8576b\"],[0.6666666666666666,\"#ed7953\"],[0.7777777777777778,\"#fb9f3a\"],[0.8888888888888888,\"#fdca26\"],[1.0,\"#f0f921\"]]}],\"surface\":[{\"type\":\"surface\",\"colorbar\":{\"outlinewidth\":0,\"ticks\":\"\"},\"colorscale\":[[0.0,\"#0d0887\"],[0.1111111111111111,\"#46039f\"],[0.2222222222222222,\"#7201a8\"],[0.3333333333333333,\"#9c179e\"],[0.4444444444444444,\"#bd3786\"],[0.5555555555555556,\"#d8576b\"],[0.6666666666666666,\"#ed7953\"],[0.7777777777777778,\"#fb9f3a\"],[0.8888888888888888,\"#fdca26\"],[1.0,\"#f0f921\"]]}],\"mesh3d\":[{\"type\":\"mesh3d\",\"colorbar\":{\"outlinewidth\":0,\"ticks\":\"\"}}],\"scatter\":[{\"fillpattern\":{\"fillmode\":\"overlay\",\"size\":10,\"solidity\":0.2},\"type\":\"scatter\"}],\"parcoords\":[{\"type\":\"parcoords\",\"line\":{\"colorbar\":{\"outlinewidth\":0,\"ticks\":\"\"}}}],\"scatterpolargl\":[{\"type\":\"scatterpolargl\",\"marker\":{\"colorbar\":{\"outlinewidth\":0,\"ticks\":\"\"}}}],\"bar\":[{\"error_x\":{\"color\":\"#2a3f5f\"},\"error_y\":{\"color\":\"#2a3f5f\"},\"marker\":{\"line\":{\"color\":\"white\",\"width\":0.5},\"pattern\":{\"fillmode\":\"overlay\",\"size\":10,\"solidity\":0.2}},\"type\":\"bar\"}],\"scattergeo\":[{\"type\":\"scattergeo\",\"marker\":{\"colorbar\":{\"outlinewidth\":0,\"ticks\":\"\"}}}],\"scatterpolar\":[{\"type\":\"scatterpolar\",\"marker\":{\"colorbar\":{\"outlinewidth\":0,\"ticks\":\"\"}}}],\"histogram\":[{\"marker\":{\"pattern\":{\"fillmode\":\"overlay\",\"size\":10,\"solidity\":0.2}},\"type\":\"histogram\"}],\"scattergl\":[{\"type\":\"scattergl\",\"marker\":{\"colorbar\":{\"outlinewidth\":0,\"ticks\":\"\"}}}],\"scatter3d\":[{\"type\":\"scatter3d\",\"line\":{\"colorbar\":{\"outlinewidth\":0,\"ticks\":\"\"}},\"marker\":{\"colorbar\":{\"outlinewidth\":0,\"ticks\":\"\"}}}],\"scattermapbox\":[{\"type\":\"scattermapbox\",\"marker\":{\"colorbar\":{\"outlinewidth\":0,\"ticks\":\"\"}}}],\"scatterternary\":[{\"type\":\"scatterternary\",\"marker\":{\"colorbar\":{\"outlinewidth\":0,\"ticks\":\"\"}}}],\"scattercarpet\":[{\"type\":\"scattercarpet\",\"marker\":{\"colorbar\":{\"outlinewidth\":0,\"ticks\":\"\"}}}],\"carpet\":[{\"aaxis\":{\"endlinecolor\":\"#2a3f5f\",\"gridcolor\":\"#C8D4E3\",\"linecolor\":\"#C8D4E3\",\"minorgridcolor\":\"#C8D4E3\",\"startlinecolor\":\"#2a3f5f\"},\"baxis\":{\"endlinecolor\":\"#2a3f5f\",\"gridcolor\":\"#C8D4E3\",\"linecolor\":\"#C8D4E3\",\"minorgridcolor\":\"#C8D4E3\",\"startlinecolor\":\"#2a3f5f\"},\"type\":\"carpet\"}],\"table\":[{\"cells\":{\"fill\":{\"color\":\"#EBF0F8\"},\"line\":{\"color\":\"white\"}},\"header\":{\"fill\":{\"color\":\"#C8D4E3\"},\"line\":{\"color\":\"white\"}},\"type\":\"table\"}],\"barpolar\":[{\"marker\":{\"line\":{\"color\":\"white\",\"width\":0.5},\"pattern\":{\"fillmode\":\"overlay\",\"size\":10,\"solidity\":0.2}},\"type\":\"barpolar\"}],\"pie\":[{\"automargin\":true,\"type\":\"pie\"}]},\"layout\":{\"autotypenumbers\":\"strict\",\"colorway\":[\"#636efa\",\"#EF553B\",\"#00cc96\",\"#ab63fa\",\"#FFA15A\",\"#19d3f3\",\"#FF6692\",\"#B6E880\",\"#FF97FF\",\"#FECB52\"],\"font\":{\"color\":\"#2a3f5f\"},\"hovermode\":\"closest\",\"hoverlabel\":{\"align\":\"left\"},\"paper_bgcolor\":\"white\",\"plot_bgcolor\":\"white\",\"polar\":{\"bgcolor\":\"white\",\"angularaxis\":{\"gridcolor\":\"#EBF0F8\",\"linecolor\":\"#EBF0F8\",\"ticks\":\"\"},\"radialaxis\":{\"gridcolor\":\"#EBF0F8\",\"linecolor\":\"#EBF0F8\",\"ticks\":\"\"}},\"ternary\":{\"bgcolor\":\"white\",\"aaxis\":{\"gridcolor\":\"#DFE8F3\",\"linecolor\":\"#A2B1C6\",\"ticks\":\"\"},\"baxis\":{\"gridcolor\":\"#DFE8F3\",\"linecolor\":\"#A2B1C6\",\"ticks\":\"\"},\"caxis\":{\"gridcolor\":\"#DFE8F3\",\"linecolor\":\"#A2B1C6\",\"ticks\":\"\"}},\"coloraxis\":{\"colorbar\":{\"outlinewidth\":0,\"ticks\":\"\"}},\"colorscale\":{\"sequential\":[[0.0,\"#0d0887\"],[0.1111111111111111,\"#46039f\"],[0.2222222222222222,\"#7201a8\"],[0.3333333333333333,\"#9c179e\"],[0.4444444444444444,\"#bd3786\"],[0.5555555555555556,\"#d8576b\"],[0.6666666666666666,\"#ed7953\"],[0.7777777777777778,\"#fb9f3a\"],[0.8888888888888888,\"#fdca26\"],[1.0,\"#f0f921\"]],\"sequentialminus\":[[0.0,\"#0d0887\"],[0.1111111111111111,\"#46039f\"],[0.2222222222222222,\"#7201a8\"],[0.3333333333333333,\"#9c179e\"],[0.4444444444444444,\"#bd3786\"],[0.5555555555555556,\"#d8576b\"],[0.6666666666666666,\"#ed7953\"],[0.7777777777777778,\"#fb9f3a\"],[0.8888888888888888,\"#fdca26\"],[1.0,\"#f0f921\"]],\"diverging\":[[0,\"#8e0152\"],[0.1,\"#c51b7d\"],[0.2,\"#de77ae\"],[0.3,\"#f1b6da\"],[0.4,\"#fde0ef\"],[0.5,\"#f7f7f7\"],[0.6,\"#e6f5d0\"],[0.7,\"#b8e186\"],[0.8,\"#7fbc41\"],[0.9,\"#4d9221\"],[1,\"#276419\"]]},\"xaxis\":{\"gridcolor\":\"#EBF0F8\",\"linecolor\":\"#EBF0F8\",\"ticks\":\"\",\"title\":{\"standoff\":15},\"zerolinecolor\":\"#EBF0F8\",\"automargin\":true,\"zerolinewidth\":2},\"yaxis\":{\"gridcolor\":\"#EBF0F8\",\"linecolor\":\"#EBF0F8\",\"ticks\":\"\",\"title\":{\"standoff\":15},\"zerolinecolor\":\"#EBF0F8\",\"automargin\":true,\"zerolinewidth\":2},\"scene\":{\"xaxis\":{\"backgroundcolor\":\"white\",\"gridcolor\":\"#DFE8F3\",\"linecolor\":\"#EBF0F8\",\"showbackground\":true,\"ticks\":\"\",\"zerolinecolor\":\"#EBF0F8\",\"gridwidth\":2},\"yaxis\":{\"backgroundcolor\":\"white\",\"gridcolor\":\"#DFE8F3\",\"linecolor\":\"#EBF0F8\",\"showbackground\":true,\"ticks\":\"\",\"zerolinecolor\":\"#EBF0F8\",\"gridwidth\":2},\"zaxis\":{\"backgroundcolor\":\"white\",\"gridcolor\":\"#DFE8F3\",\"linecolor\":\"#EBF0F8\",\"showbackground\":true,\"ticks\":\"\",\"zerolinecolor\":\"#EBF0F8\",\"gridwidth\":2}},\"shapedefaults\":{\"line\":{\"color\":\"#2a3f5f\"}},\"annotationdefaults\":{\"arrowcolor\":\"#2a3f5f\",\"arrowhead\":0,\"arrowwidth\":1},\"geo\":{\"bgcolor\":\"white\",\"landcolor\":\"white\",\"subunitcolor\":\"#C8D4E3\",\"showland\":true,\"showlakes\":true,\"lakecolor\":\"white\"},\"title\":{\"x\":0.05},\"mapbox\":{\"style\":\"light\"}}},\"xaxis\":{\"anchor\":\"y\",\"domain\":[0.0,1.0],\"title\":{\"text\":\"Average Screen Time\"}},\"yaxis\":{\"anchor\":\"x\",\"domain\":[0.0,1.0],\"title\":{\"text\":\"Average Spent on App (INR)\"}},\"legend\":{\"title\":{\"text\":\"Status\"},\"tracegroupgap\":0,\"itemsizing\":\"constant\"},\"margin\":{\"t\":60},\"title\":{\"text\":\"Relationship Between Spending Capacity and Screentime\"}},                        {\"responsive\": true}                    ).then(function(){\n",
              "                            \n",
              "var gd = document.getElementById('ae934f50-aa6f-4cbf-8fff-fd0382eac101');\n",
              "var x = new MutationObserver(function (mutations, observer) {{\n",
              "        var display = window.getComputedStyle(gd).display;\n",
              "        if (!display || display === 'none') {{\n",
              "            console.log([gd, 'removed!']);\n",
              "            Plotly.purge(gd);\n",
              "            observer.disconnect();\n",
              "        }}\n",
              "}});\n",
              "\n",
              "// Listen for the removal of the full notebook cells\n",
              "var notebookContainer = gd.closest('#notebook-container');\n",
              "if (notebookContainer) {{\n",
              "    x.observe(notebookContainer, {childList: true});\n",
              "}}\n",
              "\n",
              "// Listen for the clearing of the current output cell\n",
              "var outputEl = gd.closest('.output');\n",
              "if (outputEl) {{\n",
              "    x.observe(outputEl, {childList: true});\n",
              "}}\n",
              "\n",
              "                        })                };                            </script>        </div>\n",
              "</body>\n",
              "</html>"
            ]
          },
          "metadata": {}
        }
      ]
    },
    {
      "cell_type": "markdown",
      "source": [
        " Os usuários que desinstalaram o aplicativo tinham um tempo médio de tela de menos de 5 minutos por dia, e o valor médio gasto era inferior a 100. Também podemos ver uma relação linear entre o tempo médio de tela e o gasto médio dos usuários que ainda estão usando o aplicativo.\n",
        "\n",
        "\n"
      ],
      "metadata": {
        "id": "kUUKYSIwHsHx"
      }
    },
    {
      "cell_type": "markdown",
      "source": [
        "04 - Relação entre as avaliações dadas pelos usuários e o tempo médio de tela:"
      ],
      "metadata": {
        "id": "uy-8ykGYHung"
      }
    },
    {
      "cell_type": "code",
      "source": [
        "figure = px.scatter(data_frame = data,\n",
        "                    x=\"Average Screen Time\",\n",
        "                    y=\"Ratings\",\n",
        "                    size=\"Ratings\",\n",
        "                    color= \"Status\",\n",
        "                    title = \"Relationship Between Ratings and Screentime\",\n",
        "                    trendline=\"ols\")\n",
        "figure.show()"
      ],
      "metadata": {
        "colab": {
          "base_uri": "https://localhost:8080/",
          "height": 542
        },
        "id": "xIWa5hsbHydT",
        "outputId": "8fc29e23-3dcb-4e44-d49b-13f57958a041"
      },
      "execution_count": 15,
      "outputs": [
        {
          "output_type": "display_data",
          "data": {
            "text/html": [
              "<html>\n",
              "<head><meta charset=\"utf-8\" /></head>\n",
              "<body>\n",
              "    <div>            <script src=\"https://cdnjs.cloudflare.com/ajax/libs/mathjax/2.7.5/MathJax.js?config=TeX-AMS-MML_SVG\"></script><script type=\"text/javascript\">if (window.MathJax && window.MathJax.Hub && window.MathJax.Hub.Config) {window.MathJax.Hub.Config({SVG: {font: \"STIX-Web\"}});}</script>                <script type=\"text/javascript\">window.PlotlyConfig = {MathJaxConfig: 'local'};</script>\n",
              "        <script charset=\"utf-8\" src=\"https://cdn.plot.ly/plotly-2.35.2.min.js\"></script>                <div id=\"2652322e-d4a1-4d6e-a1c7-7cbc257d9dd5\" class=\"plotly-graph-div\" style=\"height:525px; width:100%;\"></div>            <script type=\"text/javascript\">                                    window.PLOTLYENV=window.PLOTLYENV || {};                                    if (document.getElementById(\"2652322e-d4a1-4d6e-a1c7-7cbc257d9dd5\")) {                    Plotly.newPlot(                        \"2652322e-d4a1-4d6e-a1c7-7cbc257d9dd5\",                        [{\"hovertemplate\":\"Status=Installed\\u003cbr\\u003eAverage Screen Time=%{x}\\u003cbr\\u003eRatings=%{marker.size}\\u003cextra\\u003e\\u003c\\u002fextra\\u003e\",\"legendgroup\":\"Installed\",\"marker\":{\"color\":\"#636efa\",\"size\":[9,8,6,5,9,9,2,8,8,8,10,3,10,5,10,7,6,7,10,7,6,9,9,8,10,9,5,0,9,9,6,9,5,7,5,5,4,7,7,5,10,10,8,8,6,10,9,5,5,9,10,10,5,9,6,10,10,10,7,6,9,7,3,9,5,6,10,0,7,10,7,7,10,10,6,9,8,9,5,9,4,5,4,7,10,6,8,0,2,5,7,5,5,10,3,9,9,5,9,5,5,8,7,5,5,6,8,0,5,7,3,7,6,8,5,5,9,8,7,8,2,8,6,6,1,6,2,7,7,0,10,9,4,6,8,9,8,5,6,8,3,6,9,5,7,6,7,8,8,6,7,10,7,7,5,7,6,10,8,10,5,5,6,1,10,5,9,7,8,8,3,8,6,9,9,5,9,9,1,7,8,5,3,10,7,10,6,9,7,7,10,9,2,9,8,9,9,5,9,5,6,9,10,6,6,8,7,8,5,1,1,6,9,9,5,5,9,10,7,8,6,9,7,7,6,8,0,9,9,9,10,10,10,8,7,7,7,9,7,9,8,10,9,7,9,7,10,5,6,5,10,9,9,8,6,4,6,9,10,5,9,7,10,9,10,7,9,7,6,7,5,9,7,6,2,9,10,0,10,10,10,7,10,7,2,9,10,8,6,6,6,10,5,8,5,7,1,8,9,6,7,5,8,8,7,8,5,9,5,8,10,8,5,8,9,7,10,4,9,8,8,10,7,5,7,9,9,5,8,7,10,6,5,8,6,1,5,8,9,8,10,7,10,5,10,10,8,5,10,10,6,7,8,9,6,10,9,1,10,7,4,5,7,8,6,9,8,2,10,9,6,6,7,8,7,1,3,2,7,5,5,4,9,6,5,7,8,5,6,0,10,9,10,8,8,6,4,6,7,2,5,5,8,7,5,10,5,5,9,0,6,7,5,10,7,6,8,1,6,9,3,6,10,5,6,8,7,8,6,6,5,8,7,9,9,8,9,5,9,2,10,10,4,10,10,7,7,5,9,8,9,7,5,1,5,10,10,10,5,6,8,10,0,10,10,6,5,7,7,5,9,7,10,3,10,5,7,9,9,8,6,7,6,10,9,8,7,10,2,4,5,7,9,9,5,2,10,7,9,7,9,9,9,8,7,5,6,9,10,9,4,6,6,5,6,8,10,5,6,10,7,10,5,1,5,10,5,8,1,9,9,7,9,9,7,10,5,5,9,10,6,4,9,1,10,5,8,9,7,9,7,5,7,8,8,5,7,8,6,1,3,9,7,4,5,10,5,7,7,8,7,6,6,8,5,6,2,7,6,5,6,7,3,5,6,10,9,6,8,5,9,5,7,10,10,10,8,6,7,8,9,6,8,10,4,6,8,0,2,8,2,6,8,6,10,2,7,10,5,6,6,7,7,2,8,9,5,3,0,10,8,6,10,10,9,6,6,10,0,4,7,6,1,8,6,9,7,8,7,0,9,9,7,9,8,8,8,1,5,10,6,6,5,1,7,9,8,10,9,9,5,9,0,7,7,5,9,8,5,8,10,5,10,8,7,8,10,0,5,6,5,10,9,2,9,7,10,7,7,8,10,9,5,0,8,7,6,8,9,10,6,3,6,7,7,6,8,10,8,0,10,8,6,9,8,10,0,7,6,0,6,5,6,10,7,0,6,6,8,7,6,2,7,5,9,10,5,7,10,10,10,7,10,9,8,8,0,10,8,8,8,5,6,10,7,8,2,6,6,5,6,9,7,8,7,2,1,5,9,4,5,10,6,6,6,10,6,8,10,9,10,9,3,4,8,8,8,6,8,1,6,9,9,1,10,9,5,7,10,5,7,7,10,5,10,9,7,6,8,9,5,4,6,6,5,7,10,8,9,10,6,7,4,5,6,8,6,9,5,6,2,10,8,8,7,9,9,8,7,6,8,7,10,9,10,3,8,7,6,3,0,9,7,9,10,9,8,8,8,6,9,7,8,4,0,5,6,8,1,9,8,6,9,5,7,10,10,9,8,10,6,5,5,10,6,6,9,10,8,6,6,5,8,6,9,3,5,7,8,8,1,5,6,6,5,4],\"sizemode\":\"area\",\"sizeref\":0.025,\"symbol\":\"circle\"},\"mode\":\"markers\",\"name\":\"Installed\",\"orientation\":\"v\",\"showlegend\":true,\"x\":[17.0,37.0,32.0,45.0,28.0,49.0,8.0,28.0,28.0,44.0,24.0,1.0,41.0,32.0,11.0,38.0,34.0,21.0,18.0,15.0,34.0,11.0,26.0,34.0,48.0,33.0,49.0,9.0,47.0,34.0,30.0,35.0,12.0,12.0,22.0,3.0,0.0,40.0,41.0,21.0,12.0,17.0,43.0,50.0,19.0,44.0,25.0,37.0,15.0,42.0,42.0,15.0,45.0,25.0,34.0,37.0,32.0,49.0,20.0,49.0,32.0,37.0,8.0,49.0,43.0,39.0,35.0,9.0,50.0,40.0,46.0,41.0,11.0,22.0,18.0,39.0,32.0,44.0,12.0,46.0,6.0,48.0,6.0,18.0,15.0,23.0,24.0,0.0,10.0,45.0,48.0,1.0,47.0,21.0,9.0,17.0,25.0,45.0,30.0,11.0,15.0,14.0,17.0,5.0,26.0,12.0,14.0,4.0,41.0,31.0,9.0,19.0,16.0,11.0,19.0,21.0,38.0,30.0,27.0,29.0,7.0,33.0,16.0,15.0,10.0,29.0,1.0,19.0,44.0,6.0,33.0,39.0,9.0,25.0,40.0,43.0,16.0,35.0,43.0,24.0,7.0,17.0,49.0,17.0,14.0,24.0,41.0,44.0,14.0,22.0,29.0,44.0,23.0,14.0,46.0,37.0,33.0,12.0,40.0,29.0,14.0,31.0,50.0,9.0,44.0,45.0,42.0,40.0,35.0,17.0,5.0,19.0,47.0,20.0,13.0,13.0,30.0,46.0,7.0,48.0,29.0,18.0,8.0,37.0,28.0,25.0,14.0,50.0,29.0,31.0,24.0,17.0,9.0,15.0,32.0,14.0,41.0,15.0,26.0,12.0,18.0,14.0,11.0,35.0,48.0,24.0,32.0,43.0,21.0,7.0,5.0,32.0,50.0,19.0,14.0,41.0,26.0,15.0,37.0,14.0,31.0,40.0,39.0,26.0,24.0,33.0,10.0,24.0,33.0,18.0,20.0,31.0,49.0,39.0,24.0,25.0,21.0,36.0,32.0,23.0,25.0,15.0,26.0,35.0,14.0,43.0,16.0,9.0,15.0,7.0,12.0,36.0,18.0,14.0,24.0,8.0,28.0,30.0,46.0,30.0,30.0,49.0,17.0,32.0,22.0,42.0,36.0,34.0,37.0,23.0,31.0,14.0,26.0,19.0,5.0,33.0,11.0,4.0,31.0,33.0,49.0,33.0,22.0,25.0,9.0,17.0,47.0,18.0,44.0,40.0,23.0,25.0,25.0,24.0,39.0,25.0,6.0,42.0,46.0,36.0,21.0,0.0,29.0,11.0,17.0,37.0,35.0,15.0,18.0,49.0,24.0,12.0,15.0,26.0,27.0,24.0,39.0,6.0,33.0,43.0,49.0,44.0,35.0,34.0,32.0,43.0,32.0,16.0,45.0,25.0,24.0,46.0,28.0,30.0,26.0,8.0,33.0,35.0,12.0,49.0,34.0,20.0,18.0,7.0,14.0,41.0,11.0,15.0,41.0,22.0,21.0,18.0,35.0,34.0,16.0,18.0,19.0,3.0,30.0,13.0,2.0,50.0,13.0,50.0,23.0,34.0,36.0,7.0,41.0,34.0,20.0,31.0,35.0,41.0,37.0,8.0,2.0,8.0,12.0,22.0,20.0,10.0,40.0,18.0,31.0,39.0,44.0,34.0,50.0,9.0,13.0,40.0,44.0,17.0,29.0,33.0,7.0,36.0,17.0,10.0,30.0,29.0,29.0,33.0,47.0,35.0,45.0,19.0,23.0,7.0,33.0,49.0,41.0,16.0,30.0,24.0,17.0,6.0,18.0,23.0,8.0,41.0,25.0,20.0,22.0,39.0,21.0,42.0,35.0,42.0,22.0,25.0,20.0,11.0,50.0,17.0,29.0,11.0,39.0,9.0,25.0,45.0,8.0,13.0,13.0,31.0,42.0,36.0,15.0,16.0,28.0,46.0,34.0,9.0,13.0,29.0,29.0,26.0,19.0,33.0,16.0,49.0,8.0,23.0,41.0,40.0,45.0,42.0,23.0,39.0,16.0,11.0,11.0,4.0,16.0,6.0,43.0,22.0,19.0,37.0,14.0,41.0,28.0,49.0,29.0,19.0,48.0,30.0,1.0,4.0,47.0,19.0,33.0,37.0,7.0,9.0,49.0,41.0,30.0,20.0,45.0,33.0,35.0,20.0,18.0,33.0,24.0,36.0,41.0,24.0,7.0,34.0,21.0,43.0,40.0,18.0,19.0,14.0,29.0,49.0,34.0,18.0,6.0,7.0,19.0,30.0,33.0,45.0,8.0,21.0,42.0,35.0,50.0,20.0,47.0,24.0,26.0,8.0,30.0,46.0,44.0,6.0,28.0,6.0,37.0,27.0,46.0,35.0,21.0,19.0,25.0,42.0,36.0,43.0,31.0,37.0,19.0,23.0,18.0,5.0,8.0,33.0,34.0,1.0,7.0,40.0,34.0,35.0,37.0,39.0,14.0,41.0,39.0,24.0,45.0,22.0,9.0,41.0,19.0,17.0,47.0,22.0,8.0,16.0,48.0,40.0,21.0,45.0,47.0,33.0,45.0,32.0,19.0,15.0,47.0,43.0,29.0,17.0,19.0,21.0,27.0,12.0,22.0,31.0,8.0,35.0,50.0,6.0,10.0,49.0,8.0,31.0,27.0,28.0,18.0,8.0,46.0,30.0,33.0,45.0,31.0,48.0,36.0,6.0,22.0,16.0,32.0,6.0,6.0,45.0,18.0,16.0,11.0,33.0,25.0,32.0,37.0,30.0,8.0,10.0,38.0,30.0,10.0,31.0,14.0,16.0,11.0,43.0,22.0,7.0,31.0,18.0,14.0,37.0,34.0,22.0,24.0,6.0,43.0,47.0,11.0,12.0,26.0,8.0,45.0,14.0,31.0,40.0,19.0,28.0,44.0,28.0,4.0,50.0,36.0,26.0,39.0,24.0,42.0,41.0,34.0,4.0,40.0,39.0,40.0,20.0,49.0,10.0,21.0,14.0,15.0,17.0,14.0,6.0,28.0,42.0,12.0,29.0,19.0,13.0,25.0,36.0,6.0,10.0,20.0,47.0,34.0,30.0,41.0,25.0,33.0,9.0,31.0,30.0,21.0,11.0,23.0,27.0,30.0,6.0,28.0,23.0,17.0,26.0,19.0,32.0,4.0,25.0,15.0,8.0,34.0,37.0,42.0,28.0,39.0,3.0,23.0,31.0,13.0,34.0,11.0,8.0,16.0,18.0,37.0,30.0,19.0,30.0,14.0,46.0,36.0,34.0,35.0,37.0,11.0,30.0,1.0,29.0,46.0,24.0,44.0,18.0,11.0,19.0,17.0,20.0,5.0,29.0,28.0,29.0,13.0,50.0,32.0,33.0,46.0,6.0,1.0,45.0,50.0,2.0,9.0,45.0,36.0,25.0,44.0,32.0,17.0,36.0,20.0,22.0,23.0,17.0,5.0,7.0,15.0,28.0,11.0,24.0,47.0,6.0,25.0,31.0,13.0,8.0,31.0,47.0,43.0,22.0,19.0,12.0,20.0,47.0,19.0,37.0,46.0,31.0,34.0,46.0,40.0,41.0,29.0,8.0,27.0,42.0,9.0,32.0,43.0,19.0,11.0,35.0,23.0,27.0,9.0,33.0,44.0,30.0,48.0,31.0,39.0,23.0,9.0,37.0,18.0,34.0,23.0,37.0,19.0,25.0,19.0,31.0,21.0,41.0,35.0,22.0,14.0,7.0,31.0,42.0,37.0,2.0,10.0,21.0,12.0,20.0,27.0,36.0,20.0,39.0,30.0,19.0,28.0,25.0,22.0,6.0,7.0,4.0,19.0,29.0,6.0,22.0,18.0,39.0,18.0,27.0,24.0,46.0,33.0,29.0,17.0,28.0,15.0,36.0,8.0,23.0,24.0,48.0,40.0,35.0,46.0,48.0,16.0,24.0,35.0,35.0,24.0,10.0,8.0,46.0,34.0,41.0,10.0,38.0,43.0,47.0,6.0,9.0],\"xaxis\":\"x\",\"y\":[9,8,6,5,9,9,2,8,8,8,10,3,10,5,10,7,6,7,10,7,6,9,9,8,10,9,5,0,9,9,6,9,5,7,5,5,4,7,7,5,10,10,8,8,6,10,9,5,5,9,10,10,5,9,6,10,10,10,7,6,9,7,3,9,5,6,10,0,7,10,7,7,10,10,6,9,8,9,5,9,4,5,4,7,10,6,8,0,2,5,7,5,5,10,3,9,9,5,9,5,5,8,7,5,5,6,8,0,5,7,3,7,6,8,5,5,9,8,7,8,2,8,6,6,1,6,2,7,7,0,10,9,4,6,8,9,8,5,6,8,3,6,9,5,7,6,7,8,8,6,7,10,7,7,5,7,6,10,8,10,5,5,6,1,10,5,9,7,8,8,3,8,6,9,9,5,9,9,1,7,8,5,3,10,7,10,6,9,7,7,10,9,2,9,8,9,9,5,9,5,6,9,10,6,6,8,7,8,5,1,1,6,9,9,5,5,9,10,7,8,6,9,7,7,6,8,0,9,9,9,10,10,10,8,7,7,7,9,7,9,8,10,9,7,9,7,10,5,6,5,10,9,9,8,6,4,6,9,10,5,9,7,10,9,10,7,9,7,6,7,5,9,7,6,2,9,10,0,10,10,10,7,10,7,2,9,10,8,6,6,6,10,5,8,5,7,1,8,9,6,7,5,8,8,7,8,5,9,5,8,10,8,5,8,9,7,10,4,9,8,8,10,7,5,7,9,9,5,8,7,10,6,5,8,6,1,5,8,9,8,10,7,10,5,10,10,8,5,10,10,6,7,8,9,6,10,9,1,10,7,4,5,7,8,6,9,8,2,10,9,6,6,7,8,7,1,3,2,7,5,5,4,9,6,5,7,8,5,6,0,10,9,10,8,8,6,4,6,7,2,5,5,8,7,5,10,5,5,9,0,6,7,5,10,7,6,8,1,6,9,3,6,10,5,6,8,7,8,6,6,5,8,7,9,9,8,9,5,9,2,10,10,4,10,10,7,7,5,9,8,9,7,5,1,5,10,10,10,5,6,8,10,0,10,10,6,5,7,7,5,9,7,10,3,10,5,7,9,9,8,6,7,6,10,9,8,7,10,2,4,5,7,9,9,5,2,10,7,9,7,9,9,9,8,7,5,6,9,10,9,4,6,6,5,6,8,10,5,6,10,7,10,5,1,5,10,5,8,1,9,9,7,9,9,7,10,5,5,9,10,6,4,9,1,10,5,8,9,7,9,7,5,7,8,8,5,7,8,6,1,3,9,7,4,5,10,5,7,7,8,7,6,6,8,5,6,2,7,6,5,6,7,3,5,6,10,9,6,8,5,9,5,7,10,10,10,8,6,7,8,9,6,8,10,4,6,8,0,2,8,2,6,8,6,10,2,7,10,5,6,6,7,7,2,8,9,5,3,0,10,8,6,10,10,9,6,6,10,0,4,7,6,1,8,6,9,7,8,7,0,9,9,7,9,8,8,8,1,5,10,6,6,5,1,7,9,8,10,9,9,5,9,0,7,7,5,9,8,5,8,10,5,10,8,7,8,10,0,5,6,5,10,9,2,9,7,10,7,7,8,10,9,5,0,8,7,6,8,9,10,6,3,6,7,7,6,8,10,8,0,10,8,6,9,8,10,0,7,6,0,6,5,6,10,7,0,6,6,8,7,6,2,7,5,9,10,5,7,10,10,10,7,10,9,8,8,0,10,8,8,8,5,6,10,7,8,2,6,6,5,6,9,7,8,7,2,1,5,9,4,5,10,6,6,6,10,6,8,10,9,10,9,3,4,8,8,8,6,8,1,6,9,9,1,10,9,5,7,10,5,7,7,10,5,10,9,7,6,8,9,5,4,6,6,5,7,10,8,9,10,6,7,4,5,6,8,6,9,5,6,2,10,8,8,7,9,9,8,7,6,8,7,10,9,10,3,8,7,6,3,0,9,7,9,10,9,8,8,8,6,9,7,8,4,0,5,6,8,1,9,8,6,9,5,7,10,10,9,8,10,6,5,5,10,6,6,9,10,8,6,6,5,8,6,9,3,5,7,8,8,1,5,6,6,5,4],\"yaxis\":\"y\",\"type\":\"scatter\"},{\"hovertemplate\":\"\\u003cb\\u003eOLS trendline\\u003c\\u002fb\\u003e\\u003cbr\\u003eRatings = 0.0854571 * Average Screen Time + 4.6178\\u003cbr\\u003eR\\u003csup\\u003e2\\u003c\\u002fsup\\u003e=0.204850\\u003cbr\\u003e\\u003cbr\\u003eStatus=Installed\\u003cbr\\u003eAverage Screen Time=%{x}\\u003cbr\\u003eRatings=%{y} \\u003cb\\u003e(trend)\\u003c\\u002fb\\u003e\\u003cextra\\u003e\\u003c\\u002fextra\\u003e\",\"legendgroup\":\"Installed\",\"marker\":{\"color\":\"#636efa\",\"symbol\":\"circle\"},\"mode\":\"lines\",\"name\":\"Installed\",\"showlegend\":false,\"x\":[0.0,0.0,0.0,1.0,1.0,1.0,1.0,1.0,1.0,1.0,2.0,2.0,2.0,2.0,3.0,3.0,3.0,4.0,4.0,4.0,4.0,4.0,4.0,4.0,4.0,5.0,5.0,5.0,5.0,5.0,5.0,5.0,6.0,6.0,6.0,6.0,6.0,6.0,6.0,6.0,6.0,6.0,6.0,6.0,6.0,6.0,6.0,6.0,6.0,6.0,6.0,6.0,6.0,6.0,6.0,7.0,7.0,7.0,7.0,7.0,7.0,7.0,7.0,7.0,7.0,7.0,7.0,7.0,7.0,7.0,7.0,7.0,8.0,8.0,8.0,8.0,8.0,8.0,8.0,8.0,8.0,8.0,8.0,8.0,8.0,8.0,8.0,8.0,8.0,8.0,8.0,8.0,8.0,8.0,8.0,8.0,8.0,9.0,9.0,9.0,9.0,9.0,9.0,9.0,9.0,9.0,9.0,9.0,9.0,9.0,9.0,9.0,9.0,9.0,9.0,9.0,9.0,10.0,10.0,10.0,10.0,10.0,10.0,10.0,10.0,10.0,10.0,10.0,10.0,10.0,11.0,11.0,11.0,11.0,11.0,11.0,11.0,11.0,11.0,11.0,11.0,11.0,11.0,11.0,11.0,11.0,11.0,11.0,11.0,11.0,11.0,11.0,12.0,12.0,12.0,12.0,12.0,12.0,12.0,12.0,12.0,12.0,12.0,12.0,12.0,12.0,12.0,12.0,13.0,13.0,13.0,13.0,13.0,13.0,13.0,13.0,13.0,13.0,13.0,13.0,14.0,14.0,14.0,14.0,14.0,14.0,14.0,14.0,14.0,14.0,14.0,14.0,14.0,14.0,14.0,14.0,14.0,14.0,14.0,14.0,14.0,14.0,14.0,14.0,14.0,15.0,15.0,15.0,15.0,15.0,15.0,15.0,15.0,15.0,15.0,15.0,15.0,15.0,15.0,15.0,15.0,15.0,15.0,15.0,15.0,16.0,16.0,16.0,16.0,16.0,16.0,16.0,16.0,16.0,16.0,16.0,16.0,16.0,16.0,16.0,16.0,16.0,17.0,17.0,17.0,17.0,17.0,17.0,17.0,17.0,17.0,17.0,17.0,17.0,17.0,17.0,17.0,17.0,17.0,17.0,17.0,17.0,17.0,17.0,17.0,18.0,18.0,18.0,18.0,18.0,18.0,18.0,18.0,18.0,18.0,18.0,18.0,18.0,18.0,18.0,18.0,18.0,18.0,18.0,18.0,18.0,18.0,18.0,18.0,18.0,18.0,19.0,19.0,19.0,19.0,19.0,19.0,19.0,19.0,19.0,19.0,19.0,19.0,19.0,19.0,19.0,19.0,19.0,19.0,19.0,19.0,19.0,19.0,19.0,19.0,19.0,19.0,19.0,19.0,19.0,19.0,19.0,19.0,20.0,20.0,20.0,20.0,20.0,20.0,20.0,20.0,20.0,20.0,20.0,20.0,20.0,20.0,20.0,20.0,20.0,20.0,21.0,21.0,21.0,21.0,21.0,21.0,21.0,21.0,21.0,21.0,21.0,21.0,21.0,21.0,21.0,21.0,21.0,21.0,22.0,22.0,22.0,22.0,22.0,22.0,22.0,22.0,22.0,22.0,22.0,22.0,22.0,22.0,22.0,22.0,22.0,22.0,22.0,22.0,22.0,23.0,23.0,23.0,23.0,23.0,23.0,23.0,23.0,23.0,23.0,23.0,23.0,23.0,23.0,23.0,23.0,23.0,23.0,23.0,24.0,24.0,24.0,24.0,24.0,24.0,24.0,24.0,24.0,24.0,24.0,24.0,24.0,24.0,24.0,24.0,24.0,24.0,24.0,24.0,24.0,24.0,24.0,24.0,24.0,24.0,24.0,25.0,25.0,25.0,25.0,25.0,25.0,25.0,25.0,25.0,25.0,25.0,25.0,25.0,25.0,25.0,25.0,25.0,25.0,25.0,25.0,25.0,25.0,25.0,25.0,26.0,26.0,26.0,26.0,26.0,26.0,26.0,26.0,26.0,26.0,26.0,26.0,26.0,26.0,27.0,27.0,27.0,27.0,27.0,27.0,27.0,27.0,27.0,27.0,28.0,28.0,28.0,28.0,28.0,28.0,28.0,28.0,28.0,28.0,28.0,28.0,28.0,28.0,28.0,28.0,28.0,28.0,28.0,29.0,29.0,29.0,29.0,29.0,29.0,29.0,29.0,29.0,29.0,29.0,29.0,29.0,29.0,29.0,29.0,29.0,29.0,29.0,29.0,29.0,29.0,29.0,30.0,30.0,30.0,30.0,30.0,30.0,30.0,30.0,30.0,30.0,30.0,30.0,30.0,30.0,30.0,30.0,30.0,30.0,30.0,30.0,30.0,30.0,30.0,30.0,30.0,30.0,31.0,31.0,31.0,31.0,31.0,31.0,31.0,31.0,31.0,31.0,31.0,31.0,31.0,31.0,31.0,31.0,31.0,31.0,31.0,31.0,31.0,31.0,31.0,31.0,31.0,32.0,32.0,32.0,32.0,32.0,32.0,32.0,32.0,32.0,32.0,32.0,32.0,32.0,32.0,32.0,32.0,32.0,32.0,32.0,33.0,33.0,33.0,33.0,33.0,33.0,33.0,33.0,33.0,33.0,33.0,33.0,33.0,33.0,33.0,33.0,33.0,33.0,33.0,33.0,33.0,33.0,33.0,33.0,33.0,33.0,33.0,34.0,34.0,34.0,34.0,34.0,34.0,34.0,34.0,34.0,34.0,34.0,34.0,34.0,34.0,34.0,34.0,34.0,34.0,34.0,34.0,34.0,34.0,34.0,34.0,34.0,34.0,35.0,35.0,35.0,35.0,35.0,35.0,35.0,35.0,35.0,35.0,35.0,35.0,35.0,35.0,35.0,35.0,35.0,35.0,35.0,35.0,35.0,35.0,35.0,35.0,36.0,36.0,36.0,36.0,36.0,36.0,36.0,36.0,36.0,36.0,36.0,36.0,36.0,36.0,36.0,36.0,36.0,37.0,37.0,37.0,37.0,37.0,37.0,37.0,37.0,37.0,37.0,37.0,37.0,37.0,37.0,37.0,37.0,37.0,37.0,37.0,37.0,37.0,37.0,37.0,37.0,38.0,38.0,38.0,38.0,39.0,39.0,39.0,39.0,39.0,39.0,39.0,39.0,39.0,39.0,39.0,39.0,39.0,39.0,39.0,39.0,39.0,39.0,39.0,40.0,40.0,40.0,40.0,40.0,40.0,40.0,40.0,40.0,40.0,40.0,40.0,40.0,40.0,40.0,40.0,40.0,40.0,41.0,41.0,41.0,41.0,41.0,41.0,41.0,41.0,41.0,41.0,41.0,41.0,41.0,41.0,41.0,41.0,41.0,41.0,41.0,41.0,41.0,41.0,41.0,41.0,42.0,42.0,42.0,42.0,42.0,42.0,42.0,42.0,42.0,42.0,42.0,42.0,42.0,42.0,42.0,42.0,43.0,43.0,43.0,43.0,43.0,43.0,43.0,43.0,43.0,43.0,43.0,43.0,43.0,43.0,43.0,43.0,43.0,44.0,44.0,44.0,44.0,44.0,44.0,44.0,44.0,44.0,44.0,44.0,44.0,44.0,44.0,44.0,44.0,45.0,45.0,45.0,45.0,45.0,45.0,45.0,45.0,45.0,45.0,45.0,45.0,45.0,45.0,45.0,45.0,45.0,45.0,45.0,46.0,46.0,46.0,46.0,46.0,46.0,46.0,46.0,46.0,46.0,46.0,46.0,46.0,46.0,46.0,46.0,46.0,46.0,46.0,47.0,47.0,47.0,47.0,47.0,47.0,47.0,47.0,47.0,47.0,47.0,47.0,47.0,47.0,47.0,47.0,48.0,48.0,48.0,48.0,48.0,48.0,48.0,48.0,48.0,48.0,48.0,49.0,49.0,49.0,49.0,49.0,49.0,49.0,49.0,49.0,49.0,49.0,49.0,49.0,49.0,49.0,49.0,49.0,49.0,49.0,50.0,50.0,50.0,50.0,50.0,50.0,50.0,50.0,50.0,50.0,50.0,50.0,50.0,50.0],\"xaxis\":\"x\",\"y\":[4.617799995810003,4.617799995810003,4.617799995810003,4.70325705019384,4.70325705019384,4.70325705019384,4.70325705019384,4.70325705019384,4.70325705019384,4.70325705019384,4.788714104577678,4.788714104577678,4.788714104577678,4.788714104577678,4.874171158961515,4.874171158961515,4.874171158961515,4.959628213345352,4.959628213345352,4.959628213345352,4.959628213345352,4.959628213345352,4.959628213345352,4.959628213345352,4.959628213345352,5.045085267729189,5.045085267729189,5.045085267729189,5.045085267729189,5.045085267729189,5.045085267729189,5.045085267729189,5.130542322113026,5.130542322113026,5.130542322113026,5.130542322113026,5.130542322113026,5.130542322113026,5.130542322113026,5.130542322113026,5.130542322113026,5.130542322113026,5.130542322113026,5.130542322113026,5.130542322113026,5.130542322113026,5.130542322113026,5.130542322113026,5.130542322113026,5.130542322113026,5.130542322113026,5.130542322113026,5.130542322113026,5.130542322113026,5.130542322113026,5.215999376496864,5.215999376496864,5.215999376496864,5.215999376496864,5.215999376496864,5.215999376496864,5.215999376496864,5.215999376496864,5.215999376496864,5.215999376496864,5.215999376496864,5.215999376496864,5.215999376496864,5.215999376496864,5.215999376496864,5.215999376496864,5.215999376496864,5.301456430880701,5.301456430880701,5.301456430880701,5.301456430880701,5.301456430880701,5.301456430880701,5.301456430880701,5.301456430880701,5.301456430880701,5.301456430880701,5.301456430880701,5.301456430880701,5.301456430880701,5.301456430880701,5.301456430880701,5.301456430880701,5.301456430880701,5.301456430880701,5.301456430880701,5.301456430880701,5.301456430880701,5.301456430880701,5.301456430880701,5.301456430880701,5.301456430880701,5.386913485264538,5.386913485264538,5.386913485264538,5.386913485264538,5.386913485264538,5.386913485264538,5.386913485264538,5.386913485264538,5.386913485264538,5.386913485264538,5.386913485264538,5.386913485264538,5.386913485264538,5.386913485264538,5.386913485264538,5.386913485264538,5.386913485264538,5.386913485264538,5.386913485264538,5.386913485264538,5.4723705396483755,5.4723705396483755,5.4723705396483755,5.4723705396483755,5.4723705396483755,5.4723705396483755,5.4723705396483755,5.4723705396483755,5.4723705396483755,5.4723705396483755,5.4723705396483755,5.4723705396483755,5.4723705396483755,5.557827594032212,5.557827594032212,5.557827594032212,5.557827594032212,5.557827594032212,5.557827594032212,5.557827594032212,5.557827594032212,5.557827594032212,5.557827594032212,5.557827594032212,5.557827594032212,5.557827594032212,5.557827594032212,5.557827594032212,5.557827594032212,5.557827594032212,5.557827594032212,5.557827594032212,5.557827594032212,5.557827594032212,5.557827594032212,5.64328464841605,5.64328464841605,5.64328464841605,5.64328464841605,5.64328464841605,5.64328464841605,5.64328464841605,5.64328464841605,5.64328464841605,5.64328464841605,5.64328464841605,5.64328464841605,5.64328464841605,5.64328464841605,5.64328464841605,5.64328464841605,5.728741702799887,5.728741702799887,5.728741702799887,5.728741702799887,5.728741702799887,5.728741702799887,5.728741702799887,5.728741702799887,5.728741702799887,5.728741702799887,5.728741702799887,5.728741702799887,5.814198757183725,5.814198757183725,5.814198757183725,5.814198757183725,5.814198757183725,5.814198757183725,5.814198757183725,5.814198757183725,5.814198757183725,5.814198757183725,5.814198757183725,5.814198757183725,5.814198757183725,5.814198757183725,5.814198757183725,5.814198757183725,5.814198757183725,5.814198757183725,5.814198757183725,5.814198757183725,5.814198757183725,5.814198757183725,5.814198757183725,5.814198757183725,5.814198757183725,5.899655811567562,5.899655811567562,5.899655811567562,5.899655811567562,5.899655811567562,5.899655811567562,5.899655811567562,5.899655811567562,5.899655811567562,5.899655811567562,5.899655811567562,5.899655811567562,5.899655811567562,5.899655811567562,5.899655811567562,5.899655811567562,5.899655811567562,5.899655811567562,5.899655811567562,5.899655811567562,5.985112865951399,5.985112865951399,5.985112865951399,5.985112865951399,5.985112865951399,5.985112865951399,5.985112865951399,5.985112865951399,5.985112865951399,5.985112865951399,5.985112865951399,5.985112865951399,5.985112865951399,5.985112865951399,5.985112865951399,5.985112865951399,5.985112865951399,6.070569920335236,6.070569920335236,6.070569920335236,6.070569920335236,6.070569920335236,6.070569920335236,6.070569920335236,6.070569920335236,6.070569920335236,6.070569920335236,6.070569920335236,6.070569920335236,6.070569920335236,6.070569920335236,6.070569920335236,6.070569920335236,6.070569920335236,6.070569920335236,6.070569920335236,6.070569920335236,6.070569920335236,6.070569920335236,6.070569920335236,6.156026974719073,6.156026974719073,6.156026974719073,6.156026974719073,6.156026974719073,6.156026974719073,6.156026974719073,6.156026974719073,6.156026974719073,6.156026974719073,6.156026974719073,6.156026974719073,6.156026974719073,6.156026974719073,6.156026974719073,6.156026974719073,6.156026974719073,6.156026974719073,6.156026974719073,6.156026974719073,6.156026974719073,6.156026974719073,6.156026974719073,6.156026974719073,6.156026974719073,6.156026974719073,6.24148402910291,6.24148402910291,6.24148402910291,6.24148402910291,6.24148402910291,6.24148402910291,6.24148402910291,6.24148402910291,6.24148402910291,6.24148402910291,6.24148402910291,6.24148402910291,6.24148402910291,6.24148402910291,6.24148402910291,6.24148402910291,6.24148402910291,6.24148402910291,6.24148402910291,6.24148402910291,6.24148402910291,6.24148402910291,6.24148402910291,6.24148402910291,6.24148402910291,6.24148402910291,6.24148402910291,6.24148402910291,6.24148402910291,6.24148402910291,6.24148402910291,6.24148402910291,6.326941083486748,6.326941083486748,6.326941083486748,6.326941083486748,6.326941083486748,6.326941083486748,6.326941083486748,6.326941083486748,6.326941083486748,6.326941083486748,6.326941083486748,6.326941083486748,6.326941083486748,6.326941083486748,6.326941083486748,6.326941083486748,6.326941083486748,6.326941083486748,6.412398137870585,6.412398137870585,6.412398137870585,6.412398137870585,6.412398137870585,6.412398137870585,6.412398137870585,6.412398137870585,6.412398137870585,6.412398137870585,6.412398137870585,6.412398137870585,6.412398137870585,6.412398137870585,6.412398137870585,6.412398137870585,6.412398137870585,6.412398137870585,6.497855192254422,6.497855192254422,6.497855192254422,6.497855192254422,6.497855192254422,6.497855192254422,6.497855192254422,6.497855192254422,6.497855192254422,6.497855192254422,6.497855192254422,6.497855192254422,6.497855192254422,6.497855192254422,6.497855192254422,6.497855192254422,6.497855192254422,6.497855192254422,6.497855192254422,6.497855192254422,6.497855192254422,6.583312246638259,6.583312246638259,6.583312246638259,6.583312246638259,6.583312246638259,6.583312246638259,6.583312246638259,6.583312246638259,6.583312246638259,6.583312246638259,6.583312246638259,6.583312246638259,6.583312246638259,6.583312246638259,6.583312246638259,6.583312246638259,6.583312246638259,6.583312246638259,6.583312246638259,6.668769301022097,6.668769301022097,6.668769301022097,6.668769301022097,6.668769301022097,6.668769301022097,6.668769301022097,6.668769301022097,6.668769301022097,6.668769301022097,6.668769301022097,6.668769301022097,6.668769301022097,6.668769301022097,6.668769301022097,6.668769301022097,6.668769301022097,6.668769301022097,6.668769301022097,6.668769301022097,6.668769301022097,6.668769301022097,6.668769301022097,6.668769301022097,6.668769301022097,6.668769301022097,6.668769301022097,6.754226355405934,6.754226355405934,6.754226355405934,6.754226355405934,6.754226355405934,6.754226355405934,6.754226355405934,6.754226355405934,6.754226355405934,6.754226355405934,6.754226355405934,6.754226355405934,6.754226355405934,6.754226355405934,6.754226355405934,6.754226355405934,6.754226355405934,6.754226355405934,6.754226355405934,6.754226355405934,6.754226355405934,6.754226355405934,6.754226355405934,6.754226355405934,6.839683409789771,6.839683409789771,6.839683409789771,6.839683409789771,6.839683409789771,6.839683409789771,6.839683409789771,6.839683409789771,6.839683409789771,6.839683409789771,6.839683409789771,6.839683409789771,6.839683409789771,6.839683409789771,6.925140464173609,6.925140464173609,6.925140464173609,6.925140464173609,6.925140464173609,6.925140464173609,6.925140464173609,6.925140464173609,6.925140464173609,6.925140464173609,7.010597518557446,7.010597518557446,7.010597518557446,7.010597518557446,7.010597518557446,7.010597518557446,7.010597518557446,7.010597518557446,7.010597518557446,7.010597518557446,7.010597518557446,7.010597518557446,7.010597518557446,7.010597518557446,7.010597518557446,7.010597518557446,7.010597518557446,7.010597518557446,7.010597518557446,7.0960545729412825,7.0960545729412825,7.0960545729412825,7.0960545729412825,7.0960545729412825,7.0960545729412825,7.0960545729412825,7.0960545729412825,7.0960545729412825,7.0960545729412825,7.0960545729412825,7.0960545729412825,7.0960545729412825,7.0960545729412825,7.0960545729412825,7.0960545729412825,7.0960545729412825,7.0960545729412825,7.0960545729412825,7.0960545729412825,7.0960545729412825,7.0960545729412825,7.0960545729412825,7.18151162732512,7.18151162732512,7.18151162732512,7.18151162732512,7.18151162732512,7.18151162732512,7.18151162732512,7.18151162732512,7.18151162732512,7.18151162732512,7.18151162732512,7.18151162732512,7.18151162732512,7.18151162732512,7.18151162732512,7.18151162732512,7.18151162732512,7.18151162732512,7.18151162732512,7.18151162732512,7.18151162732512,7.18151162732512,7.18151162732512,7.18151162732512,7.18151162732512,7.18151162732512,7.266968681708957,7.266968681708957,7.266968681708957,7.266968681708957,7.266968681708957,7.266968681708957,7.266968681708957,7.266968681708957,7.266968681708957,7.266968681708957,7.266968681708957,7.266968681708957,7.266968681708957,7.266968681708957,7.266968681708957,7.266968681708957,7.266968681708957,7.266968681708957,7.266968681708957,7.266968681708957,7.266968681708957,7.266968681708957,7.266968681708957,7.266968681708957,7.266968681708957,7.352425736092794,7.352425736092794,7.352425736092794,7.352425736092794,7.352425736092794,7.352425736092794,7.352425736092794,7.352425736092794,7.352425736092794,7.352425736092794,7.352425736092794,7.352425736092794,7.352425736092794,7.352425736092794,7.352425736092794,7.352425736092794,7.352425736092794,7.352425736092794,7.352425736092794,7.437882790476632,7.437882790476632,7.437882790476632,7.437882790476632,7.437882790476632,7.437882790476632,7.437882790476632,7.437882790476632,7.437882790476632,7.437882790476632,7.437882790476632,7.437882790476632,7.437882790476632,7.437882790476632,7.437882790476632,7.437882790476632,7.437882790476632,7.437882790476632,7.437882790476632,7.437882790476632,7.437882790476632,7.437882790476632,7.437882790476632,7.437882790476632,7.437882790476632,7.437882790476632,7.437882790476632,7.52333984486047,7.52333984486047,7.52333984486047,7.52333984486047,7.52333984486047,7.52333984486047,7.52333984486047,7.52333984486047,7.52333984486047,7.52333984486047,7.52333984486047,7.52333984486047,7.52333984486047,7.52333984486047,7.52333984486047,7.52333984486047,7.52333984486047,7.52333984486047,7.52333984486047,7.52333984486047,7.52333984486047,7.52333984486047,7.52333984486047,7.52333984486047,7.52333984486047,7.52333984486047,7.608796899244306,7.608796899244306,7.608796899244306,7.608796899244306,7.608796899244306,7.608796899244306,7.608796899244306,7.608796899244306,7.608796899244306,7.608796899244306,7.608796899244306,7.608796899244306,7.608796899244306,7.608796899244306,7.608796899244306,7.608796899244306,7.608796899244306,7.608796899244306,7.608796899244306,7.608796899244306,7.608796899244306,7.608796899244306,7.608796899244306,7.608796899244306,7.694253953628143,7.694253953628143,7.694253953628143,7.694253953628143,7.694253953628143,7.694253953628143,7.694253953628143,7.694253953628143,7.694253953628143,7.694253953628143,7.694253953628143,7.694253953628143,7.694253953628143,7.694253953628143,7.694253953628143,7.694253953628143,7.694253953628143,7.779711008011981,7.779711008011981,7.779711008011981,7.779711008011981,7.779711008011981,7.779711008011981,7.779711008011981,7.779711008011981,7.779711008011981,7.779711008011981,7.779711008011981,7.779711008011981,7.779711008011981,7.779711008011981,7.779711008011981,7.779711008011981,7.779711008011981,7.779711008011981,7.779711008011981,7.779711008011981,7.779711008011981,7.779711008011981,7.779711008011981,7.779711008011981,7.865168062395818,7.865168062395818,7.865168062395818,7.865168062395818,7.950625116779655,7.950625116779655,7.950625116779655,7.950625116779655,7.950625116779655,7.950625116779655,7.950625116779655,7.950625116779655,7.950625116779655,7.950625116779655,7.950625116779655,7.950625116779655,7.950625116779655,7.950625116779655,7.950625116779655,7.950625116779655,7.950625116779655,7.950625116779655,7.950625116779655,8.036082171163493,8.036082171163493,8.036082171163493,8.036082171163493,8.036082171163493,8.036082171163493,8.036082171163493,8.036082171163493,8.036082171163493,8.036082171163493,8.036082171163493,8.036082171163493,8.036082171163493,8.036082171163493,8.036082171163493,8.036082171163493,8.036082171163493,8.036082171163493,8.12153922554733,8.12153922554733,8.12153922554733,8.12153922554733,8.12153922554733,8.12153922554733,8.12153922554733,8.12153922554733,8.12153922554733,8.12153922554733,8.12153922554733,8.12153922554733,8.12153922554733,8.12153922554733,8.12153922554733,8.12153922554733,8.12153922554733,8.12153922554733,8.12153922554733,8.12153922554733,8.12153922554733,8.12153922554733,8.12153922554733,8.12153922554733,8.206996279931166,8.206996279931166,8.206996279931166,8.206996279931166,8.206996279931166,8.206996279931166,8.206996279931166,8.206996279931166,8.206996279931166,8.206996279931166,8.206996279931166,8.206996279931166,8.206996279931166,8.206996279931166,8.206996279931166,8.206996279931166,8.292453334315004,8.292453334315004,8.292453334315004,8.292453334315004,8.292453334315004,8.292453334315004,8.292453334315004,8.292453334315004,8.292453334315004,8.292453334315004,8.292453334315004,8.292453334315004,8.292453334315004,8.292453334315004,8.292453334315004,8.292453334315004,8.292453334315004,8.37791038869884,8.37791038869884,8.37791038869884,8.37791038869884,8.37791038869884,8.37791038869884,8.37791038869884,8.37791038869884,8.37791038869884,8.37791038869884,8.37791038869884,8.37791038869884,8.37791038869884,8.37791038869884,8.37791038869884,8.37791038869884,8.463367443082678,8.463367443082678,8.463367443082678,8.463367443082678,8.463367443082678,8.463367443082678,8.463367443082678,8.463367443082678,8.463367443082678,8.463367443082678,8.463367443082678,8.463367443082678,8.463367443082678,8.463367443082678,8.463367443082678,8.463367443082678,8.463367443082678,8.463367443082678,8.463367443082678,8.548824497466516,8.548824497466516,8.548824497466516,8.548824497466516,8.548824497466516,8.548824497466516,8.548824497466516,8.548824497466516,8.548824497466516,8.548824497466516,8.548824497466516,8.548824497466516,8.548824497466516,8.548824497466516,8.548824497466516,8.548824497466516,8.548824497466516,8.548824497466516,8.548824497466516,8.634281551850354,8.634281551850354,8.634281551850354,8.634281551850354,8.634281551850354,8.634281551850354,8.634281551850354,8.634281551850354,8.634281551850354,8.634281551850354,8.634281551850354,8.634281551850354,8.634281551850354,8.634281551850354,8.634281551850354,8.634281551850354,8.719738606234191,8.719738606234191,8.719738606234191,8.719738606234191,8.719738606234191,8.719738606234191,8.719738606234191,8.719738606234191,8.719738606234191,8.719738606234191,8.719738606234191,8.805195660618027,8.805195660618027,8.805195660618027,8.805195660618027,8.805195660618027,8.805195660618027,8.805195660618027,8.805195660618027,8.805195660618027,8.805195660618027,8.805195660618027,8.805195660618027,8.805195660618027,8.805195660618027,8.805195660618027,8.805195660618027,8.805195660618027,8.805195660618027,8.805195660618027,8.890652715001865,8.890652715001865,8.890652715001865,8.890652715001865,8.890652715001865,8.890652715001865,8.890652715001865,8.890652715001865,8.890652715001865,8.890652715001865,8.890652715001865,8.890652715001865,8.890652715001865,8.890652715001865],\"yaxis\":\"y\",\"type\":\"scatter\"},{\"hovertemplate\":\"Status=Uninstalled\\u003cbr\\u003eAverage Screen Time=%{x}\\u003cbr\\u003eRatings=%{marker.size}\\u003cextra\\u003e\\u003c\\u002fextra\\u003e\",\"legendgroup\":\"Uninstalled\",\"marker\":{\"color\":\"#EF553B\",\"size\":[4,1,2,5,2,3,4,5,0,4,1,0,2,2,0,2,3,3,0,1,0,4,5,4,5,0,2,4,0,1,4,4,5,0,2,3,0,3,0,2,4,0,5,5,4,2,3,2,3,0,3,5,0,2,2,3,1,5,1,2,2,1,0,5,5,4,2,2,5,2,2,2,3,1,3,3,4,4,3,1,5,3,5],\"sizemode\":\"area\",\"sizeref\":0.025,\"symbol\":\"circle\"},\"mode\":\"markers\",\"name\":\"Uninstalled\",\"orientation\":\"v\",\"showlegend\":true,\"x\":[0.0,1.0,4.0,3.0,5.0,5.0,0.0,1.0,1.0,3.0,0.0,3.0,2.0,1.0,3.0,3.0,3.0,4.0,4.0,1.0,2.0,0.0,1.0,3.0,4.0,3.0,4.0,0.0,0.0,2.0,1.0,5.0,0.0,5.0,1.0,4.0,4.0,0.0,4.0,5.0,4.0,0.0,5.0,0.0,2.0,2.0,5.0,5.0,2.0,1.0,5.0,0.0,2.0,1.0,5.0,0.0,0.0,1.0,2.0,3.0,4.0,3.0,1.0,0.0,1.0,0.0,4.0,2.0,2.0,3.0,4.0,1.0,3.0,3.0,0.0,5.0,2.0,4.0,2.0,0.0,2.0,1.0,2.0],\"xaxis\":\"x\",\"y\":[4,1,2,5,2,3,4,5,0,4,1,0,2,2,0,2,3,3,0,1,0,4,5,4,5,0,2,4,0,1,4,4,5,0,2,3,0,3,0,2,4,0,5,5,4,2,3,2,3,0,3,5,0,2,2,3,1,5,1,2,2,1,0,5,5,4,2,2,5,2,2,2,3,1,3,3,4,4,3,1,5,3,5],\"yaxis\":\"y\",\"type\":\"scatter\"},{\"hovertemplate\":\"\\u003cb\\u003eOLS trendline\\u003c\\u002fb\\u003e\\u003cbr\\u003eRatings = -0.11416 * Average Screen Time + 2.80212\\u003cbr\\u003eR\\u003csup\\u003e2\\u003c\\u002fsup\\u003e=0.013482\\u003cbr\\u003e\\u003cbr\\u003eStatus=Uninstalled\\u003cbr\\u003eAverage Screen Time=%{x}\\u003cbr\\u003eRatings=%{y} \\u003cb\\u003e(trend)\\u003c\\u002fb\\u003e\\u003cextra\\u003e\\u003c\\u002fextra\\u003e\",\"legendgroup\":\"Uninstalled\",\"marker\":{\"color\":\"#EF553B\",\"symbol\":\"circle\"},\"mode\":\"lines\",\"name\":\"Uninstalled\",\"showlegend\":false,\"x\":[0.0,0.0,0.0,0.0,0.0,0.0,0.0,0.0,0.0,0.0,0.0,0.0,0.0,0.0,0.0,0.0,0.0,1.0,1.0,1.0,1.0,1.0,1.0,1.0,1.0,1.0,1.0,1.0,1.0,1.0,1.0,1.0,2.0,2.0,2.0,2.0,2.0,2.0,2.0,2.0,2.0,2.0,2.0,2.0,2.0,2.0,3.0,3.0,3.0,3.0,3.0,3.0,3.0,3.0,3.0,3.0,3.0,3.0,3.0,4.0,4.0,4.0,4.0,4.0,4.0,4.0,4.0,4.0,4.0,4.0,4.0,4.0,5.0,5.0,5.0,5.0,5.0,5.0,5.0,5.0,5.0,5.0,5.0],\"xaxis\":\"x\",\"y\":[2.802122972161025,2.802122972161025,2.802122972161025,2.802122972161025,2.802122972161025,2.802122972161025,2.802122972161025,2.802122972161025,2.802122972161025,2.802122972161025,2.802122972161025,2.802122972161025,2.802122972161025,2.802122972161025,2.802122972161025,2.802122972161025,2.802122972161025,2.68796314840777,2.68796314840777,2.68796314840777,2.68796314840777,2.68796314840777,2.68796314840777,2.68796314840777,2.68796314840777,2.68796314840777,2.68796314840777,2.68796314840777,2.68796314840777,2.68796314840777,2.68796314840777,2.68796314840777,2.573803324654515,2.573803324654515,2.573803324654515,2.573803324654515,2.573803324654515,2.573803324654515,2.573803324654515,2.573803324654515,2.573803324654515,2.573803324654515,2.573803324654515,2.573803324654515,2.573803324654515,2.573803324654515,2.4596435009012603,2.4596435009012603,2.4596435009012603,2.4596435009012603,2.4596435009012603,2.4596435009012603,2.4596435009012603,2.4596435009012603,2.4596435009012603,2.4596435009012603,2.4596435009012603,2.4596435009012603,2.4596435009012603,2.3454836771480054,2.3454836771480054,2.3454836771480054,2.3454836771480054,2.3454836771480054,2.3454836771480054,2.3454836771480054,2.3454836771480054,2.3454836771480054,2.3454836771480054,2.3454836771480054,2.3454836771480054,2.3454836771480054,2.231323853394751,2.231323853394751,2.231323853394751,2.231323853394751,2.231323853394751,2.231323853394751,2.231323853394751,2.231323853394751,2.231323853394751,2.231323853394751,2.231323853394751],\"yaxis\":\"y\",\"type\":\"scatter\"}],                        {\"template\":{\"data\":{\"histogram2dcontour\":[{\"type\":\"histogram2dcontour\",\"colorbar\":{\"outlinewidth\":0,\"ticks\":\"\"},\"colorscale\":[[0.0,\"#0d0887\"],[0.1111111111111111,\"#46039f\"],[0.2222222222222222,\"#7201a8\"],[0.3333333333333333,\"#9c179e\"],[0.4444444444444444,\"#bd3786\"],[0.5555555555555556,\"#d8576b\"],[0.6666666666666666,\"#ed7953\"],[0.7777777777777778,\"#fb9f3a\"],[0.8888888888888888,\"#fdca26\"],[1.0,\"#f0f921\"]]}],\"choropleth\":[{\"type\":\"choropleth\",\"colorbar\":{\"outlinewidth\":0,\"ticks\":\"\"}}],\"histogram2d\":[{\"type\":\"histogram2d\",\"colorbar\":{\"outlinewidth\":0,\"ticks\":\"\"},\"colorscale\":[[0.0,\"#0d0887\"],[0.1111111111111111,\"#46039f\"],[0.2222222222222222,\"#7201a8\"],[0.3333333333333333,\"#9c179e\"],[0.4444444444444444,\"#bd3786\"],[0.5555555555555556,\"#d8576b\"],[0.6666666666666666,\"#ed7953\"],[0.7777777777777778,\"#fb9f3a\"],[0.8888888888888888,\"#fdca26\"],[1.0,\"#f0f921\"]]}],\"heatmap\":[{\"type\":\"heatmap\",\"colorbar\":{\"outlinewidth\":0,\"ticks\":\"\"},\"colorscale\":[[0.0,\"#0d0887\"],[0.1111111111111111,\"#46039f\"],[0.2222222222222222,\"#7201a8\"],[0.3333333333333333,\"#9c179e\"],[0.4444444444444444,\"#bd3786\"],[0.5555555555555556,\"#d8576b\"],[0.6666666666666666,\"#ed7953\"],[0.7777777777777778,\"#fb9f3a\"],[0.8888888888888888,\"#fdca26\"],[1.0,\"#f0f921\"]]}],\"heatmapgl\":[{\"type\":\"heatmapgl\",\"colorbar\":{\"outlinewidth\":0,\"ticks\":\"\"},\"colorscale\":[[0.0,\"#0d0887\"],[0.1111111111111111,\"#46039f\"],[0.2222222222222222,\"#7201a8\"],[0.3333333333333333,\"#9c179e\"],[0.4444444444444444,\"#bd3786\"],[0.5555555555555556,\"#d8576b\"],[0.6666666666666666,\"#ed7953\"],[0.7777777777777778,\"#fb9f3a\"],[0.8888888888888888,\"#fdca26\"],[1.0,\"#f0f921\"]]}],\"contourcarpet\":[{\"type\":\"contourcarpet\",\"colorbar\":{\"outlinewidth\":0,\"ticks\":\"\"}}],\"contour\":[{\"type\":\"contour\",\"colorbar\":{\"outlinewidth\":0,\"ticks\":\"\"},\"colorscale\":[[0.0,\"#0d0887\"],[0.1111111111111111,\"#46039f\"],[0.2222222222222222,\"#7201a8\"],[0.3333333333333333,\"#9c179e\"],[0.4444444444444444,\"#bd3786\"],[0.5555555555555556,\"#d8576b\"],[0.6666666666666666,\"#ed7953\"],[0.7777777777777778,\"#fb9f3a\"],[0.8888888888888888,\"#fdca26\"],[1.0,\"#f0f921\"]]}],\"surface\":[{\"type\":\"surface\",\"colorbar\":{\"outlinewidth\":0,\"ticks\":\"\"},\"colorscale\":[[0.0,\"#0d0887\"],[0.1111111111111111,\"#46039f\"],[0.2222222222222222,\"#7201a8\"],[0.3333333333333333,\"#9c179e\"],[0.4444444444444444,\"#bd3786\"],[0.5555555555555556,\"#d8576b\"],[0.6666666666666666,\"#ed7953\"],[0.7777777777777778,\"#fb9f3a\"],[0.8888888888888888,\"#fdca26\"],[1.0,\"#f0f921\"]]}],\"mesh3d\":[{\"type\":\"mesh3d\",\"colorbar\":{\"outlinewidth\":0,\"ticks\":\"\"}}],\"scatter\":[{\"fillpattern\":{\"fillmode\":\"overlay\",\"size\":10,\"solidity\":0.2},\"type\":\"scatter\"}],\"parcoords\":[{\"type\":\"parcoords\",\"line\":{\"colorbar\":{\"outlinewidth\":0,\"ticks\":\"\"}}}],\"scatterpolargl\":[{\"type\":\"scatterpolargl\",\"marker\":{\"colorbar\":{\"outlinewidth\":0,\"ticks\":\"\"}}}],\"bar\":[{\"error_x\":{\"color\":\"#2a3f5f\"},\"error_y\":{\"color\":\"#2a3f5f\"},\"marker\":{\"line\":{\"color\":\"white\",\"width\":0.5},\"pattern\":{\"fillmode\":\"overlay\",\"size\":10,\"solidity\":0.2}},\"type\":\"bar\"}],\"scattergeo\":[{\"type\":\"scattergeo\",\"marker\":{\"colorbar\":{\"outlinewidth\":0,\"ticks\":\"\"}}}],\"scatterpolar\":[{\"type\":\"scatterpolar\",\"marker\":{\"colorbar\":{\"outlinewidth\":0,\"ticks\":\"\"}}}],\"histogram\":[{\"marker\":{\"pattern\":{\"fillmode\":\"overlay\",\"size\":10,\"solidity\":0.2}},\"type\":\"histogram\"}],\"scattergl\":[{\"type\":\"scattergl\",\"marker\":{\"colorbar\":{\"outlinewidth\":0,\"ticks\":\"\"}}}],\"scatter3d\":[{\"type\":\"scatter3d\",\"line\":{\"colorbar\":{\"outlinewidth\":0,\"ticks\":\"\"}},\"marker\":{\"colorbar\":{\"outlinewidth\":0,\"ticks\":\"\"}}}],\"scattermapbox\":[{\"type\":\"scattermapbox\",\"marker\":{\"colorbar\":{\"outlinewidth\":0,\"ticks\":\"\"}}}],\"scatterternary\":[{\"type\":\"scatterternary\",\"marker\":{\"colorbar\":{\"outlinewidth\":0,\"ticks\":\"\"}}}],\"scattercarpet\":[{\"type\":\"scattercarpet\",\"marker\":{\"colorbar\":{\"outlinewidth\":0,\"ticks\":\"\"}}}],\"carpet\":[{\"aaxis\":{\"endlinecolor\":\"#2a3f5f\",\"gridcolor\":\"#C8D4E3\",\"linecolor\":\"#C8D4E3\",\"minorgridcolor\":\"#C8D4E3\",\"startlinecolor\":\"#2a3f5f\"},\"baxis\":{\"endlinecolor\":\"#2a3f5f\",\"gridcolor\":\"#C8D4E3\",\"linecolor\":\"#C8D4E3\",\"minorgridcolor\":\"#C8D4E3\",\"startlinecolor\":\"#2a3f5f\"},\"type\":\"carpet\"}],\"table\":[{\"cells\":{\"fill\":{\"color\":\"#EBF0F8\"},\"line\":{\"color\":\"white\"}},\"header\":{\"fill\":{\"color\":\"#C8D4E3\"},\"line\":{\"color\":\"white\"}},\"type\":\"table\"}],\"barpolar\":[{\"marker\":{\"line\":{\"color\":\"white\",\"width\":0.5},\"pattern\":{\"fillmode\":\"overlay\",\"size\":10,\"solidity\":0.2}},\"type\":\"barpolar\"}],\"pie\":[{\"automargin\":true,\"type\":\"pie\"}]},\"layout\":{\"autotypenumbers\":\"strict\",\"colorway\":[\"#636efa\",\"#EF553B\",\"#00cc96\",\"#ab63fa\",\"#FFA15A\",\"#19d3f3\",\"#FF6692\",\"#B6E880\",\"#FF97FF\",\"#FECB52\"],\"font\":{\"color\":\"#2a3f5f\"},\"hovermode\":\"closest\",\"hoverlabel\":{\"align\":\"left\"},\"paper_bgcolor\":\"white\",\"plot_bgcolor\":\"white\",\"polar\":{\"bgcolor\":\"white\",\"angularaxis\":{\"gridcolor\":\"#EBF0F8\",\"linecolor\":\"#EBF0F8\",\"ticks\":\"\"},\"radialaxis\":{\"gridcolor\":\"#EBF0F8\",\"linecolor\":\"#EBF0F8\",\"ticks\":\"\"}},\"ternary\":{\"bgcolor\":\"white\",\"aaxis\":{\"gridcolor\":\"#DFE8F3\",\"linecolor\":\"#A2B1C6\",\"ticks\":\"\"},\"baxis\":{\"gridcolor\":\"#DFE8F3\",\"linecolor\":\"#A2B1C6\",\"ticks\":\"\"},\"caxis\":{\"gridcolor\":\"#DFE8F3\",\"linecolor\":\"#A2B1C6\",\"ticks\":\"\"}},\"coloraxis\":{\"colorbar\":{\"outlinewidth\":0,\"ticks\":\"\"}},\"colorscale\":{\"sequential\":[[0.0,\"#0d0887\"],[0.1111111111111111,\"#46039f\"],[0.2222222222222222,\"#7201a8\"],[0.3333333333333333,\"#9c179e\"],[0.4444444444444444,\"#bd3786\"],[0.5555555555555556,\"#d8576b\"],[0.6666666666666666,\"#ed7953\"],[0.7777777777777778,\"#fb9f3a\"],[0.8888888888888888,\"#fdca26\"],[1.0,\"#f0f921\"]],\"sequentialminus\":[[0.0,\"#0d0887\"],[0.1111111111111111,\"#46039f\"],[0.2222222222222222,\"#7201a8\"],[0.3333333333333333,\"#9c179e\"],[0.4444444444444444,\"#bd3786\"],[0.5555555555555556,\"#d8576b\"],[0.6666666666666666,\"#ed7953\"],[0.7777777777777778,\"#fb9f3a\"],[0.8888888888888888,\"#fdca26\"],[1.0,\"#f0f921\"]],\"diverging\":[[0,\"#8e0152\"],[0.1,\"#c51b7d\"],[0.2,\"#de77ae\"],[0.3,\"#f1b6da\"],[0.4,\"#fde0ef\"],[0.5,\"#f7f7f7\"],[0.6,\"#e6f5d0\"],[0.7,\"#b8e186\"],[0.8,\"#7fbc41\"],[0.9,\"#4d9221\"],[1,\"#276419\"]]},\"xaxis\":{\"gridcolor\":\"#EBF0F8\",\"linecolor\":\"#EBF0F8\",\"ticks\":\"\",\"title\":{\"standoff\":15},\"zerolinecolor\":\"#EBF0F8\",\"automargin\":true,\"zerolinewidth\":2},\"yaxis\":{\"gridcolor\":\"#EBF0F8\",\"linecolor\":\"#EBF0F8\",\"ticks\":\"\",\"title\":{\"standoff\":15},\"zerolinecolor\":\"#EBF0F8\",\"automargin\":true,\"zerolinewidth\":2},\"scene\":{\"xaxis\":{\"backgroundcolor\":\"white\",\"gridcolor\":\"#DFE8F3\",\"linecolor\":\"#EBF0F8\",\"showbackground\":true,\"ticks\":\"\",\"zerolinecolor\":\"#EBF0F8\",\"gridwidth\":2},\"yaxis\":{\"backgroundcolor\":\"white\",\"gridcolor\":\"#DFE8F3\",\"linecolor\":\"#EBF0F8\",\"showbackground\":true,\"ticks\":\"\",\"zerolinecolor\":\"#EBF0F8\",\"gridwidth\":2},\"zaxis\":{\"backgroundcolor\":\"white\",\"gridcolor\":\"#DFE8F3\",\"linecolor\":\"#EBF0F8\",\"showbackground\":true,\"ticks\":\"\",\"zerolinecolor\":\"#EBF0F8\",\"gridwidth\":2}},\"shapedefaults\":{\"line\":{\"color\":\"#2a3f5f\"}},\"annotationdefaults\":{\"arrowcolor\":\"#2a3f5f\",\"arrowhead\":0,\"arrowwidth\":1},\"geo\":{\"bgcolor\":\"white\",\"landcolor\":\"white\",\"subunitcolor\":\"#C8D4E3\",\"showland\":true,\"showlakes\":true,\"lakecolor\":\"white\"},\"title\":{\"x\":0.05},\"mapbox\":{\"style\":\"light\"}}},\"xaxis\":{\"anchor\":\"y\",\"domain\":[0.0,1.0],\"title\":{\"text\":\"Average Screen Time\"}},\"yaxis\":{\"anchor\":\"x\",\"domain\":[0.0,1.0],\"title\":{\"text\":\"Ratings\"}},\"legend\":{\"title\":{\"text\":\"Status\"},\"tracegroupgap\":0,\"itemsizing\":\"constant\"},\"title\":{\"text\":\"Relationship Between Ratings and Screentime\"}},                        {\"responsive\": true}                    ).then(function(){\n",
              "                            \n",
              "var gd = document.getElementById('2652322e-d4a1-4d6e-a1c7-7cbc257d9dd5');\n",
              "var x = new MutationObserver(function (mutations, observer) {{\n",
              "        var display = window.getComputedStyle(gd).display;\n",
              "        if (!display || display === 'none') {{\n",
              "            console.log([gd, 'removed!']);\n",
              "            Plotly.purge(gd);\n",
              "            observer.disconnect();\n",
              "        }}\n",
              "}});\n",
              "\n",
              "// Listen for the removal of the full notebook cells\n",
              "var notebookContainer = gd.closest('#notebook-container');\n",
              "if (notebookContainer) {{\n",
              "    x.observe(notebookContainer, {childList: true});\n",
              "}}\n",
              "\n",
              "// Listen for the clearing of the current output cell\n",
              "var outputEl = gd.closest('.output');\n",
              "if (outputEl) {{\n",
              "    x.observe(outputEl, {childList: true});\n",
              "}}\n",
              "\n",
              "                        })                };                            </script>        </div>\n",
              "</body>\n",
              "</html>"
            ]
          },
          "metadata": {}
        }
      ]
    },
    {
      "cell_type": "markdown",
      "source": [
        "Então, podemos ver que os usuários que desinstalaram o aplicativo deram no máximo cinco avaliações ao aplicativo.\n",
        "\n",
        "Seu tempo de tela é muito baixo em comparação com os usuários que deram mais avaliações.\n",
        "\n",
        "Portanto, isso descreve que os usuários que não gostam de passar mais tempo classificam o aplicativo como baixo e o desinstalam em algum momento"
      ],
      "metadata": {
        "id": "druubh9SH3NM"
      }
    },
    {
      "cell_type": "markdown",
      "source": [
        "##Segmentação de Usuários de Aplicativos para Encontrar Usuários Retidos e Perdidos\n",
        "\n",
        "Depois de explorarmos os dados e entendermos algumas relações, chegou a hora de avançar para a segmentação de usuários de aplicativos para encontrar os usuários que o aplicativo reteve e perdeu para sempre.\n",
        "\n",
        "Para tanto, vamos utilizar o algoritmo de agrupamento K-means em Aprendizado de Máquina para esta tarefa.\n"
      ],
      "metadata": {
        "id": "_fuMJA_TJENe"
      }
    },
    {
      "cell_type": "code",
      "source": [
        "data.info()"
      ],
      "metadata": {
        "colab": {
          "base_uri": "https://localhost:8080/"
        },
        "id": "Hg_xJmn8fdFT",
        "outputId": "173b446d-c478-48f0-cff1-ae43e7b69edb"
      },
      "execution_count": 18,
      "outputs": [
        {
          "output_type": "stream",
          "name": "stdout",
          "text": [
            "<class 'pandas.core.frame.DataFrame'>\n",
            "RangeIndex: 999 entries, 0 to 998\n",
            "Data columns (total 8 columns):\n",
            " #   Column                      Non-Null Count  Dtype  \n",
            "---  ------                      --------------  -----  \n",
            " 0   userid                      999 non-null    int64  \n",
            " 1   Average Screen Time         999 non-null    float64\n",
            " 2   Average Spent on App (INR)  999 non-null    float64\n",
            " 3   Left Review                 999 non-null    int64  \n",
            " 4   Ratings                     999 non-null    int64  \n",
            " 5   New Password Request        999 non-null    int64  \n",
            " 6   Last Visited Minutes        999 non-null    int64  \n",
            " 7   Status                      999 non-null    object \n",
            "dtypes: float64(2), int64(5), object(1)\n",
            "memory usage: 62.6+ KB\n"
          ]
        }
      ]
    },
    {
      "cell_type": "code",
      "source": [
        "data.columns"
      ],
      "metadata": {
        "colab": {
          "base_uri": "https://localhost:8080/"
        },
        "id": "jU8rHGDBfXSz",
        "outputId": "33087f39-d46f-4936-a5f7-b511360d430c"
      },
      "execution_count": 17,
      "outputs": [
        {
          "output_type": "execute_result",
          "data": {
            "text/plain": [
              "Index(['userid', 'Average Screen Time', 'Average Spent on App (INR)',\n",
              "       'Left Review', 'Ratings', 'New Password Request',\n",
              "       'Last Visited Minutes', 'Status'],\n",
              "      dtype='object')"
            ]
          },
          "metadata": {},
          "execution_count": 17
        }
      ]
    },
    {
      "cell_type": "code",
      "source": [
        "# Fazendo o agrupamento dos dados importantes para o modelo.\n",
        "clustering_data = data[[\"Average Screen Time\", \"Left Review\",\n",
        "                        \"Ratings\", \"Last Visited Minutes\",\n",
        "                        \"Average Spent on App (INR)\",\n",
        "                        \"New Password Request\"]]"
      ],
      "metadata": {
        "id": "8nBCLYVqKnsF"
      },
      "execution_count": 16,
      "outputs": []
    },
    {
      "cell_type": "code",
      "source": [
        "# Fazendo a normalização dos dados\n",
        "for i in clustering_data.columns:\n",
        "    MinMaxScaler(i)"
      ],
      "metadata": {
        "id": "I2PDq0CFJDXG"
      },
      "execution_count": 19,
      "outputs": []
    },
    {
      "cell_type": "code",
      "source": [
        "#%% Identificação da quantidade de clusters (Método Elbow)\n",
        "\n",
        "elbow = []\n",
        "K = range(1,11) # ponto de parada pode ser parametrizado manualmente\n",
        "for k in K:\n",
        "    kmeanElbow = KMeans(n_clusters=k, init='random', random_state=100).fit(clustering_data)\n",
        "    elbow.append(kmeanElbow.inertia_)\n",
        "\n",
        "plt.figure(figsize=(16,8))\n",
        "plt.plot(K, elbow, marker='o')\n",
        "plt.xlabel('Nº Clusters', fontsize=16)\n",
        "plt.xticks(range(1,11)) # ajustar range\n",
        "plt.ylabel('WCSS', fontsize=16)\n",
        "plt.title('Método de Elbow', fontsize=16)\n",
        "plt.show()"
      ],
      "metadata": {
        "colab": {
          "base_uri": "https://localhost:8080/",
          "height": 529
        },
        "id": "ySR3xAF6gLzf",
        "outputId": "118508f0-9199-41a2-a8e8-2c82f30e18ee"
      },
      "execution_count": 26,
      "outputs": [
        {
          "output_type": "display_data",
          "data": {
            "text/plain": [
              "<Figure size 1600x800 with 1 Axes>"
            ],
            "image/png": "[encoded data removed]"
          },
          "metadata": {}
        }
      ]
    },
    {
      "cell_type": "code",
      "source": [
        "#%% Identificação da quantidade de clusters (Método da Silhueta)\n",
        "\n",
        "silhueta = []\n",
        "I = range(2,11) # ponto de parada pode ser parametrizado manualmente\n",
        "for i in I:\n",
        "    kmeansSil = KMeans(n_clusters=i, init='random', random_state=100).fit(clustering_data)\n",
        "    silhueta.append(silhouette_score(clustering_data, kmeansSil.labels_))\n",
        "\n",
        "plt.figure(figsize=(16,8))\n",
        "plt.plot(range(2, 11), silhueta, color = 'purple', marker='o')\n",
        "plt.xlabel('Nº Clusters', fontsize=16)\n",
        "plt.ylabel('Silhueta Média', fontsize=16)\n",
        "plt.title('Método da Silhueta', fontsize=16)\n",
        "plt.axvline(x = silhueta.index(max(silhueta))+2, linestyle = 'dotted', color = 'red')\n",
        "plt.show()"
      ],
      "metadata": {
        "colab": {
          "base_uri": "https://localhost:8080/",
          "height": 524
        },
        "id": "QXBK3a85oQq2",
        "outputId": "195d95c9-b2b2-431f-b513-8cb99ddd54d9"
      },
      "execution_count": 29,
      "outputs": [
        {
          "output_type": "display_data",
          "data": {
            "text/plain": [
              "<Figure size 1600x800 with 1 Axes>"
            ],
            "image/png": "[encoded data removed]"
          },
          "metadata": {}
        }
      ]
    },
    {
      "cell_type": "code",
      "source": [
        "# realizando a classificação.\n",
        "kmeans = KMeans(n_clusters=3, n_init=10)\n",
        "clusters = kmeans.fit_predict(clustering_data)\n",
        "data[\"Segments\"] = clusters"
      ],
      "metadata": {
        "id": "iAKtXmI9K0cg"
      },
      "execution_count": 41,
      "outputs": []
    },
    {
      "cell_type": "code",
      "source": [
        "# apresentando os dados.\n",
        "print(data.head(10))"
      ],
      "metadata": {
        "colab": {
          "base_uri": "https://localhost:8080/"
        },
        "id": "KwF8mlvfK4nt",
        "outputId": "b3dfb049-90b3-4b6e-e0c4-f6192e5f576c"
      },
      "execution_count": 42,
      "outputs": [
        {
          "output_type": "stream",
          "name": "stdout",
          "text": [
            "   userid  Average Screen Time  Average Spent on App (INR)  Left Review  \\\n",
            "0    1001                 17.0                       634.0            1   \n",
            "1    1002                  0.0                        54.0            0   \n",
            "2    1003                 37.0                       207.0            0   \n",
            "3    1004                 32.0                       445.0            1   \n",
            "4    1005                 45.0                       427.0            1   \n",
            "5    1006                 28.0                       599.0            0   \n",
            "6    1007                 49.0                       887.0            1   \n",
            "7    1008                  8.0                        31.0            0   \n",
            "8    1009                 28.0                       741.0            1   \n",
            "9    1010                 28.0                       524.0            1   \n",
            "\n",
            "   Ratings  New Password Request  Last Visited Minutes       Status  Segments  \n",
            "0        9                     7                  2990    Installed         0  \n",
            "1        4                     8                 24008  Uninstalled         2  \n",
            "2        8                     5                   971    Installed         0  \n",
            "3        6                     2                   799    Installed         0  \n",
            "4        5                     6                  3668    Installed         0  \n",
            "5        9                     4                  2878    Installed         0  \n",
            "6        9                     6                  4481    Installed         0  \n",
            "7        2                     1                  1715    Installed         0  \n",
            "8        8                     2                   801    Installed         0  \n",
            "9        8                     4                  4621    Installed         0  \n"
          ]
        }
      ]
    },
    {
      "cell_type": "markdown",
      "source": [
        "Agora vamos dar uma olhada no número de segmentos que obtivemos:\n"
      ],
      "metadata": {
        "id": "G5FO7TXoLr2r"
      }
    },
    {
      "cell_type": "code",
      "source": [
        "print(data[\"Segments\"].value_counts())"
      ],
      "metadata": {
        "colab": {
          "base_uri": "https://localhost:8080/"
        },
        "id": "bXYyxn4VLt4X",
        "outputId": "3997c31d-6bc5-4e4a-e4ec-9c4854531d00"
      },
      "execution_count": 43,
      "outputs": [
        {
          "output_type": "stream",
          "name": "stdout",
          "text": [
            "Segments\n",
            "0    910\n",
            "1     45\n",
            "2     44\n",
            "Name: count, dtype: int64\n"
          ]
        }
      ]
    },
    {
      "cell_type": "code",
      "source": [
        "# Vamos renomear esse segmentos para melhor entendimento\n",
        "data[\"Segments\"] = data[\"Segments\"].map({0: \"Retained\", 1:\n",
        "    \"Churn\", 2: \"Needs Attention\"})"
      ],
      "metadata": {
        "id": "cuGeZoElLw4u"
      },
      "execution_count": 44,
      "outputs": []
    },
    {
      "cell_type": "code",
      "source": [
        "# Vamos visualizar esses segmentos graficamente\n",
        "PLOT = go.Figure()\n",
        "for i in list(data[\"Segments\"].unique()):\n",
        "\n",
        "\n",
        "    PLOT.add_trace(go.Scatter(x = data[data[\"Segments\"]== i]['Last Visited Minutes'],\n",
        "                                y = data[data[\"Segments\"] == i]['Average Spent on App (INR)'],\n",
        "                                mode = 'markers',marker_size = 6, marker_line_width = 1,\n",
        "                                name = str(i)))\n",
        "PLOT.update_traces(hovertemplate='Last Visited Minutes: %{x} <br>Average Spent on App (INR): %{y}')\n",
        "\n",
        "\n",
        "PLOT.update_layout(width = 800, height = 800, autosize = True, showlegend = True,\n",
        "                   yaxis_title = 'Average Spent on App (INR)',\n",
        "                   xaxis_title = 'Last Visited Minutes',\n",
        "                   scene = dict(xaxis=dict(title = 'Last Visited Minutes', titlefont_color = 'black'),\n",
        "                                yaxis=dict(title = 'Average Spent on App (INR)', titlefont_color = 'black')))"
      ],
      "metadata": {
        "colab": {
          "base_uri": "https://localhost:8080/",
          "height": 817
        },
        "id": "MGxeijISLzkA",
        "outputId": "cf246cb3-388c-42c0-bd89-565258f6abc5"
      },
      "execution_count": 45,
      "outputs": [
        {
          "output_type": "display_data",
          "data": {
            "text/html": [
              "<html>\n",
              "<head><meta charset=\"utf-8\" /></head>\n",
              "<body>\n",
              "    <div>            <script src=\"https://cdnjs.cloudflare.com/ajax/libs/mathjax/2.7.5/MathJax.js?config=TeX-AMS-MML_SVG\"></script><script type=\"text/javascript\">if (window.MathJax && window.MathJax.Hub && window.MathJax.Hub.Config) {window.MathJax.Hub.Config({SVG: {font: \"STIX-Web\"}});}</script>                <script type=\"text/javascript\">window.PlotlyConfig = {MathJaxConfig: 'local'};</script>\n",
              "        <script charset=\"utf-8\" src=\"https://cdn.plot.ly/plotly-2.35.2.min.js\"></script>                <div id=\"f8a8fca8-3abb-467d-b333-ab487c56e123\" class=\"plotly-graph-div\" style=\"height:800px; width:800px;\"></div>            <script type=\"text/javascript\">                                    window.PLOTLYENV=window.PLOTLYENV || {};                                    if (document.getElementById(\"f8a8fca8-3abb-467d-b333-ab487c56e123\")) {                    Plotly.newPlot(                        \"f8a8fca8-3abb-467d-b333-ab487c56e123\",                        [{\"marker\":{\"line\":{\"width\":1},\"size\":6},\"mode\":\"markers\",\"name\":\"Retained\",\"x\":[2990,971,799,3668,2878,4481,1715,801,4621,1293,4214,9008,3107,2595,577,2965,3124,3460,1925,631,4057,2946,4702,4189,2894,1049,419,3273,4060,1148,4784,2808,2920,4096,767,3650,4107,2425,3511,3471,2571,520,1553,4478,1197,3489,644,3408,1353,1356,3575,3339,2587,4704,3410,4131,873,4991,3847,1759,2126,794,2483,1847,4962,4237,1290,453,479,4574,4302,4513,4076,4913,3660,550,1477,1710,1070,1757,893,2273,3506,517,4258,3292,353,4370,3800,2961,2836,6836,4354,670,2449,1806,4806,1481,3872,1829,2148,2754,727,3982,3589,229,4598,3545,2905,1096,3008,1011,2592,1515,2356,4027,2147,3234,432,2739,963,1363,1992,3452,2308,3105,2276,1742,721,3309,823,3312,1178,4270,3428,1547,3163,835,4848,4795,2041,3900,1261,253,3385,2008,3529,360,3241,4975,684,2905,2354,4004,2221,3853,3559,3737,2687,4566,2351,4818,4299,873,4624,592,1425,437,1791,2640,553,1194,1185,1267,617,1751,3735,4059,1340,4078,2979,1393,1136,2437,1306,203,4378,3225,2020,2263,2608,3642,622,769,3850,3549,3150,1746,2530,2984,3909,2805,622,1872,3815,407,674,4092,1713,4452,3002,2849,1014,2119,3937,3981,413,1559,1072,4896,1254,2373,4692,3265,859,1818,3839,242,2268,1027,1008,1523,3562,2310,4136,1391,2432,991,3295,1324,4941,2463,4230,2769,1754,1828,4539,3001,4269,1728,1459,1776,2284,2119,2833,3766,1042,2998,4154,873,2641,3919,942,220,3144,673,4166,4058,479,1769,1256,3299,5099,1526,4629,5843,272,828,1312,3933,4074,4906,2294,4180,3556,3438,1845,4340,614,3127,3663,4578,931,1008,2780,1976,4557,4769,450,4684,4297,4344,2190,2290,542,1764,4885,3049,2628,4024,4155,3756,640,3173,3890,4818,252,4047,1642,4705,1115,2953,4551,2295,426,1022,4502,2555,577,2163,714,4988,3300,789,862,1744,4270,4581,2166,430,697,1944,4647,4989,2546,4526,1658,2828,400,1790,2901,2942,2768,1414,6641,4080,1791,6207,3670,4247,935,2983,969,3179,1857,4911,2865,1883,1135,1949,680,395,4244,5048,967,3111,4067,4950,586,1586,2716,2310,3519,2005,572,857,4324,3279,2006,222,1541,1316,4893,4060,3949,3840,2102,1376,4389,2123,3737,1902,3761,3489,4602,3935,2120,1049,4198,507,906,650,1842,2521,4164,1668,679,1552,301,2932,3131,1778,4891,2681,2220,1597,1416,3999,3942,1434,2603,524,721,4812,952,4734,2188,3392,949,3457,1919,4346,2620,4897,2601,956,2602,500,2569,2581,2196,4646,302,466,4826,1038,226,1085,3756,4645,4409,3604,1655,2847,2934,3340,2057,3067,927,1420,3785,1904,835,1030,760,2468,4446,3209,4105,2431,4957,3626,926,4643,1275,4097,3238,4096,995,2552,398,1732,4605,4470,3962,4637,1497,1349,3052,2231,3754,2222,1735,1162,4754,2230,1869,1981,4025,4686,888,356,204,4660,4662,1809,1498,4877,2864,540,2629,1176,2502,4877,2568,379,568,1851,427,1981,4937,3496,4863,1536,4716,4272,3609,4488,2423,4789,4266,2646,4706,4065,2725,3769,3854,3600,3678,3723,273,4524,1533,1014,774,4007,3644,1267,454,4426,2457,3328,1994,4821,4568,355,4069,2036,4626,3713,1203,1871,3805,646,1403,1409,1839,1005,1494,4241,1006,4688,2859,2128,910,654,681,3415,3923,2633,4222,3199,4926,3759,547,1024,337,4041,2755,706,3317,2944,2764,2900,4825,2842,4496,3376,3595,1214,4477,4859,2743,4171,298,3984,1407,1763,1703,1830,2721,4928,3606,1193,2287,1454,3608,3947,834,2138,3222,2200,2871,4160,1733,2200,4465,2636,3004,3154,741,4572,2661,1888,831,587,4762,4210,1984,1657,4309,1711,1356,722,1232,2210,3959,1164,4899,3102,2001,2524,1034,1667,2672,3935,2153,8685,3677,626,404,4208,4399,4469,2786,261,5481,1456,201,3836,1442,2559,2401,730,4591,289,861,4975,4845,1840,3460,3559,3427,521,2610,2405,3979,1896,3330,3658,2993,4785,706,2168,3288,1602,2801,2832,1900,4942,2013,3759,3917,1416,4559,660,4013,2298,2167,4180,1558,10049,594,3194,2968,3611,396,2994,907,2933,7244,2106,3604,4617,4069,3372,4315,3859,2883,4868,1613,4749,3693,1958,1854,4454,4175,1161,1455,3159,1150,10114,2408,1555,800,4661,3537,1441,4176,2450,1908,2494,2152,953,3922,2144,2302,743,1569,1922,10957,4033,1243,3007,3679,2132,3981,1833,2991,1415,2353,2563,4930,291,2003,2048,6523,1195,3386,1498,427,2058,851,3872,1477,3172,3362,670,3773,2365,4955,4715,3258,4428,313,1374,2173,1173,1681,4539,3988,600,2136,3100,3094,2186,4537,1726,4373,1769,4000,2999,1107,1271,4650,1058,2061,2017,1176,490,1037,3702,936,2356,2486,2820,3957,289,3745,4189,4198,3445,1601,801,592,3571,4019,1592,252,4541,3086,3754,561,7690,3966,864,1877,404,2403,3452,431,893,4228,2164,1020,2530,969,1993,4113,10845,3124,3072,2835,4851,1109,4522,4016,4710,2821,3624,1827,4606,512,1466,4329,713,1505,1786,1676,1280,2224,4328,3489,1305,4027,905,4641,756,3821,770,2104,3808,880,3634,2935,1865,1327,1936,3436,4039],\"y\":[634.0,207.0,445.0,427.0,599.0,887.0,31.0,741.0,524.0,688.0,466.0,49.0,845.0,251.0,169.0,776.0,341.0,250.0,967.0,774.0,482.0,645.0,688.0,400.0,73.0,460.0,848.0,46.0,195.0,114.0,976.0,932.0,243.0,222.0,410.0,70.0,96.0,207.0,519.0,621.0,461.0,800.0,125.0,405.0,654.0,908.0,875.0,519.0,260.0,911.0,214.0,771.0,726.0,110.0,196.0,157.0,912.0,889.0,512.0,202.0,234.0,966.0,98.0,723.0,738.0,528.0,881.0,90.0,360.0,811.0,398.0,384.0,974.0,222.0,990.0,266.0,919.0,976.0,436.0,320.0,17.0,552.0,61.0,242.0,543.0,448.0,252.0,66.0,42.0,940.0,528.0,52.0,830.0,559.0,74.0,804.0,733.0,663.0,763.0,67.0,115.0,853.0,379.0,629.0,508.0,462.0,93.0,204.0,293.0,31.0,354.0,971.0,255.0,294.0,682.0,601.0,59.0,627.0,73.0,5.0,500.0,364.0,464.0,10.0,87.0,570.0,667.0,96.0,485.0,740.0,27.0,549.0,219.0,550.0,861.0,991.0,722.0,84.0,12.0,153.0,90.0,799.0,938.0,582.0,96.0,431.0,402.0,629.0,91.0,674.0,901.0,196.0,151.0,564.0,493.0,71.0,266.0,838.0,135.0,72.0,839.0,12.0,867.0,375.0,798.0,696.0,894.0,522.0,46.0,661.0,750.0,101.0,73.0,316.0,482.0,747.0,36.0,634.0,990.0,212.0,33.0,987.0,892.0,489.0,279.0,882.0,721.0,674.0,809.0,296.0,94.0,372.0,164.0,146.0,672.0,205.0,150.0,836.0,701.0,616.0,378.0,998.0,298.0,344.0,496.0,399.0,520.0,19.0,0.0,491.0,974.0,865.0,662.0,250.0,485.0,506.0,534.0,603.0,817.0,300.0,595.0,936.0,488.0,242.0,31.0,392.0,333.0,328.0,828.0,839.0,188.0,405.0,634.0,715.0,598.0,755.0,138.0,310.0,477.0,252.0,385.0,217.0,81.0,429.0,254.0,80.0,361.0,8.0,863.0,270.0,813.0,826.0,511.0,9.0,860.0,226.0,135.0,416.0,463.0,877.0,360.0,830.0,909.0,63.0,300.0,285.0,837.0,320.0,621.0,152.0,486.0,401.0,79.0,778.0,923.0,38.0,95.0,990.0,679.0,617.0,994.0,519.0,25.0,396.0,226.0,993.0,107.0,869.0,60.0,749.0,863.0,158.0,424.0,984.0,20.0,988.0,560.0,721.0,261.0,492.0,222.0,788.0,175.0,198.0,481.0,863.0,580.0,216.0,69.0,807.0,739.0,704.0,357.0,614.0,87.0,559.0,660.0,623.0,350.0,936.0,841.0,89.0,833.0,763.0,68.0,330.0,159.0,340.0,832.0,992.0,849.0,742.0,73.0,190.0,928.0,718.0,238.0,736.0,992.0,165.0,75.0,326.0,173.0,930.0,349.0,152.0,719.0,597.0,286.0,754.0,88.0,768.0,158.0,729.0,37.0,900.0,188.0,89.0,70.0,536.0,609.0,796.0,95.0,871.0,10.0,733.0,608.0,506.0,977.0,761.0,708.0,534.0,71.0,9.0,4.0,502.0,614.0,473.0,67.0,254.0,558.0,513.0,80.0,621.0,902.0,411.0,63.0,889.0,347.0,546.0,810.0,68.0,783.0,9.0,603.0,633.0,65.0,481.0,93.0,568.0,423.0,319.0,434.0,75.0,786.0,551.0,85.0,486.0,267.0,566.0,150.0,623.0,219.0,379.0,97.0,375.0,647.0,44.0,635.0,241.0,858.0,435.0,102.0,305.0,212.0,805.0,693.0,981.0,275.0,460.0,273.0,886.0,478.0,368.0,510.0,368.0,14.0,970.0,284.0,39.0,125.0,619.0,207.0,83.0,633.0,64.0,767.0,75.0,53.0,366.0,15.0,479.0,726.0,567.0,819.0,636.0,829.0,748.0,498.0,72.0,859.0,833.0,482.0,402.0,589.0,880.0,61.0,669.0,224.0,845.0,44.0,415.0,7.0,187.0,876.0,79.0,678.0,530.0,319.0,427.0,161.0,516.0,168.0,504.0,465.0,13.0,2.0,885.0,474.0,703.0,155.0,85.0,26.0,321.0,813.0,355.0,690.0,331.0,441.0,338.0,701.0,411.0,970.0,120.0,187.0,927.0,564.0,71.0,239.0,307.0,236.0,511.0,638.0,537.0,836.0,743.0,371.0,90.0,91.0,40.0,48.0,467.0,831.0,164.0,936.0,29.0,379.0,786.0,194.0,170.0,128.0,744.0,850.0,607.0,45.0,644.0,107.0,887.0,93.0,503.0,9.0,571.0,424.0,404.0,329.0,751.0,269.0,894.0,520.0,865.0,518.0,161.0,328.0,410.0,735.0,539.0,96.0,419.0,578.0,48.0,151.0,894.0,394.0,877.0,249.0,459.0,837.0,726.0,597.0,395.0,459.0,6.0,904.0,841.0,167.0,228.0,847.0,68.0,78.0,125.0,275.0,768.0,499.0,64.0,970.0,516.0,800.0,756.0,688.0,280.0,580.0,610.0,484.0,369.0,79.0,284.0,555.0,714.0,517.0,73.0,170.0,719.0,52.0,13.0,155.0,77.0,311.0,85.0,155.0,423.0,7.0,819.0,533.0,523.0,797.0,508.0,729.0,600.0,75.0,180.0,618.0,647.0,37.0,55.0,528.0,779.0,167.0,772.0,863.0,306.0,627.0,854.0,849.0,4.0,87.0,208.0,424.0,84.0,993.0,609.0,295.0,282.0,958.0,53.0,69.0,874.0,845.0,567.0,300.0,116.0,753.0,825.0,64.0,903.0,560.0,873.0,438.0,201.0,86.0,673.0,892.0,739.0,357.0,105.0,922.0,893.0,106.0,59.0,510.0,936.0,734.0,969.0,677.0,504.0,305.0,804.0,6.0,642.0,787.0,231.0,747.0,357.0,26.0,946.0,797.0,841.0,950.0,945.0,45.0,834.0,171.0,857.0,932.0,87.0,733.0,462.0,955.0,32.0,51.0,298.0,449.0,172.0,424.0,326.0,631.0,276.0,79.0,915.0,367.0,892.0,173.0,201.0,355.0,123.0,9.0,678.0,831.0,269.0,627.0,657.0,816.0,39.0,337.0,632.0,79.0,342.0,659.0,324.0,558.0,452.0,60.0,352.0,572.0,300.0,331.0,938.0,26.0,459.0,751.0,479.0,312.0,901.0,867.0,68.0,832.0,295.0,560.0,518.0,266.0,350.0,564.0,92.0,387.0,724.0,307.0,890.0,454.0,624.0,557.0,579.0,246.0,490.0,732.0,311.0,486.0,663.0,516.0,398.0,93.0,69.0,65.0,824.0,616.0,50.0,90.0,286.0,55.0,684.0,758.0,365.0,615.0,928.0,993.0,261.0,764.0,255.0,1.0,81.0,332.0,518.0,603.0,613.0,136.0,15.0,682.0,323.0,597.0,64.0,905.0,251.0,294.0,73.0,917.0,856.0,93.0,964.0,111.0,619.0,241.0,717.0,84.0,783.0,136.0,763.0,586.0,28.0,856.0,185.0,30.0,319.0,391.0,898.0,303.0,885.0,656.0,925.0,19.0,959.0,302.0,827.0,920.0,662.0,273.0,161.0,58.0,291.0,402.0,457.0,51.0,309.0,253.0,838.0,625.0,769.0,828.0,747.0,85.0,277.0,847.0,2.0,877.0,156.0,814.0,84.0,19.0,755.0,98.0,765.0,996.0,975.0,258.0,983.0,381.0,868.0,226.0,239.0,828.0,40.0,95.0,22.0,313.0,798.0,76.0,706.0,466.0,816.0,867.0,966.0,850.0,656.0,811.0,257.0,322.0,146.0,218.0,744.0,83.0,389.0,937.0,568.0,101.0,223.0,775.0,501.0,795.0,777.0,564.0,359.0,380.0,23.0,31.0,961.0,327.0,584.0,98.0,938.0,61.0,761.0,73.0,54.0],\"type\":\"scatter\",\"hovertemplate\":\"Last Visited Minutes: %{x} \\u003cbr\\u003eAverage Spent on App (INR): %{y}\"},{\"marker\":{\"line\":{\"width\":1},\"size\":6},\"mode\":\"markers\",\"name\":\"Needs Attention\",\"x\":[24008,26405,22915,13331,28046,12629,25789,24048,29465,19379,15053,23311,24656,18701,21352,17126,13777,22099,16523,19278,27125,15060,26282,16381,15915,12920,12163,20344,24600,24796,18485,15953,28208,19874,23745,22148,18525,13310,15662,27561,26958,16067,16324,15904],\"y\":[54.0,48.0,23.0,20.0,44.0,13.0,83.0,46.0,100.0,92.0,69.0,10.0,17.0,77.0,32.0,95.0,100.0,42.0,47.0,28.0,50.0,81.0,62.0,59.0,84.0,46.0,56.0,49.0,42.0,88.0,75.0,13.0,45.0,36.0,10.0,4.0,93.0,87.0,12.0,30.0,49.0,3.0,95.0,31.0],\"type\":\"scatter\",\"hovertemplate\":\"Last Visited Minutes: %{x} \\u003cbr\\u003eAverage Spent on App (INR): %{y}\"},{\"marker\":{\"line\":{\"width\":1},\"size\":6},\"mode\":\"markers\",\"name\":\"Churn\",\"x\":[37959,49334,39016,30435,40868,42101,33465,41859,40603,31724,43650,38744,38821,49715,36469,45339,47187,49696,39153,37826,32302,37453,47412,31950,45979,38457,45265,36478,46826,37474,44275,44883,34395,32265,38966,44107,41664,31644,34445,32253,36725,33692,32762,45734,39494],\"y\":[97.0,93.0,34.0,67.0,26.0,94.0,8.0,75.0,42.0,95.0,37.0,51.0,93.0,16.0,91.0,39.0,31.0,93.0,25.0,97.0,58.0,15.0,75.0,66.0,17.0,21.0,25.0,25.0,99.0,36.0,26.0,96.0,1.0,92.0,87.0,6.0,5.0,0.0,84.0,97.0,29.0,78.0,42.0,73.0,43.0],\"type\":\"scatter\",\"hovertemplate\":\"Last Visited Minutes: %{x} \\u003cbr\\u003eAverage Spent on App (INR): %{y}\"}],                        {\"template\":{\"data\":{\"histogram2dcontour\":[{\"type\":\"histogram2dcontour\",\"colorbar\":{\"outlinewidth\":0,\"ticks\":\"\"},\"colorscale\":[[0.0,\"#0d0887\"],[0.1111111111111111,\"#46039f\"],[0.2222222222222222,\"#7201a8\"],[0.3333333333333333,\"#9c179e\"],[0.4444444444444444,\"#bd3786\"],[0.5555555555555556,\"#d8576b\"],[0.6666666666666666,\"#ed7953\"],[0.7777777777777778,\"#fb9f3a\"],[0.8888888888888888,\"#fdca26\"],[1.0,\"#f0f921\"]]}],\"choropleth\":[{\"type\":\"choropleth\",\"colorbar\":{\"outlinewidth\":0,\"ticks\":\"\"}}],\"histogram2d\":[{\"type\":\"histogram2d\",\"colorbar\":{\"outlinewidth\":0,\"ticks\":\"\"},\"colorscale\":[[0.0,\"#0d0887\"],[0.1111111111111111,\"#46039f\"],[0.2222222222222222,\"#7201a8\"],[0.3333333333333333,\"#9c179e\"],[0.4444444444444444,\"#bd3786\"],[0.5555555555555556,\"#d8576b\"],[0.6666666666666666,\"#ed7953\"],[0.7777777777777778,\"#fb9f3a\"],[0.8888888888888888,\"#fdca26\"],[1.0,\"#f0f921\"]]}],\"heatmap\":[{\"type\":\"heatmap\",\"colorbar\":{\"outlinewidth\":0,\"ticks\":\"\"},\"colorscale\":[[0.0,\"#0d0887\"],[0.1111111111111111,\"#46039f\"],[0.2222222222222222,\"#7201a8\"],[0.3333333333333333,\"#9c179e\"],[0.4444444444444444,\"#bd3786\"],[0.5555555555555556,\"#d8576b\"],[0.6666666666666666,\"#ed7953\"],[0.7777777777777778,\"#fb9f3a\"],[0.8888888888888888,\"#fdca26\"],[1.0,\"#f0f921\"]]}],\"heatmapgl\":[{\"type\":\"heatmapgl\",\"colorbar\":{\"outlinewidth\":0,\"ticks\":\"\"},\"colorscale\":[[0.0,\"#0d0887\"],[0.1111111111111111,\"#46039f\"],[0.2222222222222222,\"#7201a8\"],[0.3333333333333333,\"#9c179e\"],[0.4444444444444444,\"#bd3786\"],[0.5555555555555556,\"#d8576b\"],[0.6666666666666666,\"#ed7953\"],[0.7777777777777778,\"#fb9f3a\"],[0.8888888888888888,\"#fdca26\"],[1.0,\"#f0f921\"]]}],\"contourcarpet\":[{\"type\":\"contourcarpet\",\"colorbar\":{\"outlinewidth\":0,\"ticks\":\"\"}}],\"contour\":[{\"type\":\"contour\",\"colorbar\":{\"outlinewidth\":0,\"ticks\":\"\"},\"colorscale\":[[0.0,\"#0d0887\"],[0.1111111111111111,\"#46039f\"],[0.2222222222222222,\"#7201a8\"],[0.3333333333333333,\"#9c179e\"],[0.4444444444444444,\"#bd3786\"],[0.5555555555555556,\"#d8576b\"],[0.6666666666666666,\"#ed7953\"],[0.7777777777777778,\"#fb9f3a\"],[0.8888888888888888,\"#fdca26\"],[1.0,\"#f0f921\"]]}],\"surface\":[{\"type\":\"surface\",\"colorbar\":{\"outlinewidth\":0,\"ticks\":\"\"},\"colorscale\":[[0.0,\"#0d0887\"],[0.1111111111111111,\"#46039f\"],[0.2222222222222222,\"#7201a8\"],[0.3333333333333333,\"#9c179e\"],[0.4444444444444444,\"#bd3786\"],[0.5555555555555556,\"#d8576b\"],[0.6666666666666666,\"#ed7953\"],[0.7777777777777778,\"#fb9f3a\"],[0.8888888888888888,\"#fdca26\"],[1.0,\"#f0f921\"]]}],\"mesh3d\":[{\"type\":\"mesh3d\",\"colorbar\":{\"outlinewidth\":0,\"ticks\":\"\"}}],\"scatter\":[{\"fillpattern\":{\"fillmode\":\"overlay\",\"size\":10,\"solidity\":0.2},\"type\":\"scatter\"}],\"parcoords\":[{\"type\":\"parcoords\",\"line\":{\"colorbar\":{\"outlinewidth\":0,\"ticks\":\"\"}}}],\"scatterpolargl\":[{\"type\":\"scatterpolargl\",\"marker\":{\"colorbar\":{\"outlinewidth\":0,\"ticks\":\"\"}}}],\"bar\":[{\"error_x\":{\"color\":\"#2a3f5f\"},\"error_y\":{\"color\":\"#2a3f5f\"},\"marker\":{\"line\":{\"color\":\"white\",\"width\":0.5},\"pattern\":{\"fillmode\":\"overlay\",\"size\":10,\"solidity\":0.2}},\"type\":\"bar\"}],\"scattergeo\":[{\"type\":\"scattergeo\",\"marker\":{\"colorbar\":{\"outlinewidth\":0,\"ticks\":\"\"}}}],\"scatterpolar\":[{\"type\":\"scatterpolar\",\"marker\":{\"colorbar\":{\"outlinewidth\":0,\"ticks\":\"\"}}}],\"histogram\":[{\"marker\":{\"pattern\":{\"fillmode\":\"overlay\",\"size\":10,\"solidity\":0.2}},\"type\":\"histogram\"}],\"scattergl\":[{\"type\":\"scattergl\",\"marker\":{\"colorbar\":{\"outlinewidth\":0,\"ticks\":\"\"}}}],\"scatter3d\":[{\"type\":\"scatter3d\",\"line\":{\"colorbar\":{\"outlinewidth\":0,\"ticks\":\"\"}},\"marker\":{\"colorbar\":{\"outlinewidth\":0,\"ticks\":\"\"}}}],\"scattermapbox\":[{\"type\":\"scattermapbox\",\"marker\":{\"colorbar\":{\"outlinewidth\":0,\"ticks\":\"\"}}}],\"scatterternary\":[{\"type\":\"scatterternary\",\"marker\":{\"colorbar\":{\"outlinewidth\":0,\"ticks\":\"\"}}}],\"scattercarpet\":[{\"type\":\"scattercarpet\",\"marker\":{\"colorbar\":{\"outlinewidth\":0,\"ticks\":\"\"}}}],\"carpet\":[{\"aaxis\":{\"endlinecolor\":\"#2a3f5f\",\"gridcolor\":\"#C8D4E3\",\"linecolor\":\"#C8D4E3\",\"minorgridcolor\":\"#C8D4E3\",\"startlinecolor\":\"#2a3f5f\"},\"baxis\":{\"endlinecolor\":\"#2a3f5f\",\"gridcolor\":\"#C8D4E3\",\"linecolor\":\"#C8D4E3\",\"minorgridcolor\":\"#C8D4E3\",\"startlinecolor\":\"#2a3f5f\"},\"type\":\"carpet\"}],\"table\":[{\"cells\":{\"fill\":{\"color\":\"#EBF0F8\"},\"line\":{\"color\":\"white\"}},\"header\":{\"fill\":{\"color\":\"#C8D4E3\"},\"line\":{\"color\":\"white\"}},\"type\":\"table\"}],\"barpolar\":[{\"marker\":{\"line\":{\"color\":\"white\",\"width\":0.5},\"pattern\":{\"fillmode\":\"overlay\",\"size\":10,\"solidity\":0.2}},\"type\":\"barpolar\"}],\"pie\":[{\"automargin\":true,\"type\":\"pie\"}]},\"layout\":{\"autotypenumbers\":\"strict\",\"colorway\":[\"#636efa\",\"#EF553B\",\"#00cc96\",\"#ab63fa\",\"#FFA15A\",\"#19d3f3\",\"#FF6692\",\"#B6E880\",\"#FF97FF\",\"#FECB52\"],\"font\":{\"color\":\"#2a3f5f\"},\"hovermode\":\"closest\",\"hoverlabel\":{\"align\":\"left\"},\"paper_bgcolor\":\"white\",\"plot_bgcolor\":\"white\",\"polar\":{\"bgcolor\":\"white\",\"angularaxis\":{\"gridcolor\":\"#EBF0F8\",\"linecolor\":\"#EBF0F8\",\"ticks\":\"\"},\"radialaxis\":{\"gridcolor\":\"#EBF0F8\",\"linecolor\":\"#EBF0F8\",\"ticks\":\"\"}},\"ternary\":{\"bgcolor\":\"white\",\"aaxis\":{\"gridcolor\":\"#DFE8F3\",\"linecolor\":\"#A2B1C6\",\"ticks\":\"\"},\"baxis\":{\"gridcolor\":\"#DFE8F3\",\"linecolor\":\"#A2B1C6\",\"ticks\":\"\"},\"caxis\":{\"gridcolor\":\"#DFE8F3\",\"linecolor\":\"#A2B1C6\",\"ticks\":\"\"}},\"coloraxis\":{\"colorbar\":{\"outlinewidth\":0,\"ticks\":\"\"}},\"colorscale\":{\"sequential\":[[0.0,\"#0d0887\"],[0.1111111111111111,\"#46039f\"],[0.2222222222222222,\"#7201a8\"],[0.3333333333333333,\"#9c179e\"],[0.4444444444444444,\"#bd3786\"],[0.5555555555555556,\"#d8576b\"],[0.6666666666666666,\"#ed7953\"],[0.7777777777777778,\"#fb9f3a\"],[0.8888888888888888,\"#fdca26\"],[1.0,\"#f0f921\"]],\"sequentialminus\":[[0.0,\"#0d0887\"],[0.1111111111111111,\"#46039f\"],[0.2222222222222222,\"#7201a8\"],[0.3333333333333333,\"#9c179e\"],[0.4444444444444444,\"#bd3786\"],[0.5555555555555556,\"#d8576b\"],[0.6666666666666666,\"#ed7953\"],[0.7777777777777778,\"#fb9f3a\"],[0.8888888888888888,\"#fdca26\"],[1.0,\"#f0f921\"]],\"diverging\":[[0,\"#8e0152\"],[0.1,\"#c51b7d\"],[0.2,\"#de77ae\"],[0.3,\"#f1b6da\"],[0.4,\"#fde0ef\"],[0.5,\"#f7f7f7\"],[0.6,\"#e6f5d0\"],[0.7,\"#b8e186\"],[0.8,\"#7fbc41\"],[0.9,\"#4d9221\"],[1,\"#276419\"]]},\"xaxis\":{\"gridcolor\":\"#EBF0F8\",\"linecolor\":\"#EBF0F8\",\"ticks\":\"\",\"title\":{\"standoff\":15},\"zerolinecolor\":\"#EBF0F8\",\"automargin\":true,\"zerolinewidth\":2},\"yaxis\":{\"gridcolor\":\"#EBF0F8\",\"linecolor\":\"#EBF0F8\",\"ticks\":\"\",\"title\":{\"standoff\":15},\"zerolinecolor\":\"#EBF0F8\",\"automargin\":true,\"zerolinewidth\":2},\"scene\":{\"xaxis\":{\"backgroundcolor\":\"white\",\"gridcolor\":\"#DFE8F3\",\"linecolor\":\"#EBF0F8\",\"showbackground\":true,\"ticks\":\"\",\"zerolinecolor\":\"#EBF0F8\",\"gridwidth\":2},\"yaxis\":{\"backgroundcolor\":\"white\",\"gridcolor\":\"#DFE8F3\",\"linecolor\":\"#EBF0F8\",\"showbackground\":true,\"ticks\":\"\",\"zerolinecolor\":\"#EBF0F8\",\"gridwidth\":2},\"zaxis\":{\"backgroundcolor\":\"white\",\"gridcolor\":\"#DFE8F3\",\"linecolor\":\"#EBF0F8\",\"showbackground\":true,\"ticks\":\"\",\"zerolinecolor\":\"#EBF0F8\",\"gridwidth\":2}},\"shapedefaults\":{\"line\":{\"color\":\"#2a3f5f\"}},\"annotationdefaults\":{\"arrowcolor\":\"#2a3f5f\",\"arrowhead\":0,\"arrowwidth\":1},\"geo\":{\"bgcolor\":\"white\",\"landcolor\":\"white\",\"subunitcolor\":\"#C8D4E3\",\"showland\":true,\"showlakes\":true,\"lakecolor\":\"white\"},\"title\":{\"x\":0.05},\"mapbox\":{\"style\":\"light\"}}},\"scene\":{\"xaxis\":{\"title\":{\"text\":\"Last Visited Minutes\",\"font\":{\"color\":\"black\"}}},\"yaxis\":{\"title\":{\"text\":\"Average Spent on App (INR)\",\"font\":{\"color\":\"black\"}}}},\"width\":800,\"height\":800,\"autosize\":true,\"showlegend\":true,\"yaxis\":{\"title\":{\"text\":\"Average Spent on App (INR)\"}},\"xaxis\":{\"title\":{\"text\":\"Last Visited Minutes\"}}},                        {\"responsive\": true}                    ).then(function(){\n",
              "                            \n",
              "var gd = document.getElementById('f8a8fca8-3abb-467d-b333-ab487c56e123');\n",
              "var x = new MutationObserver(function (mutations, observer) {{\n",
              "        var display = window.getComputedStyle(gd).display;\n",
              "        if (!display || display === 'none') {{\n",
              "            console.log([gd, 'removed!']);\n",
              "            Plotly.purge(gd);\n",
              "            observer.disconnect();\n",
              "        }}\n",
              "}});\n",
              "\n",
              "// Listen for the removal of the full notebook cells\n",
              "var notebookContainer = gd.closest('#notebook-container');\n",
              "if (notebookContainer) {{\n",
              "    x.observe(notebookContainer, {childList: true});\n",
              "}}\n",
              "\n",
              "// Listen for the clearing of the current output cell\n",
              "var outputEl = gd.closest('.output');\n",
              "if (outputEl) {{\n",
              "    x.observe(outputEl, {childList: true});\n",
              "}}\n",
              "\n",
              "                        })                };                            </script>        </div>\n",
              "</body>\n",
              "</html>"
            ]
          },
          "metadata": {}
        }
      ]
    },
    {
      "cell_type": "markdown",
      "source": [
        "- O segmento azul mostra o segmento de usuários que o aplicativo reteve ao longo do tempo.\n",
        "\n",
        "- O segmento vermelho indica o segmento de usuários que acabaram de desinstalar o aplicativo e em breve vamos perdê-los.\n",
        "\n",
        "- E o segmento verde indica o segmento de usuários que o aplicativo perdeu.\n"
      ],
      "metadata": {
        "id": "NGstDTqBMkSH"
      }
    },
    {
      "cell_type": "markdown",
      "source": [],
      "metadata": {
        "id": "ZC0aZwMWMrzJ"
      }
    },
    {
      "cell_type": "code",
      "source": [
        "data.head()"
      ],
      "metadata": {
        "colab": {
          "base_uri": "https://localhost:8080/",
          "height": 241
        },
        "id": "3mowZXLgvq69",
        "outputId": "ccc306a3-128e-4d8b-b605-de0591646257"
      },
      "execution_count": 46,
      "outputs": [
        {
          "output_type": "execute_result",
          "data": {
            "text/plain": [
              "   userid  Average Screen Time  Average Spent on App (INR)  Left Review  \\\n",
              "0    1001                 17.0                       634.0            1   \n",
              "1    1002                  0.0                        54.0            0   \n",
              "2    1003                 37.0                       207.0            0   \n",
              "3    1004                 32.0                       445.0            1   \n",
              "4    1005                 45.0                       427.0            1   \n",
              "\n",
              "   Ratings  New Password Request  Last Visited Minutes       Status  \\\n",
              "0        9                     7                  2990    Installed   \n",
              "1        4                     8                 24008  Uninstalled   \n",
              "2        8                     5                   971    Installed   \n",
              "3        6                     2                   799    Installed   \n",
              "4        5                     6                  3668    Installed   \n",
              "\n",
              "          Segments  \n",
              "0         Retained  \n",
              "1  Needs Attention  \n",
              "2         Retained  \n",
              "3         Retained  \n",
              "4         Retained  "
            ],
            "text/html": [
              "\n",
              "  <div id=\"df-8c8476e4-b590-482b-b0cc-0f42476086cd\" class=\"colab-df-container\">\n",
              "    <div>\n",
              "<style scoped>\n",
              "    .dataframe tbody tr th:only-of-type {\n",
              "        vertical-align: middle;\n",
              "    }\n",
              "\n",
              "    .dataframe tbody tr th {\n",
              "        vertical-align: top;\n",
              "    }\n",
              "\n",
              "    .dataframe thead th {\n",
              "        text-align: right;\n",
              "    }\n",
              "</style>\n",
              "<table border=\"1\" class=\"dataframe\">\n",
              "  <thead>\n",
              "    <tr style=\"text-align: right;\">\n",
              "      <th></th>\n",
              "      <th>userid</th>\n",
              "      <th>Average Screen Time</th>\n",
              "      <th>Average Spent on App (INR)</th>\n",
              "      <th>Left Review</th>\n",
              "      <th>Ratings</th>\n",
              "      <th>New Password Request</th>\n",
              "      <th>Last Visited Minutes</th>\n",
              "      <th>Status</th>\n",
              "      <th>Segments</th>\n",
              "    </tr>\n",
              "  </thead>\n",
              "  <tbody>\n",
              "    <tr>\n",
              "      <th>0</th>\n",
              "      <td>1001</td>\n",
              "      <td>17.0</td>\n",
              "      <td>634.0</td>\n",
              "      <td>1</td>\n",
              "      <td>9</td>\n",
              "      <td>7</td>\n",
              "      <td>2990</td>\n",
              "      <td>Installed</td>\n",
              "      <td>Retained</td>\n",
              "    </tr>\n",
              "    <tr>\n",
              "      <th>1</th>\n",
              "      <td>1002</td>\n",
              "      <td>0.0</td>\n",
              "      <td>54.0</td>\n",
              "      <td>0</td>\n",
              "      <td>4</td>\n",
              "      <td>8</td>\n",
              "      <td>24008</td>\n",
              "      <td>Uninstalled</td>\n",
              "      <td>Needs Attention</td>\n",
              "    </tr>\n",
              "    <tr>\n",
              "      <th>2</th>\n",
              "      <td>1003</td>\n",
              "      <td>37.0</td>\n",
              "      <td>207.0</td>\n",
              "      <td>0</td>\n",
              "      <td>8</td>\n",
              "      <td>5</td>\n",
              "      <td>971</td>\n",
              "      <td>Installed</td>\n",
              "      <td>Retained</td>\n",
              "    </tr>\n",
              "    <tr>\n",
              "      <th>3</th>\n",
              "      <td>1004</td>\n",
              "      <td>32.0</td>\n",
              "      <td>445.0</td>\n",
              "      <td>1</td>\n",
              "      <td>6</td>\n",
              "      <td>2</td>\n",
              "      <td>799</td>\n",
              "      <td>Installed</td>\n",
              "      <td>Retained</td>\n",
              "    </tr>\n",
              "    <tr>\n",
              "      <th>4</th>\n",
              "      <td>1005</td>\n",
              "      <td>45.0</td>\n",
              "      <td>427.0</td>\n",
              "      <td>1</td>\n",
              "      <td>5</td>\n",
              "      <td>6</td>\n",
              "      <td>3668</td>\n",
              "      <td>Installed</td>\n",
              "      <td>Retained</td>\n",
              "    </tr>\n",
              "  </tbody>\n",
              "</table>\n",
              "</div>\n",
              "    <div class=\"colab-df-buttons\">\n",
              "\n",
              "  <div class=\"colab-df-container\">\n",
              "    <button class=\"colab-df-convert\" onclick=\"convertToInteractive('df-8c8476e4-b590-482b-b0cc-0f42476086cd')\"\n",
              "            title=\"Convert this dataframe to an interactive table.\"\n",
              "            style=\"display:none;\">\n",
              "\n",
              "  <svg xmlns=\"http://www.w3.org/2000/svg\" height=\"24px\" viewBox=\"0 -960 960 960\">\n",
              "    <path d=\"M120-120v-720h720v720H120Zm60-500h600v-160H180v160Zm220 220h160v-160H400v160Zm0 220h160v-160H400v160ZM180-400h160v-160H180v160Zm440 0h160v-160H620v160ZM180-180h160v-160H180v160Zm440 0h160v-160H620v160Z\"/>\n",
              "  </svg>\n",
              "    </button>\n",
              "\n",
              "  <style>\n",
              "    .colab-df-container {\n",
              "      display:flex;\n",
              "      gap: 12px;\n",
              "    }\n",
              "\n",
              "    .colab-df-convert {\n",
              "      background-color: #E8F0FE;\n",
              "      border: none;\n",
              "      border-radius: 50%;\n",
              "      cursor: pointer;\n",
              "      display: none;\n",
              "      fill: #1967D2;\n",
              "      height: 32px;\n",
              "      padding: 0 0 0 0;\n",
              "      width: 32px;\n",
              "    }\n",
              "\n",
              "    .colab-df-convert:hover {\n",
              "      background-color: #E2EBFA;\n",
              "      box-shadow: 0px 1px 2px rgba(60, 64, 67, 0.3), 0px 1px 3px 1px rgba(60, 64, 67, 0.15);\n",
              "      fill: #174EA6;\n",
              "    }\n",
              "\n",
              "    .colab-df-buttons div {\n",
              "      margin-bottom: 4px;\n",
              "    }\n",
              "\n",
              "    [theme=dark] .colab-df-convert {\n",
              "      background-color: #3B4455;\n",
              "      fill: #D2E3FC;\n",
              "    }\n",
              "\n",
              "    [theme=dark] .colab-df-convert:hover {\n",
              "      background-color: #434B5C;\n",
              "      box-shadow: 0px 1px 3px 1px rgba(0, 0, 0, 0.15);\n",
              "      filter: drop-shadow(0px 1px 2px rgba(0, 0, 0, 0.3));\n",
              "      fill: #FFFFFF;\n",
              "    }\n",
              "  </style>\n",
              "\n",
              "    <script>\n",
              "      const buttonEl =\n",
              "        document.querySelector('#df-8c8476e4-b590-482b-b0cc-0f42476086cd button.colab-df-convert');\n",
              "      buttonEl.style.display =\n",
              "        google.colab.kernel.accessAllowed ? 'block' : 'none';\n",
              "\n",
              "      async function convertToInteractive(key) {\n",
              "        const element = document.querySelector('#df-8c8476e4-b590-482b-b0cc-0f42476086cd');\n",
              "        const dataTable =\n",
              "          await google.colab.kernel.invokeFunction('convertToInteractive',\n",
              "                                                    [key], {});\n",
              "        if (!dataTable) return;\n",
              "\n",
              "        const docLinkHtml = 'Like what you see? Visit the ' +\n",
              "          '<a target=\"_blank\" href=https://colab.research.google.com/notebooks/data_table.ipynb>data table notebook</a>'\n",
              "          + ' to learn more about interactive tables.';\n",
              "        element.innerHTML = '';\n",
              "        dataTable['output_type'] = 'display_data';\n",
              "        await google.colab.output.renderOutput(dataTable, element);\n",
              "        const docLink = document.createElement('div');\n",
              "        docLink.innerHTML = docLinkHtml;\n",
              "        element.appendChild(docLink);\n",
              "      }\n",
              "    </script>\n",
              "  </div>\n",
              "\n",
              "\n",
              "<div id=\"df-41987f5f-78cc-46e4-9aaa-550caf29d983\">\n",
              "  <button class=\"colab-df-quickchart\" onclick=\"quickchart('df-41987f5f-78cc-46e4-9aaa-550caf29d983')\"\n",
              "            title=\"Suggest charts\"\n",
              "            style=\"display:none;\">\n",
              "\n",
              "<svg xmlns=\"http://www.w3.org/2000/svg\" height=\"24px\"viewBox=\"0 0 24 24\"\n",
              "     width=\"24px\">\n",
              "    <g>\n",
              "        <path d=\"M19 3H5c-1.1 0-2 .9-2 2v14c0 1.1.9 2 2 2h14c1.1 0 2-.9 2-2V5c0-1.1-.9-2-2-2zM9 17H7v-7h2v7zm4 0h-2V7h2v10zm4 0h-2v-4h2v4z\"/>\n",
              "    </g>\n",
              "</svg>\n",
              "  </button>\n",
              "\n",
              "<style>\n",
              "  .colab-df-quickchart {\n",
              "      --bg-color: #E8F0FE;\n",
              "      --fill-color: #1967D2;\n",
              "      --hover-bg-color: #E2EBFA;\n",
              "      --hover-fill-color: #174EA6;\n",
              "      --disabled-fill-color: #AAA;\n",
              "      --disabled-bg-color: #DDD;\n",
              "  }\n",
              "\n",
              "  [theme=dark] .colab-df-quickchart {\n",
              "      --bg-color: #3B4455;\n",
              "      --fill-color: #D2E3FC;\n",
              "      --hover-bg-color: #434B5C;\n",
              "      --hover-fill-color: #FFFFFF;\n",
              "      --disabled-bg-color: #3B4455;\n",
              "      --disabled-fill-color: #666;\n",
              "  }\n",
              "\n",
              "  .colab-df-quickchart {\n",
              "    background-color: var(--bg-color);\n",
              "    border: none;\n",
              "    border-radius: 50%;\n",
              "    cursor: pointer;\n",
              "    display: none;\n",
              "    fill: var(--fill-color);\n",
              "    height: 32px;\n",
              "    padding: 0;\n",
              "    width: 32px;\n",
              "  }\n",
              "\n",
              "  .colab-df-quickchart:hover {\n",
              "    background-color: var(--hover-bg-color);\n",
              "    box-shadow: 0 1px 2px rgba(60, 64, 67, 0.3), 0 1px 3px 1px rgba(60, 64, 67, 0.15);\n",
              "    fill: var(--button-hover-fill-color);\n",
              "  }\n",
              "\n",
              "  .colab-df-quickchart-complete:disabled,\n",
              "  .colab-df-quickchart-complete:disabled:hover {\n",
              "    background-color: var(--disabled-bg-color);\n",
              "    fill: var(--disabled-fill-color);\n",
              "    box-shadow: none;\n",
              "  }\n",
              "\n",
              "  .colab-df-spinner {\n",
              "    border: 2px solid var(--fill-color);\n",
              "    border-color: transparent;\n",
              "    border-bottom-color: var(--fill-color);\n",
              "    animation:\n",
              "      spin 1s steps(1) infinite;\n",
              "  }\n",
              "\n",
              "  @keyframes spin {\n",
              "    0% {\n",
              "      border-color: transparent;\n",
              "      border-bottom-color: var(--fill-color);\n",
              "      border-left-color: var(--fill-color);\n",
              "    }\n",
              "    20% {\n",
              "      border-color: transparent;\n",
              "      border-left-color: var(--fill-color);\n",
              "      border-top-color: var(--fill-color);\n",
              "    }\n",
              "    30% {\n",
              "      border-color: transparent;\n",
              "      border-left-color: var(--fill-color);\n",
              "      border-top-color: var(--fill-color);\n",
              "      border-right-color: var(--fill-color);\n",
              "    }\n",
              "    40% {\n",
              "      border-color: transparent;\n",
              "      border-right-color: var(--fill-color);\n",
              "      border-top-color: var(--fill-color);\n",
              "    }\n",
              "    60% {\n",
              "      border-color: transparent;\n",
              "      border-right-color: var(--fill-color);\n",
              "    }\n",
              "    80% {\n",
              "      border-color: transparent;\n",
              "      border-right-color: var(--fill-color);\n",
              "      border-bottom-color: var(--fill-color);\n",
              "    }\n",
              "    90% {\n",
              "      border-color: transparent;\n",
              "      border-bottom-color: var(--fill-color);\n",
              "    }\n",
              "  }\n",
              "</style>\n",
              "\n",
              "  <script>\n",
              "    async function quickchart(key) {\n",
              "      const quickchartButtonEl =\n",
              "        document.querySelector('#' + key + ' button');\n",
              "      quickchartButtonEl.disabled = true;  // To prevent multiple clicks.\n",
              "      quickchartButtonEl.classList.add('colab-df-spinner');\n",
              "      try {\n",
              "        const charts = await google.colab.kernel.invokeFunction(\n",
              "            'suggestCharts', [key], {});\n",
              "      } catch (error) {\n",
              "        console.error('Error during call to suggestCharts:', error);\n",
              "      }\n",
              "      quickchartButtonEl.classList.remove('colab-df-spinner');\n",
              "      quickchartButtonEl.classList.add('colab-df-quickchart-complete');\n",
              "    }\n",
              "    (() => {\n",
              "      let quickchartButtonEl =\n",
              "        document.querySelector('#df-41987f5f-78cc-46e4-9aaa-550caf29d983 button');\n",
              "      quickchartButtonEl.style.display =\n",
              "        google.colab.kernel.accessAllowed ? 'block' : 'none';\n",
              "    })();\n",
              "  </script>\n",
              "</div>\n",
              "\n",
              "    </div>\n",
              "  </div>\n"
            ],
            "application/vnd.google.colaboratory.intrinsic+json": {
              "type": "dataframe",
              "variable_name": "data",
              "summary": "{\n  \"name\": \"data\",\n  \"rows\": 999,\n  \"fields\": [\n    {\n      \"column\": \"userid\",\n      \"properties\": {\n        \"dtype\": \"number\",\n        \"std\": 288,\n        \"min\": 1001,\n        \"max\": 1999,\n        \"num_unique_values\": 999,\n        \"samples\": [\n          1454,\n          1794,\n          1210\n        ],\n        \"semantic_type\": \"\",\n        \"description\": \"\"\n      }\n    },\n    {\n      \"column\": \"Average Screen Time\",\n      \"properties\": {\n        \"dtype\": \"number\",\n        \"std\": 14.23541505652049,\n        \"min\": 0.0,\n        \"max\": 50.0,\n        \"num_unique_values\": 51,\n        \"samples\": [\n          31.0,\n          23.0,\n          29.0\n        ],\n        \"semantic_type\": \"\",\n        \"description\": \"\"\n      }\n    },\n    {\n      \"column\": \"Average Spent on App (INR)\",\n      \"properties\": {\n        \"dtype\": \"number\",\n        \"std\": 312.36569475074697,\n        \"min\": 0.0,\n        \"max\": 998.0,\n        \"num_unique_values\": 606,\n        \"samples\": [\n          253.0,\n          660.0,\n          974.0\n        ],\n        \"semantic_type\": \"\",\n        \"description\": \"\"\n      }\n    },\n    {\n      \"column\": \"Left Review\",\n      \"properties\": {\n        \"dtype\": \"number\",\n        \"std\": 0,\n        \"min\": 0,\n        \"max\": 1,\n        \"num_unique_values\": 2,\n        \"samples\": [\n          0,\n          1\n        ],\n        \"semantic_type\": \"\",\n        \"description\": \"\"\n      }\n    },\n    {\n      \"column\": \"Ratings\",\n      \"properties\": {\n        \"dtype\": \"number\",\n        \"std\": 2,\n        \"min\": 0,\n        \"max\": 10,\n        \"num_unique_values\": 11,\n        \"samples\": [\n          2,\n          9\n        ],\n        \"semantic_type\": \"\",\n        \"description\": \"\"\n      }\n    },\n    {\n      \"column\": \"New Password Request\",\n      \"properties\": {\n        \"dtype\": \"number\",\n        \"std\": 2,\n        \"min\": 1,\n        \"max\": 15,\n        \"num_unique_values\": 15,\n        \"samples\": [\n          15,\n          13\n        ],\n        \"semantic_type\": \"\",\n        \"description\": \"\"\n      }\n    },\n    {\n      \"column\": \"Last Visited Minutes\",\n      \"properties\": {\n        \"dtype\": \"number\",\n        \"std\": 8592,\n        \"min\": 201,\n        \"max\": 49715,\n        \"num_unique_values\": 938,\n        \"samples\": [\n          1847,\n          542\n        ],\n        \"semantic_type\": \"\",\n        \"description\": \"\"\n      }\n    },\n    {\n      \"column\": \"Status\",\n      \"properties\": {\n        \"dtype\": \"category\",\n        \"num_unique_values\": 2,\n        \"samples\": [\n          \"Uninstalled\",\n          \"Installed\"\n        ],\n        \"semantic_type\": \"\",\n        \"description\": \"\"\n      }\n    },\n    {\n      \"column\": \"Segments\",\n      \"properties\": {\n        \"dtype\": \"category\",\n        \"num_unique_values\": 3,\n        \"samples\": [\n          \"Retained\",\n          \"Needs Attention\"\n        ],\n        \"semantic_type\": \"\",\n        \"description\": \"\"\n      }\n    }\n  ]\n}"
            }
          },
          "metadata": {},
          "execution_count": 46
        }
      ]
    },
    {
      "cell_type": "code",
      "source": [
        "# Filtrar usuários que requerem atenção\n",
        "usuarios_atencao = data[data['Segments'] == 'Needs Attention'].copy()\n",
        "\n",
        "# Exibir os primeiros registros (opcional)\n",
        "print(usuarios_atencao.head())\n"
      ],
      "metadata": {
        "colab": {
          "base_uri": "https://localhost:8080/"
        },
        "id": "_9aG8yMVL4NP",
        "outputId": "ba3aa782-9ba0-4314-97e0-8dd633154506"
      },
      "execution_count": 47,
      "outputs": [
        {
          "output_type": "stream",
          "name": "stdout",
          "text": [
            "     userid  Average Screen Time  Average Spent on App (INR)  Left Review  \\\n",
            "1      1002                  0.0                        54.0            0   \n",
            "68     1069                  0.0                        48.0            1   \n",
            "109    1110                  0.0                        23.0            0   \n",
            "114    1115                  5.0                        20.0            1   \n",
            "122    1123                  3.0                        44.0            1   \n",
            "\n",
            "     Ratings  New Password Request  Last Visited Minutes       Status  \\\n",
            "1          4                     8                 24008  Uninstalled   \n",
            "68         4                    10                 26405  Uninstalled   \n",
            "109        1                    15                 22915  Uninstalled   \n",
            "114        5                     5                 13331    Installed   \n",
            "122        0                    13                 28046  Uninstalled   \n",
            "\n",
            "            Segments  \n",
            "1    Needs Attention  \n",
            "68   Needs Attention  \n",
            "109  Needs Attention  \n",
            "114  Needs Attention  \n",
            "122  Needs Attention  \n"
          ]
        }
      ]
    },
    {
      "cell_type": "markdown",
      "source": [
        "## RESUMO"
      ],
      "metadata": {
        "id": "lQPTZvGUzvbu"
      }
    },
    {
      "cell_type": "code",
      "source": [
        "# Quantidade de usuários por segmento\n",
        "segment_counts = data['Segments'].value_counts()\n",
        "\n",
        "# Proporção percentual por segmento\n",
        "segment_percent = data['Segments'].value_counts(normalize=True) * 100\n",
        "\n",
        "# Juntando em um DataFrame\n",
        "resumo_segmentos = pd.DataFrame({\n",
        "    'Quantidade de Usuários': segment_counts,\n",
        "    'Percentual (%)': segment_percent.round(2)\n",
        "})\n",
        "\n",
        "print(resumo_segmentos)\n"
      ],
      "metadata": {
        "colab": {
          "base_uri": "https://localhost:8080/"
        },
        "id": "GkUiPNvCzyFy",
        "outputId": "3fc289e1-2be7-4772-e42d-71bd68ac2947"
      },
      "execution_count": 48,
      "outputs": [
        {
          "output_type": "stream",
          "name": "stdout",
          "text": [
            "                 Quantidade de Usuários  Percentual (%)\n",
            "Segments                                               \n",
            "Retained                            910           91.09\n",
            "Churn                                45            4.50\n",
            "Needs Attention                      44            4.40\n"
          ]
        }
      ]
    },
    {
      "cell_type": "code",
      "source": [
        "# Características médias por grupo\n",
        "caracteristicas_medias = data.groupby(\"Segments\")[[\n",
        "    \"Average Screen Time\",\n",
        "    \"Average Spent on App (INR)\",\n",
        "    \"Left Review\",\n",
        "    \"Ratings\",\n",
        "    \"New Password Request\",\n",
        "    \"Last Visited Minutes\"\n",
        "]].mean().round(2)\n",
        "\n",
        "print(caracteristicas_medias)\n"
      ],
      "metadata": {
        "colab": {
          "base_uri": "https://localhost:8080/"
        },
        "id": "Z4AduD9B0P67",
        "outputId": "36aecfa4-a683-4bc1-d7fa-76d847e40f4c"
      },
      "execution_count": 49,
      "outputs": [
        {
          "output_type": "stream",
          "name": "stdout",
          "text": [
            "                 Average Screen Time  Average Spent on App (INR)  Left Review  \\\n",
            "Segments                                                                        \n",
            "Churn                           2.49                       53.33         0.53   \n",
            "Needs Attention                 2.14                       50.91         0.39   \n",
            "Retained                       26.55                      460.83         0.50   \n",
            "\n",
            "                 Ratings  New Password Request  Last Visited Minutes  \n",
            "Segments                                                              \n",
            "Churn               2.93                  9.49              39574.76  \n",
            "Needs Attention     2.23                  9.20              20277.30  \n",
            "Retained            6.90                  4.51               2673.32  \n"
          ]
        }
      ]
    },
    {
      "cell_type": "code",
      "source": [
        "# Cruzamento entre segmentos e status do app\n",
        "status_por_segmento = pd.crosstab(data['Segments'], data['Status'], normalize='index') * 100\n",
        "status_por_segmento = status_por_segmento.round(2)\n",
        "\n",
        "print(status_por_segmento)\n"
      ],
      "metadata": {
        "colab": {
          "base_uri": "https://localhost:8080/"
        },
        "id": "JzFoIG8z0aOg",
        "outputId": "ace84bc8-d2d1-4e36-c4c6-367b64772de0"
      },
      "execution_count": 50,
      "outputs": [
        {
          "output_type": "stream",
          "name": "stdout",
          "text": [
            "Status           Installed  Uninstalled\n",
            "Segments                               \n",
            "Churn                 0.00       100.00\n",
            "Needs Attention      13.64        86.36\n",
            "Retained            100.00         0.00\n"
          ]
        }
      ]
    },
    {
      "cell_type": "markdown",
      "source": [
        "#### Exportar relatório"
      ],
      "metadata": {
        "id": "BfSz5JU11vc0"
      }
    },
    {
      "cell_type": "code",
      "source": [
        "with pd.ExcelWriter(\"relatorio_segmentacao_usuarios.xlsx\") as writer:\n",
        "    resumo_segmentos.to_excel(writer, sheet_name=\"Resumo Segmentos\")\n",
        "    caracteristicas_medias.to_excel(writer, sheet_name=\"Médias por Segmento\")\n",
        "    status_por_segmento.to_excel(writer, sheet_name=\"Status por Segmento\")\n"
      ],
      "metadata": {
        "id": "El4tzu_s0_WN"
      },
      "execution_count": 51,
      "outputs": []
    }
  ]
}